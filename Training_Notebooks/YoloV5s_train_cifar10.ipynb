{
  "nbformat": 4,
  "nbformat_minor": 0,
  "metadata": {
    "colab": {
      "provenance": []
    },
    "kernelspec": {
      "name": "python3",
      "display_name": "Python 3"
    },
    "language_info": {
      "name": "python"
    }
  },
  "cells": [
    {
      "cell_type": "markdown",
      "source": [
        "# YOLOv5 Classification Tutorial\n",
        "\n",
        "YOLOv5 supports classification tasks too. This is the official YOLOv5 classification notebook tutorial. YOLOv5 is maintained by [Ultralytics](https://github.com/ultralytics/yolov5).\n",
        "\n",
        "This notebook covers:\n",
        "\n",
        "*   Inference with out-of-the-box YOLOv5 classification on ImageNet\n",
        "*  [Training YOLOv5 classification](https://blog.roboflow.com//train-YOLOv5-classification-custom-data) on custom data\n",
        "\n",
        "*Looking for custom data? Explore over 66M community datasets on [Roboflow Universe](https://universe.roboflow.com).*\n",
        "\n",
        "This notebook was created with Google Colab. [Click here](https://colab.research.google.com/drive/1FiSNz9f_nT8aFtDEU3iDAQKlPT8SCVni?usp=sharing) to run it."
      ],
      "metadata": {
        "id": "5GYQX3of4QiW"
      }
    },
    {
      "cell_type": "markdown",
      "source": [
        "# Setup\n",
        "\n",
        "Pull in respective libraries to prepare the notebook environment."
      ],
      "metadata": {
        "id": "-PJ8vlYXbWtN"
      }
    },
    {
      "cell_type": "code",
      "source": [
        "# save the working directory path for later use\n",
        "\n",
        "import os\n",
        "HOME = os.getcwd()\n",
        "print(HOME)"
      ],
      "metadata": {
        "id": "6W8YIH8ft0D5",
        "outputId": "6f1ff1cb-a7b8-4934-c1fd-e99a0321a67a",
        "colab": {
          "base_uri": "https://localhost:8080/"
        }
      },
      "execution_count": null,
      "outputs": [
        {
          "output_type": "stream",
          "name": "stdout",
          "text": [
            "/content\n"
          ]
        }
      ]
    },
    {
      "cell_type": "code",
      "execution_count": null,
      "metadata": {
        "id": "pIM7fOwm8A7l",
        "outputId": "e721a5de-6f2a-491b-c274-88053867a97c",
        "colab": {
          "base_uri": "https://localhost:8080/"
        }
      },
      "outputs": [
        {
          "output_type": "stream",
          "name": "stderr",
          "text": [
            "YOLOv5 🚀 v7.0-397-gde62f93c Python-3.11.11 torch-2.5.1+cu121 CPU\n"
          ]
        },
        {
          "output_type": "stream",
          "name": "stdout",
          "text": [
            "Setup complete ✅ (2 CPUs, 12.7 GB RAM, 31.1/107.7 GB disk)\n"
          ]
        }
      ],
      "source": [
        "!git clone https://github.com/ultralytics/yolov5  # clone\n",
        "%cd yolov5\n",
        "%pip install -qr requirements.txt  # install\n",
        "\n",
        "import torch\n",
        "import utils\n",
        "display = utils.notebook_init()  # checks"
      ]
    },
    {
      "cell_type": "markdown",
      "source": [
        "# 1. Infer on ImageNet\n",
        "\n",
        "To demonstrate YOLOv5 classification, we'll leverage an already trained model. In this case, we'll download the ImageNet trained models pretrained on ImageNet using YOLOv5 Utils."
      ],
      "metadata": {
        "id": "i_DrUi2nmF40"
      }
    },
    {
      "cell_type": "code",
      "source": [
        "from utils.downloads import attempt_download\n",
        "\n",
        "p5 = ['n', 's', 'm', 'l', 'x']  # P5 models\n",
        "cls = [f'{x}-cls' for x in p5]  # classification models\n",
        "\n",
        "for x in cls:\n",
        "    attempt_download(f'weights/yolov5{x}.pt')"
      ],
      "metadata": {
        "id": "o2scLEh6EYnL",
        "outputId": "ec7bc0ca-5559-403f-8d50-8a2196755d0b",
        "colab": {
          "base_uri": "https://localhost:8080/"
        }
      },
      "execution_count": null,
      "outputs": [
        {
          "output_type": "stream",
          "name": "stderr",
          "text": [
            "Downloading https://github.com/ultralytics/yolov5/releases/download/v7.0/yolov5n-cls.pt to weights/yolov5n-cls.pt...\n",
            "100%|██████████| 4.87M/4.87M [00:00<00:00, 38.6MB/s]\n",
            "\n",
            "Downloading https://github.com/ultralytics/yolov5/releases/download/v7.0/yolov5s-cls.pt to weights/yolov5s-cls.pt...\n",
            "100%|██████████| 10.5M/10.5M [00:00<00:00, 74.7MB/s]\n",
            "\n",
            "Downloading https://github.com/ultralytics/yolov5/releases/download/v7.0/yolov5m-cls.pt to weights/yolov5m-cls.pt...\n",
            "100%|██████████| 24.9M/24.9M [00:00<00:00, 48.2MB/s]\n",
            "\n",
            "Downloading https://github.com/ultralytics/yolov5/releases/download/v7.0/yolov5l-cls.pt to weights/yolov5l-cls.pt...\n",
            "100%|██████████| 50.9M/50.9M [00:00<00:00, 66.5MB/s]\n",
            "\n",
            "Downloading https://github.com/ultralytics/yolov5/releases/download/v7.0/yolov5x-cls.pt to weights/yolov5x-cls.pt...\n",
            "100%|██████████| 92.0M/92.0M [00:01<00:00, 80.1MB/s]\n",
            "\n"
          ]
        }
      ]
    },
    {
      "cell_type": "markdown",
      "source": [
        "Now, we can infer on an example image from the ImageNet dataset."
      ],
      "metadata": {
        "id": "Fn2_a38DmZ2H"
      }
    },
    {
      "cell_type": "code",
      "source": [
        "PATH_TO_IMAGE = f\"{HOME}/bananas.jpg\"\n",
        "!curl https://i.imgur.com/OczPfaz.jpg -o {PATH_TO_IMAGE}"
      ],
      "metadata": {
        "id": "M8VGa2t8tpQm",
        "outputId": "d701826f-67a7-4c8b-907d-d2ffce0e9023",
        "colab": {
          "base_uri": "https://localhost:8080/"
        }
      },
      "execution_count": null,
      "outputs": [
        {
          "output_type": "stream",
          "name": "stdout",
          "text": [
            "  % Total    % Received % Xferd  Average Speed   Time    Time     Time  Current\n",
            "                                 Dload  Upload   Total   Spent    Left  Speed\n",
            "\r  0     0    0     0    0     0      0      0 --:--:-- --:--:-- --:--:--     0\r  0     0    0     0    0     0      0      0 --:--:-- --:--:-- --:--:--     0\r100  408k  100  408k    0     0  2046k      0 --:--:-- --:--:-- --:--:-- 2044k\n"
          ]
        }
      ]
    },
    {
      "cell_type": "code",
      "source": [
        "# Infer using classify/predict.py\n",
        "!python classify/predict.py --weights ./weigths/yolov5s-cls.pt --source bananas.jpg"
      ],
      "metadata": {
        "id": "qqxF5pHCrLd3",
        "outputId": "885a9036-ec3f-4496-84ca-e75fcaf29134",
        "colab": {
          "base_uri": "https://localhost:8080/"
        }
      },
      "execution_count": null,
      "outputs": [
        {
          "output_type": "stream",
          "name": "stdout",
          "text": [
            "\u001b[34m\u001b[1mclassify/predict: \u001b[0mweights=['./weigths/yolov5s-cls.pt'], source=bananas.jpg, data=data/coco128.yaml, imgsz=[224, 224], device=, view_img=False, save_txt=False, nosave=False, augment=False, visualize=False, update=False, project=runs/predict-cls, name=exp, exist_ok=False, half=False, dnn=False, vid_stride=1\n",
            "YOLOv5 🚀 v7.0-397-gde62f93c Python-3.11.11 torch-2.5.1+cu121 CPU\n",
            "\n",
            "Downloading https://github.com/ultralytics/yolov5/releases/download/v7.0/yolov5s-cls.pt to weigths/yolov5s-cls.pt...\n",
            "100% 10.5M/10.5M [00:00<00:00, 91.2MB/s]\n",
            "\n",
            "Fusing layers... \n",
            "Model summary: 117 layers, 5447688 parameters, 0 gradients, 11.4 GFLOPs\n",
            "image 1/1 /content/yolov5/bananas.jpg: 224x224 banana 0.96, zucchini 0.00, acorn squash 0.00, spaghetti squash 0.00, green mamba 0.00, 47.1ms\n",
            "Speed: 0.1ms pre-process, 47.1ms inference, 6.0ms NMS per image at shape (1, 3, 224, 224)\n",
            "Results saved to \u001b[1mruns/predict-cls/exp\u001b[0m\n"
          ]
        }
      ]
    },
    {
      "cell_type": "markdown",
      "source": [
        "From the output, we can see the ImageNet trained model correctly predicts the class `banana` with `0.95` confidence."
      ],
      "metadata": {
        "id": "yQmj7IXqo3kk"
      }
    },
    {
      "cell_type": "markdown",
      "source": [
        "# 2. Train On Custom Data\n",
        "\n",
        "To train on custom data, we need to prepare a dataset with custom labels.\n",
        "\n",
        "To prepare custom data, we'll use [Roboflow](https://roboflow.com). Roboflow enables easy dataset prep with your team, including labeling, formatting into the right export format, deploying, and active learning with a `pip` package.\n",
        "\n",
        "If you need custom data, there are over 66M open source images from the community on [Roboflow Universe](https://universe.roboflow.com).\n",
        "\n",
        "(For more guidance, here's a detailed blog on [training YOLOv5 classification on custom data](https://blog.roboflow.com/train-YOLOv5-classification-custom-data).)\n",
        "\n",
        "\n",
        "Create a free Roboflow account, upload your data, and label."
      ],
      "metadata": {
        "id": "9bXHHYeVDCXg"
      }
    },
    {
      "cell_type": "markdown",
      "source": [
        "### Load Custom Dataset\n",
        "\n",
        "Next, we'll export our dataset into the right directory structure for training YOLOv5 classification to load into this notebook. Select the `Export` button at the top of the version page, `Folder Structure` type, and `show download code`.\n",
        "\n",
        "The ensures all our directories are in the right format:\n",
        "\n",
        "```\n",
        "dataset\n",
        "├── train\n",
        "│   ├── class-one\n",
        "│   │   ├── IMG_123.jpg\n",
        "│   └── class-two\n",
        "│       ├── IMG_456.jpg\n",
        "├── valid\n",
        "│   ├── class-one\n",
        "│   │   ├── IMG_789.jpg\n",
        "│   └── class-two\n",
        "│       ├── IMG_101.jpg\n",
        "├── test\n",
        "│   ├── class-one\n",
        "│   │   ├── IMG_121.jpg\n",
        "│   └── class-two\n",
        "│       ├── IMG_341.jpg\n",
        "```\n",
        "\n",
        "![](https://i.imgur.com/BF9BNR8.gif)\n",
        "\n",
        "\n",
        "Copy and paste that snippet into the cell below."
      ],
      "metadata": {
        "id": "Cu6-lrukD6Hc"
      }
    },
    {
      "cell_type": "code",
      "source": [
        "# Ensure we're in the right directory to download our custom dataset\n",
        "import os\n",
        "os.makedirs(\"../datasets/\", exist_ok=True)\n",
        "%cd ../datasets/"
      ],
      "metadata": {
        "id": "6IIgJbP7G6Th",
        "outputId": "30d40ffc-5fa2-4e22-c459-0a7fb7a4d72b",
        "colab": {
          "base_uri": "https://localhost:8080/"
        }
      },
      "execution_count": null,
      "outputs": [
        {
          "output_type": "stream",
          "name": "stdout",
          "text": [
            "/content/datasets\n"
          ]
        }
      ]
    },
    {
      "cell_type": "code",
      "source": [
        "!pip install roboflow==1.1.48 -q"
      ],
      "metadata": {
        "id": "gnmezvmAucvw",
        "outputId": "c8ef017e-3657-45e9-a8d9-f739b794ad24",
        "colab": {
          "base_uri": "https://localhost:8080/"
        }
      },
      "execution_count": null,
      "outputs": [
        {
          "output_type": "stream",
          "name": "stdout",
          "text": [
            "\u001b[?25l   \u001b[90m━━━━━━━━━━━━━━━━━━━━━━━━━━━━━━━━━━━━━━━━\u001b[0m \u001b[32m0.0/80.3 kB\u001b[0m \u001b[31m?\u001b[0m eta \u001b[36m-:--:--\u001b[0m\r\u001b[2K   \u001b[90m━━━━━━━━━━━━━━━━━━━━━━━━━━━━━━━━━━━━━━━━\u001b[0m \u001b[32m80.3/80.3 kB\u001b[0m \u001b[31m4.2 MB/s\u001b[0m eta \u001b[36m0:00:00\u001b[0m\n",
            "\u001b[?25h\u001b[?25l   \u001b[90m━━━━━━━━━━━━━━━━━━━━━━━━━━━━━━━━━━━━━━━━\u001b[0m \u001b[32m0.0/66.8 kB\u001b[0m \u001b[31m?\u001b[0m eta \u001b[36m-:--:--\u001b[0m\r\u001b[2K   \u001b[90m━━━━━━━━━━━━━━━━━━━━━━━━━━━━━━━━━━━━━━━━\u001b[0m \u001b[32m66.8/66.8 kB\u001b[0m \u001b[31m4.6 MB/s\u001b[0m eta \u001b[36m0:00:00\u001b[0m\n",
            "\u001b[?25h"
          ]
        }
      ]
    },
    {
      "cell_type": "code",
      "source": [
        "# REPLACE the below with your exported code snippet from above   LO MEU ES LO QUE ESTÀ DESCOMENTAT\n",
        "#import roboflow\n",
        "#roboflow.login()\n",
        "\n",
        "#rf = roboflow.Roboflow()\n",
        "#project = rf.workspace(\"model-examples\").project(\"banana-ripeness-classification-3dyre\")\n",
        "#dataset = project.version(1).download(\"folder\")\n",
        "\n",
        "#!pip install roboflow  YA L'HEM INSTALAT DALT\n",
        "\n",
        "from roboflow import Roboflow\n",
        "rf = Roboflow(api_key=\"ShU2BIxBHn2PHbyoS8LS\")\n",
        "project = rf.workspace(\"tfg-25oz4\").project(\"cifar10_bo\")\n",
        "version = project.version(2)\n",
        "dataset = version.download(\"folder\")\n"
      ],
      "metadata": {
        "id": "He6JwHIlG-W_",
        "outputId": "6a543715-4768-4c4a-f072-599a6413319c",
        "colab": {
          "base_uri": "https://localhost:8080/"
        }
      },
      "execution_count": null,
      "outputs": [
        {
          "output_type": "stream",
          "name": "stdout",
          "text": [
            "loading Roboflow workspace...\n",
            "loading Roboflow project...\n"
          ]
        },
        {
          "output_type": "stream",
          "name": "stderr",
          "text": [
            "Downloading Dataset Version Zip in cifar10_bo-2 to folder:: 100%|██████████| 69326/69326 [00:02<00:00, 25309.19it/s]"
          ]
        },
        {
          "output_type": "stream",
          "name": "stdout",
          "text": [
            "\n"
          ]
        },
        {
          "output_type": "stream",
          "name": "stderr",
          "text": [
            "\n",
            "Extracting Dataset Version Zip to cifar10_bo-2 in folder:: 100%|██████████| 60131/60131 [00:08<00:00, 7245.89it/s]\n"
          ]
        }
      ]
    },
    {
      "cell_type": "code",
      "source": [
        "#Save the dataset name to the environment so we can use it in a system call later\n",
        "dataset_name = dataset.location.split(os.sep)[-1]\n",
        "os.environ[\"cifar10\"] = dataset_name"
      ],
      "metadata": {
        "id": "wLQbThFICpn4"
      },
      "execution_count": null,
      "outputs": []
    },
    {
      "cell_type": "markdown",
      "source": [
        "### Train On Custom Data 🎉\n",
        "Here, we use the DATASET_NAME (cifar-10) environment variable to pass our dataset to the `--data` parameter.\n",
        "\n",
        "Note: we're training for 30 epochs here. We're also starting training from the pretrained weights. Larger datasets will likely benefit from longer training, frequently going as high as 1000-3000."
      ],
      "metadata": {
        "id": "-5z7Yv42FGrK"
      }
    },
    {
      "cell_type": "code",
      "source": [
        "%cd ../yolov5\n",
        "!python classify/train.py --model yolov5s-cls.pt --data $cifar10 --epochs 30 --img 128 --pretrained weights/yolov5s-cls.pt"
      ],
      "metadata": {
        "id": "MXWTTN2BEaqe",
        "outputId": "b780d47b-bd0e-4cc8-b19c-19ac8b1f0c1a",
        "colab": {
          "base_uri": "https://localhost:8080/"
        }
      },
      "execution_count": null,
      "outputs": [
        {
          "output_type": "stream",
          "name": "stdout",
          "text": [
            "/content/yolov5\n",
            "2025-01-16 11:05:38.874166: E external/local_xla/xla/stream_executor/cuda/cuda_fft.cc:485] Unable to register cuFFT factory: Attempting to register factory for plugin cuFFT when one has already been registered\n",
            "2025-01-16 11:05:38.895225: E external/local_xla/xla/stream_executor/cuda/cuda_dnn.cc:8454] Unable to register cuDNN factory: Attempting to register factory for plugin cuDNN when one has already been registered\n",
            "2025-01-16 11:05:38.902052: E external/local_xla/xla/stream_executor/cuda/cuda_blas.cc:1452] Unable to register cuBLAS factory: Attempting to register factory for plugin cuBLAS when one has already been registered\n",
            "\u001b[34m\u001b[1mclassify/train: \u001b[0mmodel=yolov5s-cls.pt, data=cifar10_bo-2, epochs=30, batch_size=64, imgsz=128, nosave=False, cache=None, device=, workers=8, project=runs/train-cls, name=exp, exist_ok=False, pretrained=weights/yolov5s-cls.pt, optimizer=Adam, lr0=0.001, decay=5e-05, label_smoothing=0.1, cutoff=None, dropout=None, verbose=False, seed=0, local_rank=-1\n",
            "\u001b[34m\u001b[1mgithub: \u001b[0mup to date with https://github.com/ultralytics/yolov5 ✅\n",
            "YOLOv5 🚀 v7.0-397-gde62f93c Python-3.11.11 torch-2.5.1+cu121 CUDA:0 (Tesla T4, 15102MiB)\n",
            "\n",
            "\u001b[34m\u001b[1mTensorBoard: \u001b[0mStart with 'tensorboard --logdir runs/train-cls', view at http://localhost:6006/\n",
            "\u001b[34m\u001b[1malbumentations: \u001b[0mRandomResizedCrop(p=1.0, size=(128, 128), scale=(0.08, 1.0), ratio=(0.75, 1.3333333333333333), interpolation=1, mask_interpolation=0), HorizontalFlip(p=0.5), ColorJitter(p=0.5, brightness=(0.6, 1.4), contrast=(0.6, 1.4), saturation=(0.6, 1.4), hue=(0.0, 0.0)), Normalize(p=1.0, mean=(0.485, 0.456, 0.406), std=(0.229, 0.224, 0.225), max_pixel_value=255.0, normalization='standard'), ToTensorV2(p=1.0, transpose_mask=False)\n",
            "Downloading https://github.com/ultralytics/yolov5/releases/download/v7.0/yolov5s-cls.pt to yolov5s-cls.pt...\n",
            "100% 10.5M/10.5M [00:00<00:00, 133MB/s]\n",
            "\n",
            "Model summary: 149 layers, 4185290 parameters, 4185290 gradients, 10.5 GFLOPs\n",
            "\u001b[34m\u001b[1moptimizer:\u001b[0m Adam(lr=0.001) with parameter groups 32 weight(decay=0.0), 33 weight(decay=5e-05), 33 bias\n",
            "/content/yolov5/classify/train.py:201: FutureWarning: `torch.cuda.amp.GradScaler(args...)` is deprecated. Please use `torch.amp.GradScaler('cuda', args...)` instead.\n",
            "  scaler = amp.GradScaler(enabled=cuda)\n",
            "Image sizes 128 train, 128 test\n",
            "Using 1 dataloader workers\n",
            "Logging results to \u001b[1mruns/train-cls/exp2\u001b[0m\n",
            "Starting yolov5s-cls.pt training on cifar10_bo-2 dataset with 10 classes for 30 epochs...\n",
            "\n",
            "     Epoch   GPU_mem  train_loss   test_loss    top1_acc    top5_acc\n",
            "  0% 0/658 [00:00<?, ?it/s]/content/yolov5/classify/train.py:222: FutureWarning: `torch.cuda.amp.autocast(args...)` is deprecated. Please use `torch.amp.autocast('cuda', args...)` instead.\n",
            "  with amp.autocast(enabled=cuda):  # stability issues when enabled\n",
            "      1/30    0.505G        2.05                             testing:   0% 0/47 [00:00<?, ?it/s]/content/yolov5/classify/val.py:111: FutureWarning: `torch.cuda.amp.autocast(args...)` is deprecated. Please use `torch.amp.autocast('cuda', args...)` instead.\n",
            "  with torch.cuda.amp.autocast(enabled=device.type != \"cpu\"):\n",
            "      1/30    0.505G        2.05        1.92       0.318       0.866: 100% 658/658 [01:03<00:00, 10.41it/s]\n",
            "      2/30    0.558G         1.9        1.91       0.343       0.852: 100% 658/658 [01:01<00:00, 10.78it/s]\n",
            "      3/30    0.558G        1.78        1.58       0.506       0.931: 100% 658/658 [01:00<00:00, 10.82it/s]\n",
            "      4/30    0.558G        1.68        1.48       0.549       0.942: 100% 658/658 [01:00<00:00, 10.91it/s]\n",
            "      5/30    0.558G        1.62        1.49       0.545       0.948: 100% 658/658 [00:59<00:00, 11.02it/s]\n",
            "      6/30    0.558G        1.58        1.38       0.603       0.951: 100% 658/658 [01:00<00:00, 10.83it/s]\n",
            "      7/30    0.558G        1.53        1.29       0.644       0.966: 100% 658/658 [01:02<00:00, 10.59it/s]\n",
            "      8/30    0.558G         1.5        1.24       0.673       0.971: 100% 658/658 [01:02<00:00, 10.45it/s]\n",
            "      9/30    0.558G        1.47        1.21       0.681       0.969: 100% 658/658 [01:04<00:00, 10.28it/s]\n",
            "     10/30    0.558G        1.44        1.14       0.717       0.979: 100% 658/658 [01:02<00:00, 10.45it/s]\n",
            "     11/30    0.558G        1.41        1.14       0.714        0.98: 100% 658/658 [01:02<00:00, 10.46it/s]\n",
            "     12/30    0.558G        1.38        1.09       0.739       0.981: 100% 658/658 [01:01<00:00, 10.68it/s]\n",
            "     13/30    0.558G        1.36        1.06       0.752       0.983: 100% 658/658 [01:01<00:00, 10.67it/s]\n",
            "     14/30    0.558G        1.35        1.04       0.761       0.984: 100% 658/658 [01:00<00:00, 10.82it/s]\n",
            "     15/30    0.558G        1.33        1.03       0.766       0.985: 100% 658/658 [01:01<00:00, 10.61it/s]\n",
            "     16/30    0.558G        1.31        1.02       0.776       0.985: 100% 658/658 [01:05<00:00, 10.06it/s]\n",
            "     17/30    0.558G         1.3       0.998       0.784       0.987: 100% 658/658 [01:07<00:00,  9.71it/s]\n",
            "     18/30    0.558G        1.28       0.987       0.787       0.986: 100% 658/658 [01:04<00:00, 10.25it/s]\n",
            "     19/30    0.558G        1.26       0.978       0.786       0.987: 100% 658/658 [01:02<00:00, 10.52it/s]\n",
            "     20/30    0.558G        1.25       0.965       0.797       0.987: 100% 658/658 [01:02<00:00, 10.52it/s]\n",
            "     21/30    0.558G        1.24       0.956       0.802       0.989: 100% 658/658 [01:03<00:00, 10.34it/s]\n",
            "     22/30    0.558G        1.22       0.949       0.805       0.989: 100% 658/658 [01:00<00:00, 10.80it/s]\n",
            "     23/30    0.558G        1.21       0.943       0.806       0.989: 100% 658/658 [01:02<00:00, 10.60it/s]\n",
            "     24/30    0.558G        1.19       0.936       0.808       0.989: 100% 658/658 [01:01<00:00, 10.69it/s]\n",
            "     25/30    0.558G        1.18       0.931        0.81       0.989: 100% 658/658 [01:02<00:00, 10.51it/s]\n",
            "     26/30    0.558G        1.16       0.928       0.812       0.989: 100% 658/658 [01:02<00:00, 10.57it/s]\n",
            "     27/30    0.558G        1.15       0.924       0.814       0.989: 100% 658/658 [01:02<00:00, 10.59it/s]\n",
            "     28/30    0.558G        1.15       0.921       0.815       0.989: 100% 658/658 [01:00<00:00, 10.95it/s]\n",
            "     29/30    0.558G        1.13       0.918       0.817        0.99: 100% 658/658 [01:00<00:00, 10.93it/s]\n",
            "     30/30    0.558G        1.12       0.916       0.817        0.99: 100% 658/658 [01:01<00:00, 10.71it/s]\n",
            "\n",
            "Training complete (0.521 hours)\n",
            "Results saved to \u001b[1mruns/train-cls/exp2\u001b[0m\n",
            "Predict:         python classify/predict.py --weights runs/train-cls/exp2/weights/best.pt --source im.jpg\n",
            "Validate:        python classify/val.py --weights runs/train-cls/exp2/weights/best.pt --data /content/datasets/cifar10_bo-2\n",
            "Export:          python export.py --weights runs/train-cls/exp2/weights/best.pt --include onnx\n",
            "PyTorch Hub:     model = torch.hub.load('ultralytics/yolov5', 'custom', 'runs/train-cls/exp2/weights/best.pt')\n",
            "Visualize:       https://netron.app\n",
            "\n"
          ]
        }
      ]
    },
    {
      "cell_type": "markdown",
      "source": [
        "### Validate Your Custom Model\n",
        "\n",
        "Repeat step 2 from above to test and validate your custom model."
      ],
      "metadata": {
        "id": "HHUFGeLbGd98"
      }
    },
    {
      "cell_type": "code",
      "source": [
        "!python ../yolov5/classify/val.py --weights ../yolov5/runs/train-cls/exp2/weights/best.pt --data ../datasets/$cifar10"
      ],
      "metadata": {
        "id": "DIV7ydyKGZFL",
        "outputId": "c880f5a2-5423-4d1b-e820-ee1a8dacc892",
        "colab": {
          "base_uri": "https://localhost:8080/"
        }
      },
      "execution_count": null,
      "outputs": [
        {
          "output_type": "stream",
          "name": "stdout",
          "text": [
            "\u001b[34m\u001b[1mclassify/val: \u001b[0mdata=../datasets/cifar10_bo-2, weights=['../yolov5/runs/train-cls/exp2/weights/best.pt'], batch_size=128, imgsz=224, device=, workers=8, verbose=True, project=../yolov5/runs/val-cls, name=exp, exist_ok=False, half=False, dnn=False\n",
            "YOLOv5 🚀 v7.0-397-gde62f93c Python-3.11.11 torch-2.5.1+cu121 CPU\n",
            "\n",
            "Fusing layers... \n",
            "Model summary: 117 layers, 4179498 parameters, 0 gradients, 10.4 GFLOPs\n",
            "testing:   0% 0/47 [00:00<?, ?it/s]/content/datasets/../yolov5/classify/val.py:111: FutureWarning: `torch.cuda.amp.autocast(args...)` is deprecated. Please use `torch.amp.autocast('cuda', args...)` instead.\n",
            "  with torch.cuda.amp.autocast(enabled=device.type != \"cpu\"):\n",
            "testing: 100% 47/47 [05:09<00:00,  6.59s/it]\n",
            "                   Class      Images    top1_acc    top5_acc\n",
            "                     all        6012       0.805        0.99\n",
            "                airplane         588       0.823       0.985\n",
            "              automobile         586       0.904       0.991\n",
            "                    bird         630       0.692       0.987\n",
            "                     cat         589       0.783       0.988\n",
            "                    deer         617        0.77       0.995\n",
            "                     dog         591       0.585       0.983\n",
            "                    frog         613       0.817       0.989\n",
            "                   horse         606        0.83       0.983\n",
            "                    ship         622       0.931       0.998\n",
            "                   truck         570       0.918       0.995\n",
            "Speed: 0.0ms pre-process, 51.1ms inference, 0.0ms post-process per image at shape (1, 3, 224, 224)\n",
            "Results saved to \u001b[1m../yolov5/runs/val-cls/exp2\u001b[0m\n"
          ]
        }
      ]
    },
    {
      "cell_type": "markdown",
      "source": [
        "### Infer With Your Custom Model"
      ],
      "metadata": {
        "id": "uH5tJNpEsi6g"
      }
    },
    {
      "cell_type": "code",
      "source": [
        "# Get the path of an image from the test or validation set\n",
        "if os.path.exists(os.path.join(dataset.location, \"test\")):\n",
        "  split_path = os.path.join(dataset.location, \"test\")\n",
        "else:\n",
        "  os.path.join(dataset.location, \"valid\")\n",
        "example_class = os.listdir(split_path)[0]\n",
        "example_image_name = os.listdir(os.path.join(split_path, example_class))[0]\n",
        "example_image_path = os.path.join(split_path, example_class, example_image_name)\n",
        "os.environ[\"TEST_IMAGE_PATH\"] = example_image_path\n",
        "\n",
        "print(f\"Inferring on an example of the class '{example_class}'\")\n",
        "\n",
        "# Infer\n",
        "!python ../yolov5/classify/predict.py --weights ../yolov5/runs/train-cls/exp2/weights/best.pt --source $TEST_IMAGE_PATH"
      ],
      "metadata": {
        "id": "81lK1hU_sk54",
        "outputId": "db848829-a5b0-410e-df65-398be5d18a65",
        "colab": {
          "base_uri": "https://localhost:8080/"
        }
      },
      "execution_count": null,
      "outputs": [
        {
          "output_type": "stream",
          "name": "stdout",
          "text": [
            "Inferring on an example of the class 'automobile'\n",
            "\u001b[34m\u001b[1mclassify/predict: \u001b[0mweights=['../yolov5/runs/train-cls/exp2/weights/best.pt'], source=/content/datasets/cifar10_bo-2/test/automobile/convertible_s_001861_png.rf.5359c03e517a91144f6d05740eb525a7.jpg, data=../yolov5/data/coco128.yaml, imgsz=[224, 224], device=, view_img=False, save_txt=False, nosave=False, augment=False, visualize=False, update=False, project=../yolov5/runs/predict-cls, name=exp, exist_ok=False, half=False, dnn=False, vid_stride=1\n",
            "YOLOv5 🚀 v7.0-397-gde62f93c Python-3.11.11 torch-2.5.1+cu121 CPU\n",
            "\n",
            "Fusing layers... \n",
            "Model summary: 117 layers, 4179498 parameters, 0 gradients, 10.4 GFLOPs\n",
            "image 1/1 /content/datasets/cifar10_bo-2/test/automobile/convertible_s_001861_png.rf.5359c03e517a91144f6d05740eb525a7.jpg: 224x224 automobile 0.60, cat 0.09, truck 0.06, frog 0.06, bird 0.05, 47.2ms\n",
            "Speed: 0.1ms pre-process, 47.2ms inference, 0.1ms NMS per image at shape (1, 3, 224, 224)\n",
            "Results saved to \u001b[1m../yolov5/runs/predict-cls/exp2\u001b[0m\n"
          ]
        }
      ]
    },
    {
      "cell_type": "markdown",
      "source": [
        "We can see the inference results show ~3ms inference and the respective classes predicted probabilities."
      ],
      "metadata": {
        "id": "DdGuG-1kNjWT"
      }
    },
    {
      "cell_type": "markdown",
      "source": [
        "## DESCARGAR EL MODELO ANTES DEL ACTIVE LEARNING\n",
        "\n",
        "Solo los pesos, más ligero"
      ],
      "metadata": {
        "id": "oBEtj6Jv2ez5"
      }
    },
    {
      "cell_type": "code",
      "source": [
        "# Guarda el modelo entrenado\n",
        "model_path = 'runs/train-cls/exp2/weights/best.pt'  # Nombre del archivo para guardar el modelo\n",
        "torch.save(model.state_dict(), model_path)  # Guarda únicamente los pesos del modelo\n",
        "\n",
        "# Descargar el modelo a tu ordenador\n",
        "from google.colab import files\n",
        "files.download(model_path)"
      ],
      "metadata": {
        "colab": {
          "base_uri": "https://localhost:8080/",
          "height": 211
        },
        "id": "zzXHtQbF2i_J",
        "outputId": "dbacf2dc-91f7-4d67-8656-86d5a1370768"
      },
      "execution_count": null,
      "outputs": [
        {
          "output_type": "error",
          "ename": "NameError",
          "evalue": "name 'model' is not defined",
          "traceback": [
            "\u001b[0;31m---------------------------------------------------------------------------\u001b[0m",
            "\u001b[0;31mNameError\u001b[0m                                 Traceback (most recent call last)",
            "\u001b[0;32m<ipython-input-17-2e414f219e44>\u001b[0m in \u001b[0;36m<cell line: 0>\u001b[0;34m()\u001b[0m\n\u001b[1;32m      1\u001b[0m \u001b[0;31m# Guarda el modelo entrenado\u001b[0m\u001b[0;34m\u001b[0m\u001b[0;34m\u001b[0m\u001b[0m\n\u001b[1;32m      2\u001b[0m \u001b[0mmodel_path\u001b[0m \u001b[0;34m=\u001b[0m \u001b[0;34m'runs/train-cls/exp2/weights/best.pt'\u001b[0m  \u001b[0;31m# Nombre del archivo para guardar el modelo\u001b[0m\u001b[0;34m\u001b[0m\u001b[0;34m\u001b[0m\u001b[0m\n\u001b[0;32m----> 3\u001b[0;31m \u001b[0mtorch\u001b[0m\u001b[0;34m.\u001b[0m\u001b[0msave\u001b[0m\u001b[0;34m(\u001b[0m\u001b[0mmodel\u001b[0m\u001b[0;34m.\u001b[0m\u001b[0mstate_dict\u001b[0m\u001b[0;34m(\u001b[0m\u001b[0;34m)\u001b[0m\u001b[0;34m,\u001b[0m \u001b[0mmodel_path\u001b[0m\u001b[0;34m)\u001b[0m  \u001b[0;31m# Guarda únicamente los pesos del modelo\u001b[0m\u001b[0;34m\u001b[0m\u001b[0;34m\u001b[0m\u001b[0m\n\u001b[0m\u001b[1;32m      4\u001b[0m \u001b[0;34m\u001b[0m\u001b[0m\n\u001b[1;32m      5\u001b[0m \u001b[0;31m# Descargar el modelo a tu ordenador\u001b[0m\u001b[0;34m\u001b[0m\u001b[0;34m\u001b[0m\u001b[0m\n",
            "\u001b[0;31mNameError\u001b[0m: name 'model' is not defined"
          ]
        }
      ]
    },
    {
      "cell_type": "markdown",
      "source": [
        "## DESCARGAR EL MODELO ENTERO ANTES DEL ACTIVE LEARNING\n",
        "\n",
        "Todo, más pesado"
      ],
      "metadata": {
        "id": "6rVw6Gsv269a"
      }
    },
    {
      "cell_type": "code",
      "source": [
        "torch.save(model, 'yolov5s_classification_complete.pth')\n",
        "files.download('yolov5s_classification_complete.pth')"
      ],
      "metadata": {
        "id": "GkVVlVS_3I6f"
      },
      "execution_count": null,
      "outputs": []
    },
    {
      "cell_type": "markdown",
      "source": [
        "## (OPTIONAL) Improve Our Model with Active Learning\n",
        "\n",
        "Now that we've trained our model once, we will want to continue to improve its performance. Improvement is largely dependent on improving our dataset.\n",
        "\n",
        "We can programmatically upload example failure images back to our custom dataset based on conditions (like seeing an underrpresented class or a low confidence score) using the same `pip` package."
      ],
      "metadata": {
        "id": "I38IM6NXKNN9"
      }
    },
    {
      "cell_type": "code",
      "source": [
        "# # Upload example image\n",
        "# project.upload(image_path)\n"
      ],
      "metadata": {
        "id": "HycgSEnYKo0J"
      },
      "execution_count": null,
      "outputs": []
    },
    {
      "cell_type": "code",
      "source": [
        "# # Example upload code\n",
        "# min_conf = float(\"inf\")\n",
        "# for pred in results:\n",
        "#     if pred[\"score\"] < min_conf:\n",
        "#         min_conf = pred[\"score\"]\n",
        "# if min_conf < 0.4:\n",
        "#     project.upload(image_path)"
      ],
      "metadata": {
        "id": "VwXDoz_vLK3V"
      },
      "execution_count": null,
      "outputs": []
    },
    {
      "cell_type": "markdown",
      "source": [
        "# (BONUS) YOLOv5 classify/predict.py Accepts Several Input Methods\n",
        "- Webcam: `python classify/predict.py --weights yolov5s-cls.pt --source 0`\n",
        "- Image `python classify/predict.py --weights yolov5s-cls.pt --source img.jpg`\n",
        "- Video: `python classify/predict.py --weights yolov5s-cls.pt --source vid.mp4`\n",
        "- Directory: `python classify/predict.py --weights yolov5s-cls.pt --source path/`\n",
        "- Glob: `python classify/predict.py --weights yolov5s-cls.pt --source 'path/*.jpg'`\n",
        "- YouTube: `python classify/predict.py --weights yolov5s-cls.pt --source 'https://youtu.be/Zgi9g1ksQHc'`\n",
        "- RTSP, RTMP, HTTP stream: `python classify/predict.py --weights yolov5s-cls.pt --source 'rtsp://example.com/media.mp4'`"
      ],
      "metadata": {
        "id": "aYlfaHDusN-j"
      }
    },
    {
      "cell_type": "markdown",
      "source": [
        "###Directory Example"
      ],
      "metadata": {
        "id": "iKSP-SNTvcLJ"
      }
    },
    {
      "cell_type": "code",
      "source": [
        "#Directory infer\n",
        "os.environ[\"TEST_CLASS_PATH\"] = test_class_path = os.path.join(*os.environ[\"TEST_IMAGE_PATH\"].split(os.sep)[:-1])\n",
        "print(f\"Infering on all images from the directory {os.environ['TEST_CLASS_PATH']}\")\n",
        "!python ../yolov5/classify/predict.py --weights ../yolov5/runs/train-cls/exp2/weights/best.pt --source /$TEST_CLASS_PATH/"
      ],
      "metadata": {
        "id": "lwSoHcHcvjeD",
        "outputId": "ad9a1f98-0d3b-4b46-920c-3cbde73595c6",
        "colab": {
          "base_uri": "https://localhost:8080/"
        }
      },
      "execution_count": null,
      "outputs": [
        {
          "output_type": "stream",
          "name": "stdout",
          "text": [
            "Infering on all images from the directory content/datasets/cifar10_bo-2/test/automobile\n",
            "\u001b[34m\u001b[1mclassify/predict: \u001b[0mweights=['../yolov5/runs/train-cls/exp2/weights/best.pt'], source=/content/datasets/cifar10_bo-2/test/automobile/, data=../yolov5/data/coco128.yaml, imgsz=[224, 224], device=, view_img=False, save_txt=False, nosave=False, augment=False, visualize=False, update=False, project=../yolov5/runs/predict-cls, name=exp, exist_ok=False, half=False, dnn=False, vid_stride=1\n",
            "YOLOv5 🚀 v7.0-397-gde62f93c Python-3.11.11 torch-2.5.1+cu121 CPU\n",
            "\n",
            "Fusing layers... \n",
            "Model summary: 117 layers, 4179498 parameters, 0 gradients, 10.4 GFLOPs\n",
            "image 1/586 /content/datasets/cifar10_bo-2/test/automobile/ambulance_s_000101_png.rf.7e542dc6cf1801cd0576a641c0d16397.jpg: 224x224 automobile 0.54, ship 0.07, frog 0.07, bird 0.06, cat 0.06, 65.8ms\n",
            "image 2/586 /content/datasets/cifar10_bo-2/test/automobile/ambulance_s_000365_png.rf.93a3afd62dbfca412aeeae6fef5643a4.jpg: 224x224 automobile 0.35, ship 0.15, cat 0.09, truck 0.09, frog 0.07, 37.5ms\n",
            "image 3/586 /content/datasets/cifar10_bo-2/test/automobile/ambulance_s_000497_png.rf.032e6a33c406360e24f9cfc0423990f2.jpg: 224x224 automobile 0.40, truck 0.19, airplane 0.09, ship 0.08, horse 0.05, 40.0ms\n",
            "image 4/586 /content/datasets/cifar10_bo-2/test/automobile/ambulance_s_000747_png.rf.3d10cf305e14626a60f5572ddb9136bb.jpg: 224x224 automobile 0.57, truck 0.13, cat 0.06, ship 0.05, dog 0.05, 34.5ms\n",
            "image 5/586 /content/datasets/cifar10_bo-2/test/automobile/ambulance_s_001341_png.rf.0cb7dcdf6ecd589f064133b8960af9a7.jpg: 224x224 automobile 0.53, truck 0.24, airplane 0.05, ship 0.04, horse 0.03, 36.6ms\n",
            "image 6/586 /content/datasets/cifar10_bo-2/test/automobile/ambulance_s_001816_png.rf.f3d1cde07ac7783d06511f0474405f50.jpg: 224x224 automobile 0.37, ship 0.22, truck 0.16, airplane 0.10, deer 0.04, 39.7ms\n",
            "image 7/586 /content/datasets/cifar10_bo-2/test/automobile/ambulance_s_003039_png.rf.6eb4a38447b1956fc6d7db3a50e7971a.jpg: 224x224 automobile 0.84, truck 0.04, ship 0.03, cat 0.02, airplane 0.02, 37.4ms\n",
            "image 8/586 /content/datasets/cifar10_bo-2/test/automobile/auto_s_000060_png.rf.d562654bf6acfd2565af665f8b8f6267.jpg: 224x224 automobile 0.71, truck 0.06, bird 0.04, airplane 0.04, ship 0.03, 35.9ms\n",
            "image 9/586 /content/datasets/cifar10_bo-2/test/automobile/auto_s_000167_png.rf.513b44a78957ad8709d8dbbbc1795ebe.jpg: 224x224 automobile 0.57, truck 0.17, ship 0.08, cat 0.05, airplane 0.04, 35.6ms\n",
            "image 10/586 /content/datasets/cifar10_bo-2/test/automobile/auto_s_000220_png.rf.0b52e67e42d767d813c422e07c7dcfa8.jpg: 224x224 automobile 0.46, airplane 0.14, bird 0.08, cat 0.06, ship 0.06, 39.1ms\n",
            "image 11/586 /content/datasets/cifar10_bo-2/test/automobile/auto_s_000366_png.rf.89435ea0408d823cae416be2befce8df.jpg: 224x224 automobile 0.63, truck 0.16, ship 0.05, cat 0.04, deer 0.04, 38.9ms\n",
            "image 12/586 /content/datasets/cifar10_bo-2/test/automobile/auto_s_000422_png.rf.7e67c85370eacf532d0479a11fe701a0.jpg: 224x224 automobile 0.32, frog 0.15, deer 0.11, bird 0.10, cat 0.09, 35.5ms\n",
            "image 13/586 /content/datasets/cifar10_bo-2/test/automobile/auto_s_000432_png.rf.0f6bfed71da8653ad1cb3d012990db51.jpg: 224x224 automobile 0.40, truck 0.25, horse 0.08, ship 0.06, deer 0.05, 35.2ms\n",
            "image 14/586 /content/datasets/cifar10_bo-2/test/automobile/auto_s_000495_png.rf.5c32242b426067b5c12c5c1f11ce6452.jpg: 224x224 automobile 0.40, truck 0.13, ship 0.10, airplane 0.08, cat 0.08, 34.8ms\n",
            "image 15/586 /content/datasets/cifar10_bo-2/test/automobile/auto_s_000524_png.rf.1a6966fd9224cbe8be49c550757dc9a6.jpg: 224x224 automobile 0.31, airplane 0.13, truck 0.13, ship 0.08, bird 0.07, 37.2ms\n",
            "image 16/586 /content/datasets/cifar10_bo-2/test/automobile/auto_s_000618_png.rf.8bfbe66d1dd085ff4ee13a4cf7aae9b1.jpg: 224x224 automobile 0.31, bird 0.13, frog 0.10, airplane 0.09, deer 0.09, 41.2ms\n",
            "image 17/586 /content/datasets/cifar10_bo-2/test/automobile/auto_s_000669_png.rf.d81e728d89e24983a9991ae807c5a678.jpg: 224x224 airplane 0.20, truck 0.17, automobile 0.16, ship 0.11, bird 0.09, 37.6ms\n",
            "image 18/586 /content/datasets/cifar10_bo-2/test/automobile/auto_s_000675_png.rf.297944434773bc4ba9a441a13049eb2b.jpg: 224x224 automobile 0.46, cat 0.16, dog 0.09, truck 0.05, ship 0.05, 40.1ms\n",
            "image 19/586 /content/datasets/cifar10_bo-2/test/automobile/auto_s_000679_png.rf.3f127c3159c05df451d894c5d902bb06.jpg: 224x224 automobile 0.37, truck 0.12, cat 0.11, ship 0.11, deer 0.06, 35.9ms\n",
            "image 20/586 /content/datasets/cifar10_bo-2/test/automobile/auto_s_000696_png.rf.ee8b22909b120fa3078a9705827945b5.jpg: 224x224 automobile 0.53, frog 0.15, truck 0.08, ship 0.08, airplane 0.05, 38.5ms\n",
            "image 21/586 /content/datasets/cifar10_bo-2/test/automobile/auto_s_000697_png.rf.c56da15863801cb4247bd5c3c3e3ed12.jpg: 224x224 automobile 0.67, truck 0.09, ship 0.04, deer 0.03, frog 0.03, 35.4ms\n",
            "image 22/586 /content/datasets/cifar10_bo-2/test/automobile/auto_s_000753_png.rf.10bbb31a671d066df1a51e2afe9f2d85.jpg: 224x224 automobile 0.36, truck 0.19, ship 0.18, cat 0.05, bird 0.05, 34.9ms\n",
            "image 23/586 /content/datasets/cifar10_bo-2/test/automobile/auto_s_000908_png.rf.1a8e0e8711616f36fa5ef5740dc95ece.jpg: 224x224 automobile 0.65, truck 0.08, cat 0.06, ship 0.06, deer 0.03, 34.6ms\n",
            "image 24/586 /content/datasets/cifar10_bo-2/test/automobile/auto_s_000989_png.rf.34af90a9dcc40b388110a8ff03b323e7.jpg: 224x224 automobile 0.47, cat 0.18, deer 0.07, frog 0.06, horse 0.06, 36.7ms\n",
            "image 25/586 /content/datasets/cifar10_bo-2/test/automobile/auto_s_001089_png.rf.6572f23cc3e5113ec24513b3c60aca66.jpg: 224x224 automobile 0.65, truck 0.08, ship 0.07, cat 0.06, bird 0.03, 38.8ms\n",
            "image 26/586 /content/datasets/cifar10_bo-2/test/automobile/auto_s_001103_png.rf.8cb72e93c5fbd7548b878b770498f851.jpg: 224x224 cat 0.19, deer 0.14, horse 0.14, truck 0.11, bird 0.09, 35.6ms\n",
            "image 27/586 /content/datasets/cifar10_bo-2/test/automobile/auto_s_001123_png.rf.c840a45b5af7791570aa80859b040802.jpg: 224x224 automobile 0.46, truck 0.13, deer 0.08, bird 0.06, frog 0.06, 35.0ms\n",
            "image 28/586 /content/datasets/cifar10_bo-2/test/automobile/auto_s_001280_png.rf.e6c95d0a7b420ad5b89b9550955aaa73.jpg: 224x224 automobile 0.52, truck 0.09, airplane 0.07, ship 0.07, bird 0.06, 37.9ms\n",
            "image 29/586 /content/datasets/cifar10_bo-2/test/automobile/auto_s_001294_png.rf.dc2825887e7fb023bfbe744e3db14a8d.jpg: 224x224 automobile 0.38, ship 0.19, truck 0.13, cat 0.07, deer 0.06, 35.3ms\n",
            "image 30/586 /content/datasets/cifar10_bo-2/test/automobile/auto_s_001345_png.rf.9f542e71e64dea1009be70edb4ca0b19.jpg: 224x224 automobile 0.22, truck 0.14, cat 0.14, bird 0.12, deer 0.09, 34.9ms\n",
            "image 31/586 /content/datasets/cifar10_bo-2/test/automobile/auto_s_001348_png.rf.c5a82004a626c6a902a110938fd57e4e.jpg: 224x224 automobile 0.52, cat 0.10, ship 0.08, airplane 0.07, truck 0.07, 35.2ms\n",
            "image 32/586 /content/datasets/cifar10_bo-2/test/automobile/auto_s_001524_png.rf.7a566a8cec429af06922458ad63d8616.jpg: 224x224 cat 0.26, dog 0.23, deer 0.10, truck 0.09, automobile 0.07, 39.1ms\n",
            "image 33/586 /content/datasets/cifar10_bo-2/test/automobile/auto_s_001549_png.rf.1594de6d293ddd7faeae78edd501a7a8.jpg: 224x224 automobile 0.32, truck 0.29, ship 0.15, deer 0.05, cat 0.05, 37.7ms\n",
            "image 34/586 /content/datasets/cifar10_bo-2/test/automobile/auto_s_001568_png.rf.403cb0b8e1b77353a0b3b03b7da3c56d.jpg: 224x224 automobile 0.35, cat 0.16, truck 0.14, deer 0.08, frog 0.07, 36.0ms\n",
            "image 35/586 /content/datasets/cifar10_bo-2/test/automobile/auto_s_001574_png.rf.7b0939cfbb833ad94023ff5ca5be8f3c.jpg: 224x224 automobile 0.37, cat 0.26, dog 0.09, deer 0.07, truck 0.05, 35.1ms\n",
            "image 36/586 /content/datasets/cifar10_bo-2/test/automobile/auto_s_001627_png.rf.6b52f72eda21fe5b48e6ed2595069bde.jpg: 224x224 automobile 0.49, truck 0.26, deer 0.04, ship 0.04, cat 0.04, 34.8ms\n",
            "image 37/586 /content/datasets/cifar10_bo-2/test/automobile/auto_s_001787_png.rf.9ec0856f68c23eba7e844676df94b527.jpg: 224x224 automobile 0.70, truck 0.05, cat 0.05, ship 0.04, deer 0.04, 36.8ms\n",
            "image 38/586 /content/datasets/cifar10_bo-2/test/automobile/auto_s_001839_png.rf.f312f3171934205fdf40223e4e7c589e.jpg: 224x224 automobile 0.55, truck 0.16, bird 0.06, horse 0.05, deer 0.04, 35.2ms\n",
            "image 39/586 /content/datasets/cifar10_bo-2/test/automobile/auto_s_001939_png.rf.5bb3e6a79572efa4c2ce800e78617bb5.jpg: 224x224 automobile 0.50, horse 0.09, deer 0.07, ship 0.06, cat 0.06, 50.9ms\n",
            "image 40/586 /content/datasets/cifar10_bo-2/test/automobile/auto_s_001950_png.rf.25b9aa804e252d3d3648c4e4b610b883.jpg: 224x224 automobile 0.41, truck 0.17, airplane 0.09, deer 0.07, ship 0.06, 38.2ms\n",
            "image 41/586 /content/datasets/cifar10_bo-2/test/automobile/auto_s_001953_png.rf.b58d4ad9c363d8bb8d85246907ceee04.jpg: 224x224 automobile 0.22, bird 0.21, deer 0.10, ship 0.09, cat 0.08, 36.0ms\n",
            "image 42/586 /content/datasets/cifar10_bo-2/test/automobile/auto_s_001984_png.rf.044fb50e693ee11cdfebb78268c25f0e.jpg: 224x224 automobile 0.65, ship 0.05, bird 0.05, horse 0.04, frog 0.04, 38.8ms\n",
            "image 43/586 /content/datasets/cifar10_bo-2/test/automobile/auto_s_002023_png.rf.577fbc68c1df4fab3a661ae87a89c386.jpg: 224x224 truck 0.55, automobile 0.21, cat 0.04, horse 0.04, ship 0.04, 38.4ms\n",
            "image 44/586 /content/datasets/cifar10_bo-2/test/automobile/auto_s_002034_png.rf.a5137faae7061ff84ef89b7b4cdbea26.jpg: 224x224 automobile 0.48, ship 0.20, deer 0.05, frog 0.05, bird 0.05, 39.7ms\n",
            "image 45/586 /content/datasets/cifar10_bo-2/test/automobile/auto_s_002047_png.rf.6cead8e425a4ff43d51ced7b36f5db52.jpg: 224x224 automobile 0.22, bird 0.21, deer 0.09, cat 0.08, horse 0.08, 34.9ms\n",
            "image 46/586 /content/datasets/cifar10_bo-2/test/automobile/auto_s_002061_png.rf.d96a1a84d885907f9a11c13e0161a885.jpg: 224x224 automobile 0.33, truck 0.17, cat 0.13, deer 0.10, bird 0.07, 35.6ms\n",
            "image 47/586 /content/datasets/cifar10_bo-2/test/automobile/auto_s_002062_png.rf.e58f1037a6f807ba1b7c32d40c484af3.jpg: 224x224 ship 0.19, automobile 0.19, truck 0.14, frog 0.13, horse 0.11, 34.8ms\n",
            "image 48/586 /content/datasets/cifar10_bo-2/test/automobile/auto_s_002119_png.rf.a53dd3f8e1d475febdcd804958f126a2.jpg: 224x224 automobile 0.64, ship 0.06, truck 0.05, cat 0.05, horse 0.04, 35.6ms\n",
            "image 49/586 /content/datasets/cifar10_bo-2/test/automobile/auto_s_002154_png.rf.72798791a42bb093954c1dd9933f875f.jpg: 224x224 automobile 0.54, truck 0.10, airplane 0.09, ship 0.09, cat 0.06, 35.4ms\n",
            "image 50/586 /content/datasets/cifar10_bo-2/test/automobile/auto_s_002359_png.rf.f4f87fbae288522b1e13f104b754d8a7.jpg: 224x224 automobile 0.65, truck 0.05, ship 0.04, cat 0.04, frog 0.04, 41.1ms\n",
            "image 51/586 /content/datasets/cifar10_bo-2/test/automobile/automobile_s_000098_png.rf.94b3a53d241717262c70443f38652412.jpg: 224x224 automobile 0.51, cat 0.14, truck 0.09, deer 0.06, dog 0.05, 39.6ms\n",
            "image 52/586 /content/datasets/cifar10_bo-2/test/automobile/automobile_s_000103_png.rf.4396bec4c2872a73e7b11c7c8ccff5ff.jpg: 224x224 automobile 0.57, frog 0.09, ship 0.07, cat 0.05, bird 0.05, 35.4ms\n",
            "image 53/586 /content/datasets/cifar10_bo-2/test/automobile/automobile_s_000105_png.rf.0813f33a7f35baa59fd391e14a7561f8.jpg: 224x224 automobile 0.43, ship 0.08, bird 0.08, airplane 0.07, horse 0.07, 34.4ms\n",
            "image 54/586 /content/datasets/cifar10_bo-2/test/automobile/automobile_s_000121_png.rf.a39f1ab8758ebf71099652c77b163d6c.jpg: 224x224 automobile 0.37, truck 0.20, cat 0.10, dog 0.06, ship 0.06, 36.6ms\n",
            "image 55/586 /content/datasets/cifar10_bo-2/test/automobile/automobile_s_000174_png.rf.273191cfc52975ebde2e9b9ddb3b4c6b.jpg: 224x224 automobile 0.32, ship 0.27, airplane 0.14, bird 0.06, cat 0.05, 40.2ms\n",
            "image 56/586 /content/datasets/cifar10_bo-2/test/automobile/automobile_s_000193_png.rf.b346d0a13a34dc47bb58151faade00f7.jpg: 224x224 automobile 0.42, truck 0.31, ship 0.07, airplane 0.06, horse 0.03, 34.9ms\n",
            "image 57/586 /content/datasets/cifar10_bo-2/test/automobile/automobile_s_000243_png.rf.11c56ff94befadd16a43ac8d3aa8ccf8.jpg: 224x224 automobile 0.65, truck 0.10, cat 0.06, dog 0.04, bird 0.04, 35.0ms\n",
            "image 58/586 /content/datasets/cifar10_bo-2/test/automobile/automobile_s_000272_png.rf.49b947a8a2cea62b7c55b117c9d0cdc0.jpg: 224x224 automobile 0.41, truck 0.18, ship 0.10, airplane 0.10, cat 0.05, 34.3ms\n",
            "image 59/586 /content/datasets/cifar10_bo-2/test/automobile/automobile_s_000304_png.rf.2fa284f1785bd9d79479e1a7fa80d927.jpg: 224x224 automobile 0.57, truck 0.10, ship 0.06, airplane 0.05, deer 0.05, 35.3ms\n",
            "image 60/586 /content/datasets/cifar10_bo-2/test/automobile/automobile_s_000309_png.rf.711b75592cc41a34009f7d7b582d0918.jpg: 224x224 automobile 0.52, truck 0.14, cat 0.07, deer 0.06, horse 0.04, 34.9ms\n",
            "image 61/586 /content/datasets/cifar10_bo-2/test/automobile/automobile_s_000325_png.rf.1aacb523f923d028c27d4c2e3ede30fa.jpg: 224x224 automobile 0.67, truck 0.07, deer 0.05, ship 0.05, horse 0.04, 41.0ms\n",
            "image 62/586 /content/datasets/cifar10_bo-2/test/automobile/automobile_s_000402_png.rf.27cfb39cc9323204e77adf39f9bbc767.jpg: 224x224 automobile 0.62, ship 0.07, bird 0.06, cat 0.04, horse 0.04, 48.2ms\n",
            "image 63/586 /content/datasets/cifar10_bo-2/test/automobile/automobile_s_000419_png.rf.7c4abf76d8b08beb9b132c9f49c5b46f.jpg: 224x224 automobile 0.46, truck 0.14, airplane 0.09, deer 0.06, horse 0.05, 37.3ms\n",
            "image 64/586 /content/datasets/cifar10_bo-2/test/automobile/automobile_s_000420_png.rf.2e75120ac34a9530436b0d573c13e12d.jpg: 224x224 automobile 0.54, truck 0.22, cat 0.05, ship 0.04, frog 0.03, 35.3ms\n",
            "image 65/586 /content/datasets/cifar10_bo-2/test/automobile/automobile_s_000421_png.rf.e15e0bdd6912dff7bb9047f6eb34adbc.jpg: 224x224 automobile 0.48, airplane 0.10, bird 0.09, horse 0.08, cat 0.06, 35.9ms\n",
            "image 66/586 /content/datasets/cifar10_bo-2/test/automobile/automobile_s_000530_png.rf.1b616d47923ffbb2be16ead732d6b724.jpg: 224x224 automobile 0.55, truck 0.10, cat 0.09, frog 0.06, dog 0.05, 35.9ms\n",
            "image 67/586 /content/datasets/cifar10_bo-2/test/automobile/automobile_s_000560_png.rf.275a7059e32338c043910d38cc371f02.jpg: 224x224 automobile 0.42, ship 0.20, truck 0.08, cat 0.06, frog 0.05, 39.8ms\n",
            "image 68/586 /content/datasets/cifar10_bo-2/test/automobile/automobile_s_000658_png.rf.e28ebef12363b3e47acbda10cb086fe6.jpg: 224x224 automobile 0.47, bird 0.10, truck 0.10, deer 0.08, horse 0.06, 40.0ms\n",
            "image 69/586 /content/datasets/cifar10_bo-2/test/automobile/automobile_s_000817_png.rf.8d3fcf03417015d0ff5f3c9735cef013.jpg: 224x224 automobile 0.31, ship 0.26, airplane 0.17, truck 0.07, deer 0.05, 35.0ms\n",
            "image 70/586 /content/datasets/cifar10_bo-2/test/automobile/automobile_s_000884_png.rf.097393be5efbcad14beab6a0dcd709fe.jpg: 224x224 automobile 0.71, bird 0.06, cat 0.04, airplane 0.04, horse 0.03, 35.9ms\n",
            "image 71/586 /content/datasets/cifar10_bo-2/test/automobile/automobile_s_001165_png.rf.e0e674233a1061a3438cd31a8c8b4f22.jpg: 224x224 cat 0.32, dog 0.12, frog 0.12, bird 0.11, airplane 0.08, 37.6ms\n",
            "image 72/586 /content/datasets/cifar10_bo-2/test/automobile/automobile_s_001247_png.rf.c3a54eaa1668a5644e0483cc595510cc.jpg: 224x224 truck 0.39, automobile 0.22, cat 0.07, ship 0.06, deer 0.05, 35.8ms\n",
            "image 73/586 /content/datasets/cifar10_bo-2/test/automobile/automobile_s_001292_png.rf.fac248341b0e82b48705c55c215bdebc.jpg: 224x224 automobile 0.32, truck 0.24, ship 0.08, deer 0.07, cat 0.06, 48.5ms\n",
            "image 74/586 /content/datasets/cifar10_bo-2/test/automobile/automobile_s_001462_png.rf.e985de540938ce7b5326dc69f72f9784.jpg: 224x224 automobile 0.72, ship 0.05, cat 0.03, deer 0.03, truck 0.03, 38.5ms\n",
            "image 75/586 /content/datasets/cifar10_bo-2/test/automobile/automobile_s_001544_png.rf.632b73b2f3b933b25ab59a85e26c2ae3.jpg: 224x224 automobile 0.29, bird 0.10, truck 0.10, horse 0.10, ship 0.08, 35.6ms\n",
            "image 76/586 /content/datasets/cifar10_bo-2/test/automobile/automobile_s_001605_png.rf.4f526c5dc3e1354526ef413c7b8c7a7f.jpg: 224x224 automobile 0.27, truck 0.17, cat 0.11, ship 0.09, dog 0.08, 35.6ms\n",
            "image 77/586 /content/datasets/cifar10_bo-2/test/automobile/automobile_s_001657_png.rf.4c536086b10d439d25808c71e11d7744.jpg: 224x224 automobile 0.51, truck 0.17, cat 0.12, dog 0.04, deer 0.03, 35.6ms\n",
            "image 78/586 /content/datasets/cifar10_bo-2/test/automobile/automobile_s_001764_png.rf.db0cf43ac1abd990f3ad2e3638218ad8.jpg: 224x224 automobile 0.50, frog 0.14, truck 0.12, ship 0.04, deer 0.04, 35.2ms\n",
            "image 79/586 /content/datasets/cifar10_bo-2/test/automobile/automobile_s_001766_png.rf.0da3b902f5b2f7c83847150778b8b5c5.jpg: 224x224 automobile 0.57, truck 0.17, ship 0.05, horse 0.04, cat 0.04, 42.0ms\n",
            "image 80/586 /content/datasets/cifar10_bo-2/test/automobile/automobile_s_001827_png.rf.c9653b93fd56d56fcd46c9fbb4aa4109.jpg: 224x224 truck 0.28, horse 0.21, automobile 0.14, ship 0.10, deer 0.10, 35.0ms\n",
            "image 81/586 /content/datasets/cifar10_bo-2/test/automobile/automobile_s_001907_png.rf.5a54202f283686095403d94bf6708f18.jpg: 224x224 automobile 0.38, airplane 0.15, cat 0.11, bird 0.09, dog 0.06, 36.5ms\n",
            "image 82/586 /content/datasets/cifar10_bo-2/test/automobile/automobile_s_001910_png.rf.a69dba5170d141cc4ad7150efca6d3e3.jpg: 224x224 automobile 0.50, truck 0.13, ship 0.08, airplane 0.07, deer 0.05, 34.6ms\n",
            "image 83/586 /content/datasets/cifar10_bo-2/test/automobile/automobile_s_001937_png.rf.5a10e6200c30155602c55454ec6880ec.jpg: 224x224 automobile 0.75, deer 0.05, truck 0.03, cat 0.03, ship 0.03, 35.4ms\n",
            "image 84/586 /content/datasets/cifar10_bo-2/test/automobile/automobile_s_001958_png.rf.7572599e9a7a90f994b152d471638364.jpg: 224x224 truck 0.50, horse 0.18, automobile 0.07, cat 0.06, airplane 0.06, 35.1ms\n",
            "image 85/586 /content/datasets/cifar10_bo-2/test/automobile/automobile_s_002010_png.rf.70ccd26a107bb2bea1b7c733743fd0ce.jpg: 224x224 bird 0.26, automobile 0.24, airplane 0.15, deer 0.07, cat 0.06, 55.7ms\n",
            "image 86/586 /content/datasets/cifar10_bo-2/test/automobile/automobile_s_002035_png.rf.ebf898d3ae00ecf946571d59b8e9497d.jpg: 224x224 automobile 0.69, ship 0.08, truck 0.06, airplane 0.04, cat 0.03, 34.1ms\n",
            "image 87/586 /content/datasets/cifar10_bo-2/test/automobile/automobile_s_002038_png.rf.56f7a1ac7f1e51652e77d3825eff4721.jpg: 224x224 automobile 0.40, truck 0.13, cat 0.09, deer 0.07, dog 0.07, 35.4ms\n",
            "image 88/586 /content/datasets/cifar10_bo-2/test/automobile/automobile_s_002060_png.rf.1c4194c66f1214db9706d0d58ed15a25.jpg: 224x224 cat 0.24, horse 0.19, dog 0.14, deer 0.12, frog 0.11, 36.0ms\n",
            "image 89/586 /content/datasets/cifar10_bo-2/test/automobile/automobile_s_002084_png.rf.3508ace7aecccb8956b3bb7062c1f50a.jpg: 224x224 truck 0.31, automobile 0.23, cat 0.15, ship 0.06, horse 0.06, 36.4ms\n",
            "image 90/586 /content/datasets/cifar10_bo-2/test/automobile/automobile_s_002101_png.rf.889f1d0f7ae264d7597d920ae3f49306.jpg: 224x224 automobile 0.52, truck 0.15, horse 0.06, cat 0.05, ship 0.05, 35.0ms\n",
            "image 91/586 /content/datasets/cifar10_bo-2/test/automobile/automobile_s_002130_png.rf.7a47e984f0a2429f863212d1f9175175.jpg: 224x224 cat 0.23, automobile 0.18, bird 0.14, frog 0.12, dog 0.09, 40.3ms\n",
            "image 92/586 /content/datasets/cifar10_bo-2/test/automobile/automobile_s_002147_png.rf.83a08fcbc0a917bd0c5be93e5a097ec6.jpg: 224x224 automobile 0.35, truck 0.13, cat 0.08, deer 0.08, dog 0.07, 38.9ms\n",
            "image 93/586 /content/datasets/cifar10_bo-2/test/automobile/automobile_s_002285_png.rf.0eb25dd67ed48078ced09e8fb9780633.jpg: 224x224 automobile 0.25, ship 0.23, airplane 0.14, bird 0.09, deer 0.08, 36.0ms\n",
            "image 94/586 /content/datasets/cifar10_bo-2/test/automobile/automobile_s_002397_png.rf.5ad00c43c0adecc542e53ae31d9f3b5f.jpg: 224x224 automobile 0.25, truck 0.15, bird 0.13, horse 0.10, airplane 0.10, 35.5ms\n",
            "image 95/586 /content/datasets/cifar10_bo-2/test/automobile/automobile_s_002449_png.rf.af82d89fa55a72fba49ea34f60ae4d3c.jpg: 224x224 automobile 0.52, truck 0.27, cat 0.04, deer 0.04, ship 0.03, 40.6ms\n",
            "image 96/586 /content/datasets/cifar10_bo-2/test/automobile/automobile_s_002451_png.rf.e0276662a003e73e1b5deaa8fc01ad72.jpg: 224x224 truck 0.50, automobile 0.19, deer 0.06, ship 0.05, frog 0.05, 34.9ms\n",
            "image 97/586 /content/datasets/cifar10_bo-2/test/automobile/automobile_s_002559_png.rf.060e8465a05670edca594b48a0f39f1e.jpg: 224x224 automobile 0.50, truck 0.08, bird 0.08, frog 0.07, cat 0.07, 35.5ms\n",
            "image 98/586 /content/datasets/cifar10_bo-2/test/automobile/automobile_s_002575_png.rf.f72e5bac67803679ca06c700f6e9c1ef.jpg: 224x224 automobile 0.54, truck 0.24, cat 0.04, dog 0.04, deer 0.03, 35.2ms\n",
            "image 99/586 /content/datasets/cifar10_bo-2/test/automobile/automobile_s_002576_png.rf.8efb6ada147b6a11e7c333768d72012a.jpg: 224x224 automobile 0.58, truck 0.18, cat 0.04, ship 0.04, horse 0.03, 39.7ms\n",
            "image 100/586 /content/datasets/cifar10_bo-2/test/automobile/automobile_s_002590_png.rf.74f20961898a950ff16530007701779b.jpg: 224x224 automobile 0.58, truck 0.11, ship 0.07, cat 0.06, bird 0.06, 36.7ms\n",
            "image 101/586 /content/datasets/cifar10_bo-2/test/automobile/automobile_s_002693_png.rf.094357ad1fd1f89d145c27f15d83518f.jpg: 224x224 automobile 0.57, truck 0.10, frog 0.09, ship 0.07, cat 0.07, 36.0ms\n",
            "image 102/586 /content/datasets/cifar10_bo-2/test/automobile/automobile_s_002715_png.rf.23cee1a15ce2df15c65481141cd577ac.jpg: 224x224 automobile 0.69, ship 0.10, bird 0.04, cat 0.04, airplane 0.03, 35.0ms\n",
            "image 103/586 /content/datasets/cifar10_bo-2/test/automobile/beach_wagon_s_000016_png.rf.44d28d46fc2f8d1dd885e2b3a7c220e7.jpg: 224x224 automobile 0.44, ship 0.09, truck 0.09, horse 0.08, bird 0.06, 35.8ms\n",
            "image 104/586 /content/datasets/cifar10_bo-2/test/automobile/beach_wagon_s_000092_png.rf.4d244c31f05d12ec43dba09c194fa8c5.jpg: 224x224 automobile 0.41, dog 0.11, frog 0.11, cat 0.09, truck 0.06, 35.3ms\n",
            "image 105/586 /content/datasets/cifar10_bo-2/test/automobile/beach_wagon_s_000374_png.rf.b2041c019614a9f2d1902fd605a198f5.jpg: 224x224 automobile 0.64, truck 0.18, cat 0.03, dog 0.02, airplane 0.02, 38.1ms\n",
            "image 106/586 /content/datasets/cifar10_bo-2/test/automobile/beach_wagon_s_000724_png.rf.bae1b2b38caf3e053c1d7876c9d2f4f2.jpg: 224x224 automobile 0.33, truck 0.27, ship 0.19, cat 0.05, frog 0.04, 46.4ms\n",
            "image 107/586 /content/datasets/cifar10_bo-2/test/automobile/beach_wagon_s_000888_png.rf.5dacf78383549acc3d772f396f1479f4.jpg: 224x224 automobile 0.59, truck 0.09, horse 0.06, cat 0.05, bird 0.05, 35.6ms\n",
            "image 108/586 /content/datasets/cifar10_bo-2/test/automobile/beach_wagon_s_000936_png.rf.59485554c6960cc6d9481b0d58f8d1bd.jpg: 224x224 automobile 0.49, frog 0.12, ship 0.11, truck 0.09, cat 0.04, 52.8ms\n",
            "image 109/586 /content/datasets/cifar10_bo-2/test/automobile/cab_s_000995_png.rf.ff513f66ed9435a09a96f4c606014b90.jpg: 224x224 automobile 0.54, airplane 0.09, ship 0.08, truck 0.07, deer 0.06, 35.6ms\n",
            "image 110/586 /content/datasets/cifar10_bo-2/test/automobile/cab_s_001425_png.rf.9d173a89ffb92348b19225e00559cb50.jpg: 224x224 truck 0.45, automobile 0.19, ship 0.13, horse 0.05, deer 0.05, 34.9ms\n",
            "image 111/586 /content/datasets/cifar10_bo-2/test/automobile/car_s_000006_png.rf.3d3c755823e5d5ead9649eb2d0c14054.jpg: 224x224 automobile 0.40, ship 0.14, airplane 0.13, bird 0.10, truck 0.06, 37.2ms\n",
            "image 112/586 /content/datasets/cifar10_bo-2/test/automobile/car_s_000011_png.rf.2b4127f5e0a9d236d4a550933e60fc17.jpg: 224x224 automobile 0.46, bird 0.12, cat 0.11, dog 0.08, horse 0.05, 41.0ms\n",
            "image 113/586 /content/datasets/cifar10_bo-2/test/automobile/car_s_000041_png.rf.6664d544db4f653ea4e5f88caebc5ca6.jpg: 224x224 automobile 0.43, ship 0.15, truck 0.10, bird 0.06, airplane 0.06, 36.2ms\n",
            "image 114/586 /content/datasets/cifar10_bo-2/test/automobile/car_s_000045_png.rf.5f3ff70ce32ffe70fdac4e7f5c3acfca.jpg: 224x224 truck 0.31, automobile 0.25, ship 0.11, cat 0.07, horse 0.07, 36.3ms\n",
            "image 115/586 /content/datasets/cifar10_bo-2/test/automobile/car_s_000050_png.rf.bbd63f056e98f6604694e8a3914b9a9a.jpg: 224x224 automobile 0.71, truck 0.05, airplane 0.04, cat 0.03, ship 0.03, 34.6ms\n",
            "image 116/586 /content/datasets/cifar10_bo-2/test/automobile/car_s_000133_png.rf.ebafb6d31f1c2712da3df25a13a06d84.jpg: 224x224 automobile 0.48, airplane 0.09, ship 0.09, truck 0.08, horse 0.08, 35.3ms\n",
            "image 117/586 /content/datasets/cifar10_bo-2/test/automobile/car_s_000135_png.rf.6e591a7f5c9ae4a41c303662327dd144.jpg: 224x224 automobile 0.51, deer 0.10, bird 0.07, truck 0.07, frog 0.06, 41.4ms\n",
            "image 118/586 /content/datasets/cifar10_bo-2/test/automobile/car_s_000146_png.rf.e48ae8e1919e1fe7a3896ab89cce7dde.jpg: 224x224 automobile 0.56, ship 0.09, bird 0.06, deer 0.06, horse 0.04, 39.7ms\n",
            "image 119/586 /content/datasets/cifar10_bo-2/test/automobile/car_s_000221_png.rf.fa2f65bfc53bfdf28e78f1687d06dc3f.jpg: 224x224 automobile 0.71, ship 0.06, truck 0.04, bird 0.04, deer 0.03, 39.8ms\n",
            "image 120/586 /content/datasets/cifar10_bo-2/test/automobile/car_s_000281_png.rf.02366e8ae1924a53e02cb5f0a9bcdcb4.jpg: 224x224 automobile 0.83, truck 0.05, cat 0.03, ship 0.02, frog 0.02, 35.8ms\n",
            "image 121/586 /content/datasets/cifar10_bo-2/test/automobile/car_s_000286_png.rf.c04021eecf3556f22db55b104ee7b9eb.jpg: 224x224 automobile 0.33, truck 0.15, deer 0.12, cat 0.09, horse 0.07, 37.3ms\n",
            "image 122/586 /content/datasets/cifar10_bo-2/test/automobile/car_s_000320_png.rf.fdcff2f16906c7d70bf70ce03db873d4.jpg: 224x224 automobile 0.79, cat 0.03, ship 0.03, bird 0.03, frog 0.03, 43.1ms\n",
            "image 123/586 /content/datasets/cifar10_bo-2/test/automobile/car_s_000395_png.rf.a252dc8c7016327365edd387fee1b861.jpg: 224x224 automobile 0.60, ship 0.09, bird 0.05, truck 0.05, deer 0.04, 35.5ms\n",
            "image 124/586 /content/datasets/cifar10_bo-2/test/automobile/car_s_000442_png.rf.2f417e1910b9d49a95444c6366abe182.jpg: 224x224 automobile 0.39, truck 0.23, deer 0.07, bird 0.05, ship 0.05, 35.0ms\n",
            "image 125/586 /content/datasets/cifar10_bo-2/test/automobile/car_s_000450_png.rf.49b807f819ef92263613718928c96341.jpg: 224x224 automobile 0.51, deer 0.07, truck 0.06, ship 0.06, horse 0.05, 38.9ms\n",
            "image 126/586 /content/datasets/cifar10_bo-2/test/automobile/car_s_000480_png.rf.d70e0588cfc3755d3a0264d19092ef37.jpg: 224x224 automobile 0.41, cat 0.14, horse 0.08, dog 0.07, airplane 0.06, 35.1ms\n",
            "image 127/586 /content/datasets/cifar10_bo-2/test/automobile/car_s_000505_png.rf.e1b22f26027a994587f7f03aac424cee.jpg: 224x224 truck 0.28, bird 0.22, automobile 0.16, cat 0.10, ship 0.08, 36.5ms\n",
            "image 128/586 /content/datasets/cifar10_bo-2/test/automobile/car_s_000586_png.rf.b21020facf957ef7b05fb7ec9a8ea812.jpg: 224x224 automobile 0.31, ship 0.16, horse 0.11, truck 0.10, deer 0.06, 37.5ms\n",
            "image 129/586 /content/datasets/cifar10_bo-2/test/automobile/car_s_000618_png.rf.9fb370c00bfa1da1835be8cf10cf5767.jpg: 224x224 automobile 0.62, truck 0.06, cat 0.05, frog 0.05, dog 0.05, 36.0ms\n",
            "image 130/586 /content/datasets/cifar10_bo-2/test/automobile/car_s_000621_png.rf.44a9f4ba30874700a964d21fc21b1ad2.jpg: 224x224 automobile 0.66, truck 0.06, ship 0.05, airplane 0.04, cat 0.04, 39.4ms\n",
            "image 131/586 /content/datasets/cifar10_bo-2/test/automobile/car_s_000634_png.rf.45a5f1fd26f9a433b0620b00b8105c41.jpg: 224x224 automobile 0.59, ship 0.10, airplane 0.07, truck 0.06, bird 0.05, 42.9ms\n",
            "image 132/586 /content/datasets/cifar10_bo-2/test/automobile/car_s_000649_png.rf.4afc32f2e74b4dce49e2ed670ad654db.jpg: 224x224 truck 0.24, automobile 0.21, deer 0.10, cat 0.10, horse 0.08, 41.2ms\n",
            "image 133/586 /content/datasets/cifar10_bo-2/test/automobile/car_s_000713_png.rf.07a50b2e8301852ef81c44ae6d1c154d.jpg: 224x224 ship 0.30, automobile 0.29, truck 0.14, airplane 0.06, bird 0.06, 34.8ms\n",
            "image 134/586 /content/datasets/cifar10_bo-2/test/automobile/car_s_000741_png.rf.7a51f8904c3077cc2484653d1160e4f1.jpg: 224x224 automobile 0.58, truck 0.16, ship 0.05, airplane 0.04, cat 0.04, 37.1ms\n",
            "image 135/586 /content/datasets/cifar10_bo-2/test/automobile/car_s_000799_png.rf.17113492be18bab50b7f74944f8c5d59.jpg: 224x224 truck 0.38, automobile 0.20, deer 0.09, bird 0.08, horse 0.06, 37.5ms\n",
            "image 136/586 /content/datasets/cifar10_bo-2/test/automobile/car_s_000834_png.rf.dc18d776b956fe0504c1633e83c26292.jpg: 224x224 cat 0.21, automobile 0.16, truck 0.13, airplane 0.10, horse 0.09, 36.7ms\n",
            "image 137/586 /content/datasets/cifar10_bo-2/test/automobile/car_s_000908_png.rf.2248ac52099eceef2725795d4550174c.jpg: 224x224 airplane 0.34, automobile 0.21, truck 0.10, ship 0.07, cat 0.06, 35.6ms\n",
            "image 138/586 /content/datasets/cifar10_bo-2/test/automobile/car_s_000977_png.rf.c6d45fbda6c85c8a99062833ac520caf.jpg: 224x224 automobile 0.60, truck 0.14, ship 0.06, deer 0.05, horse 0.03, 37.9ms\n",
            "image 139/586 /content/datasets/cifar10_bo-2/test/automobile/car_s_000978_png.rf.2bd67f20b3f4b78f44e8b76ae2f522b6.jpg: 224x224 ship 0.34, automobile 0.25, truck 0.15, airplane 0.05, deer 0.05, 45.8ms\n",
            "image 140/586 /content/datasets/cifar10_bo-2/test/automobile/car_s_001093_png.rf.4266cc32bc801e92b2218dfd6d3aa75a.jpg: 224x224 automobile 0.44, ship 0.20, truck 0.06, frog 0.06, deer 0.06, 35.0ms\n",
            "image 141/586 /content/datasets/cifar10_bo-2/test/automobile/car_s_001158_png.rf.560b91d3523b4f8cd0a3c0a38d4c9546.jpg: 224x224 automobile 0.53, truck 0.17, ship 0.05, frog 0.04, airplane 0.04, 36.9ms\n",
            "image 142/586 /content/datasets/cifar10_bo-2/test/automobile/car_s_001181_png.rf.3e7b0b3e3e1b94caefd1eaf452c5ed9f.jpg: 224x224 automobile 0.44, truck 0.29, deer 0.09, bird 0.05, ship 0.04, 35.2ms\n",
            "image 143/586 /content/datasets/cifar10_bo-2/test/automobile/car_s_001252_png.rf.0c44294a8a0d3487a266754003316413.jpg: 224x224 automobile 0.48, ship 0.09, frog 0.08, deer 0.06, truck 0.06, 35.6ms\n",
            "image 144/586 /content/datasets/cifar10_bo-2/test/automobile/car_s_001315_png.rf.f28b88a0d235e3fb3d65b32eaa9f861a.jpg: 224x224 automobile 0.18, truck 0.17, frog 0.13, deer 0.11, ship 0.10, 39.5ms\n",
            "image 145/586 /content/datasets/cifar10_bo-2/test/automobile/car_s_001316_png.rf.cea374dfe131ba5f33ce5f4c89e7183d.jpg: 224x224 automobile 0.62, truck 0.14, ship 0.08, airplane 0.05, bird 0.03, 38.3ms\n",
            "image 146/586 /content/datasets/cifar10_bo-2/test/automobile/car_s_001319_png.rf.b0e11a0f72f260b48e89423e5a25e590.jpg: 224x224 automobile 0.68, frog 0.06, truck 0.04, horse 0.04, bird 0.04, 34.7ms\n",
            "image 147/586 /content/datasets/cifar10_bo-2/test/automobile/car_s_001324_png.rf.3322ca6265ca3770fdc3c3e0b44c0bb5.jpg: 224x224 automobile 0.46, truck 0.22, horse 0.08, ship 0.05, airplane 0.05, 35.4ms\n",
            "image 148/586 /content/datasets/cifar10_bo-2/test/automobile/car_s_001342_png.rf.b8c33e8cfc72b63f7f2cdfc3938f53a5.jpg: 224x224 cat 0.25, frog 0.19, deer 0.15, dog 0.12, horse 0.08, 34.9ms\n",
            "image 149/586 /content/datasets/cifar10_bo-2/test/automobile/car_s_001343_png.rf.2c6e7d913158de0fe486b40e300efdfd.jpg: 224x224 cat 0.26, frog 0.15, dog 0.13, deer 0.12, horse 0.11, 35.2ms\n",
            "image 150/586 /content/datasets/cifar10_bo-2/test/automobile/car_s_001439_png.rf.509e7ce6f6e95d2a2bfb49b5a147b125.jpg: 224x224 automobile 0.57, frog 0.14, truck 0.07, cat 0.05, ship 0.04, 35.0ms\n",
            "image 151/586 /content/datasets/cifar10_bo-2/test/automobile/car_s_001459_png.rf.e6e7f88ce85abe82d4ff8e430f9504a6.jpg: 224x224 automobile 0.63, ship 0.06, bird 0.06, cat 0.05, truck 0.05, 38.3ms\n",
            "image 152/586 /content/datasets/cifar10_bo-2/test/automobile/car_s_001469_png.rf.21ff07a6a09d6897622365e40e17035a.jpg: 224x224 truck 0.40, automobile 0.20, horse 0.07, airplane 0.07, cat 0.06, 40.5ms\n",
            "image 153/586 /content/datasets/cifar10_bo-2/test/automobile/car_s_001571_png.rf.c96497a3c427bd3cd6be439f644d2087.jpg: 224x224 truck 0.43, automobile 0.17, airplane 0.12, ship 0.06, horse 0.06, 42.0ms\n",
            "image 154/586 /content/datasets/cifar10_bo-2/test/automobile/car_s_001600_png.rf.b2f192bf9e16cb5b893a9a221cd9014d.jpg: 224x224 automobile 0.57, truck 0.16, airplane 0.06, horse 0.05, ship 0.05, 39.3ms\n",
            "image 155/586 /content/datasets/cifar10_bo-2/test/automobile/car_s_001631_png.rf.b8ccd4d7c285f91dc6d44b8217949bff.jpg: 224x224 automobile 0.39, truck 0.34, frog 0.04, cat 0.04, horse 0.04, 36.4ms\n",
            "image 156/586 /content/datasets/cifar10_bo-2/test/automobile/car_s_001639_png.rf.c6cb24c898d9ab49c1ae0508a7c9b722.jpg: 224x224 truck 0.47, airplane 0.17, automobile 0.12, ship 0.08, frog 0.04, 34.5ms\n",
            "image 157/586 /content/datasets/cifar10_bo-2/test/automobile/car_s_001661_png.rf.8ea498390d5bc121f9c0dd17bf8d14d8.jpg: 224x224 automobile 0.57, truck 0.11, airplane 0.06, horse 0.06, bird 0.04, 37.7ms\n",
            "image 158/586 /content/datasets/cifar10_bo-2/test/automobile/car_s_001664_png.rf.ed15ebe82967942931060f075d78d037.jpg: 224x224 automobile 0.59, cat 0.09, truck 0.08, dog 0.06, ship 0.05, 36.8ms\n",
            "image 159/586 /content/datasets/cifar10_bo-2/test/automobile/car_s_001666_png.rf.bcbc0d9a9070a47709bb54f1ee9aa5e5.jpg: 224x224 truck 0.39, automobile 0.33, airplane 0.05, cat 0.05, deer 0.04, 40.3ms\n",
            "image 160/586 /content/datasets/cifar10_bo-2/test/automobile/car_s_001787_png.rf.f96772b7b7277c5e33482de5597c9c7c.jpg: 224x224 automobile 0.61, truck 0.10, cat 0.06, frog 0.05, ship 0.05, 35.7ms\n",
            "image 161/586 /content/datasets/cifar10_bo-2/test/automobile/car_s_001878_png.rf.827e94a5d3ff74ae6f47e57a2a0b5740.jpg: 224x224 automobile 0.51, bird 0.08, horse 0.07, truck 0.07, ship 0.05, 40.3ms\n",
            "image 162/586 /content/datasets/cifar10_bo-2/test/automobile/car_s_001879_png.rf.29c90d56f277fbb70c4d3f7597833136.jpg: 224x224 automobile 0.46, ship 0.13, cat 0.12, deer 0.07, frog 0.06, 35.4ms\n",
            "image 163/586 /content/datasets/cifar10_bo-2/test/automobile/car_s_001975_png.rf.6cf2939ff93ff38ef395188d228d1891.jpg: 224x224 automobile 0.61, airplane 0.06, ship 0.06, cat 0.05, truck 0.04, 36.2ms\n",
            "image 164/586 /content/datasets/cifar10_bo-2/test/automobile/car_s_002044_png.rf.916aaef4b219b9eb7db20255bf5d7530.jpg: 224x224 automobile 0.60, truck 0.12, ship 0.07, horse 0.04, airplane 0.04, 37.9ms\n",
            "image 165/586 /content/datasets/cifar10_bo-2/test/automobile/car_s_002058_png.rf.23f6934ca5930c9e4e5a36c8db573a60.jpg: 224x224 automobile 0.62, cat 0.07, truck 0.06, airplane 0.06, ship 0.04, 37.2ms\n",
            "image 166/586 /content/datasets/cifar10_bo-2/test/automobile/car_s_002116_png.rf.1f54db3217c7ca6f1bdad86b53c083e8.jpg: 224x224 automobile 0.31, truck 0.20, cat 0.17, dog 0.07, airplane 0.06, 37.4ms\n",
            "image 167/586 /content/datasets/cifar10_bo-2/test/automobile/car_s_002295_png.rf.9b8171bb984b4e5b0322436b80ae7609.jpg: 224x224 automobile 0.39, truck 0.20, ship 0.11, airplane 0.07, bird 0.05, 35.2ms\n",
            "image 168/586 /content/datasets/cifar10_bo-2/test/automobile/compact_car_s_000173_png.rf.e09f37763a66a10c93d55428f496f771.jpg: 224x224 automobile 0.45, ship 0.13, airplane 0.09, deer 0.06, horse 0.06, 36.0ms\n",
            "image 169/586 /content/datasets/cifar10_bo-2/test/automobile/compact_car_s_000181_png.rf.a1cf519d1282769521238621adcf0c32.jpg: 224x224 automobile 0.62, airplane 0.05, bird 0.05, cat 0.05, dog 0.04, 35.4ms\n",
            "image 170/586 /content/datasets/cifar10_bo-2/test/automobile/compact_car_s_000327_png.rf.7af4defa361efe084ce805e2d5a4f7a0.jpg: 224x224 automobile 0.50, truck 0.11, ship 0.07, bird 0.05, deer 0.05, 36.1ms\n",
            "image 171/586 /content/datasets/cifar10_bo-2/test/automobile/compact_car_s_000345_png.rf.b87fbb62533f2fad7a0257fa7fc338e8.jpg: 224x224 automobile 0.28, ship 0.15, truck 0.12, airplane 0.09, bird 0.08, 38.8ms\n",
            "image 172/586 /content/datasets/cifar10_bo-2/test/automobile/compact_car_s_000354_png.rf.e0c35678bbc8288fc480928cb8fe1e31.jpg: 224x224 automobile 0.60, truck 0.06, ship 0.05, airplane 0.04, deer 0.04, 39.3ms\n",
            "image 173/586 /content/datasets/cifar10_bo-2/test/automobile/compact_car_s_000552_png.rf.525938e9a4ccaef66882edc05d965749.jpg: 224x224 automobile 0.55, truck 0.07, airplane 0.06, cat 0.06, ship 0.05, 35.2ms\n",
            "image 174/586 /content/datasets/cifar10_bo-2/test/automobile/compact_car_s_000612_png.rf.2030c8197db36f490758bd1e8646552b.jpg: 224x224 automobile 0.51, ship 0.10, airplane 0.08, cat 0.07, horse 0.05, 35.5ms\n",
            "image 175/586 /content/datasets/cifar10_bo-2/test/automobile/compact_car_s_000613_png.rf.1fde5246bc5d5d08d2478366e92bc9ac.jpg: 224x224 automobile 0.58, airplane 0.06, horse 0.06, cat 0.06, bird 0.05, 39.3ms\n",
            "image 176/586 /content/datasets/cifar10_bo-2/test/automobile/compact_car_s_000614_png.rf.cbd35cf2614669a6b2ee4f026cccac0e.jpg: 224x224 automobile 0.61, deer 0.06, bird 0.06, horse 0.06, cat 0.05, 43.1ms\n",
            "image 177/586 /content/datasets/cifar10_bo-2/test/automobile/compact_car_s_000759_png.rf.ac852b403a893fbac282d96fc5b87eb0.jpg: 224x224 automobile 0.51, truck 0.11, airplane 0.10, deer 0.05, ship 0.05, 37.3ms\n",
            "image 178/586 /content/datasets/cifar10_bo-2/test/automobile/compact_car_s_000839_png.rf.b25622b464039f109eb411581aaee4c0.jpg: 224x224 automobile 0.62, ship 0.07, airplane 0.06, cat 0.05, truck 0.05, 34.7ms\n",
            "image 179/586 /content/datasets/cifar10_bo-2/test/automobile/compact_car_s_000867_png.rf.e6df1f297514eb5550aa047d4fb10212.jpg: 224x224 automobile 0.37, bird 0.15, airplane 0.13, horse 0.10, cat 0.05, 38.8ms\n",
            "image 180/586 /content/datasets/cifar10_bo-2/test/automobile/compact_car_s_000940_png.rf.d10881e7ee5150e18a5a198919c56303.jpg: 224x224 automobile 0.70, ship 0.06, airplane 0.05, cat 0.03, frog 0.03, 37.9ms\n",
            "image 181/586 /content/datasets/cifar10_bo-2/test/automobile/compact_car_s_001037_png.rf.03ae3284b18d8fe131e741a3198f3225.jpg: 224x224 automobile 0.72, truck 0.06, ship 0.05, cat 0.03, bird 0.03, 39.2ms\n",
            "image 182/586 /content/datasets/cifar10_bo-2/test/automobile/compact_car_s_001046_png.rf.595d2ebe4f1352b310e3ad9231ae1515.jpg: 224x224 automobile 0.71, airplane 0.05, truck 0.04, ship 0.03, bird 0.03, 36.5ms\n",
            "image 183/586 /content/datasets/cifar10_bo-2/test/automobile/compact_car_s_001101_png.rf.3ace79b652dd3c1b7229dedc26fb78b8.jpg: 224x224 automobile 0.46, ship 0.15, airplane 0.11, truck 0.06, cat 0.05, 37.9ms\n",
            "image 184/586 /content/datasets/cifar10_bo-2/test/automobile/compact_car_s_001128_png.rf.c297aa79d8dc2b78ea60466115e8db24.jpg: 224x224 ship 0.47, airplane 0.20, automobile 0.09, bird 0.05, truck 0.05, 43.8ms\n",
            "image 185/586 /content/datasets/cifar10_bo-2/test/automobile/compact_car_s_001200_png.rf.ac30e7b125fc7741996a7c52ffa92e7a.jpg: 224x224 automobile 0.54, truck 0.11, airplane 0.09, horse 0.06, ship 0.05, 38.9ms\n",
            "image 186/586 /content/datasets/cifar10_bo-2/test/automobile/compact_car_s_001217_png.rf.606af7f206b8c359e4851577a96a6645.jpg: 224x224 automobile 0.39, ship 0.31, airplane 0.09, bird 0.04, deer 0.04, 35.4ms\n",
            "image 187/586 /content/datasets/cifar10_bo-2/test/automobile/compact_car_s_001252_png.rf.c65708de2111d85855fbf9ced87c92c2.jpg: 224x224 automobile 0.43, airplane 0.12, bird 0.11, ship 0.09, cat 0.06, 37.1ms\n",
            "image 188/586 /content/datasets/cifar10_bo-2/test/automobile/compact_car_s_001417_png.rf.9a79cf8675d50e76e4cba5783a97d9ae.jpg: 224x224 automobile 0.59, truck 0.10, airplane 0.06, cat 0.05, bird 0.04, 37.5ms\n",
            "image 189/586 /content/datasets/cifar10_bo-2/test/automobile/compact_car_s_001429_png.rf.ef69ec284cc7e8808d3ddc3f050ba4cf.jpg: 224x224 automobile 0.77, cat 0.05, bird 0.04, ship 0.03, dog 0.02, 35.8ms\n",
            "image 190/586 /content/datasets/cifar10_bo-2/test/automobile/compact_car_s_001462_png.rf.ccfe9671bfcb8ec998f4668c788aa7fb.jpg: 224x224 automobile 0.49, truck 0.08, deer 0.06, cat 0.06, airplane 0.06, 36.4ms\n",
            "image 191/586 /content/datasets/cifar10_bo-2/test/automobile/compact_car_s_001474_png.rf.2d15b20501c7e3f06c449f2948840384.jpg: 224x224 automobile 0.53, bird 0.10, deer 0.07, horse 0.06, frog 0.05, 36.5ms\n",
            "image 192/586 /content/datasets/cifar10_bo-2/test/automobile/compact_car_s_001475_png.rf.38c315984bf1061498ba994bfe315844.jpg: 224x224 automobile 0.59, deer 0.09, bird 0.08, frog 0.05, horse 0.04, 41.2ms\n",
            "image 193/586 /content/datasets/cifar10_bo-2/test/automobile/compact_car_s_001505_png.rf.a1619901924a4b7f7212e6d80a921bd0.jpg: 224x224 automobile 0.33, truck 0.17, ship 0.09, deer 0.08, bird 0.07, 36.2ms\n",
            "image 194/586 /content/datasets/cifar10_bo-2/test/automobile/compact_car_s_001581_png.rf.d931b9a7f26d3d803e4c90c716004b06.jpg: 224x224 automobile 0.33, bird 0.16, horse 0.13, deer 0.08, truck 0.07, 36.2ms\n",
            "image 195/586 /content/datasets/cifar10_bo-2/test/automobile/compact_car_s_001584_png.rf.b3676322b6474328f748502c9a0ca9cc.jpg: 224x224 automobile 0.45, bird 0.10, truck 0.08, deer 0.08, horse 0.07, 36.1ms\n",
            "image 196/586 /content/datasets/cifar10_bo-2/test/automobile/compact_car_s_001712_png.rf.608dcb08cab93c348501ede49c24250e.jpg: 224x224 automobile 0.63, airplane 0.06, ship 0.06, cat 0.05, horse 0.05, 37.1ms\n",
            "image 197/586 /content/datasets/cifar10_bo-2/test/automobile/compact_car_s_001770_png.rf.1e4fa46e48c700ffcd0e8da5e7802363.jpg: 224x224 automobile 0.36, truck 0.16, airplane 0.14, ship 0.09, horse 0.07, 41.0ms\n",
            "image 198/586 /content/datasets/cifar10_bo-2/test/automobile/compact_car_s_001781_png.rf.e5022a6dd3c7e095b5b0809cf4588c04.jpg: 224x224 automobile 0.35, bird 0.17, frog 0.09, horse 0.08, airplane 0.07, 35.4ms\n",
            "image 199/586 /content/datasets/cifar10_bo-2/test/automobile/compact_car_s_001797_png.rf.4650f5353cf13da536f8ed66807d0cb6.jpg: 224x224 automobile 0.71, truck 0.07, ship 0.04, cat 0.03, bird 0.03, 54.5ms\n",
            "image 200/586 /content/datasets/cifar10_bo-2/test/automobile/compact_car_s_001799_png.rf.86bf41f7c833be613951f15c00fde46d.jpg: 224x224 automobile 0.75, horse 0.04, truck 0.04, cat 0.04, dog 0.03, 41.0ms\n",
            "image 201/586 /content/datasets/cifar10_bo-2/test/automobile/compact_car_s_001847_png.rf.af3507c2a6696e3c0b07ff31c7387aea.jpg: 224x224 automobile 0.49, bird 0.07, deer 0.07, ship 0.07, truck 0.06, 37.6ms\n",
            "image 202/586 /content/datasets/cifar10_bo-2/test/automobile/compact_car_s_001860_png.rf.bf6dafe7709efd3833423d4503758430.jpg: 224x224 automobile 0.53, bird 0.12, airplane 0.06, deer 0.06, ship 0.06, 36.6ms\n",
            "image 203/586 /content/datasets/cifar10_bo-2/test/automobile/compact_car_s_001916_png.rf.3df98c2c08543d357de9419775b8daa8.jpg: 224x224 automobile 0.75, bird 0.04, airplane 0.04, frog 0.03, horse 0.03, 36.2ms\n",
            "image 204/586 /content/datasets/cifar10_bo-2/test/automobile/compact_car_s_002021_png.rf.a42be9b38cd56207cf25dc67d7f5f6ba.jpg: 224x224 automobile 0.45, bird 0.09, ship 0.09, truck 0.07, horse 0.06, 38.1ms\n",
            "image 205/586 /content/datasets/cifar10_bo-2/test/automobile/compact_car_s_002028_png.rf.cff2fa7952a3edc6995e4d0ee6bd8588.jpg: 224x224 automobile 0.58, truck 0.11, deer 0.06, frog 0.05, bird 0.04, 46.3ms\n",
            "image 206/586 /content/datasets/cifar10_bo-2/test/automobile/compact_car_s_002117_png.rf.7217213ff5895df6263aabbae7415c10.jpg: 224x224 automobile 0.28, truck 0.20, ship 0.10, airplane 0.07, deer 0.07, 35.5ms\n",
            "image 207/586 /content/datasets/cifar10_bo-2/test/automobile/compact_car_s_002130_png.rf.85ef65910a3604e6eeff939930c39be2.jpg: 224x224 ship 0.59, automobile 0.09, airplane 0.07, cat 0.06, truck 0.05, 37.2ms\n",
            "image 208/586 /content/datasets/cifar10_bo-2/test/automobile/compact_car_s_002173_png.rf.72bae49a22a775ef484554518de4a36b.jpg: 224x224 automobile 0.37, truck 0.18, ship 0.11, airplane 0.07, horse 0.06, 36.5ms\n",
            "image 209/586 /content/datasets/cifar10_bo-2/test/automobile/compact_car_s_002239_png.rf.d2862e0c068ea9f9db7d683a70cdf6e4.jpg: 224x224 automobile 0.48, frog 0.11, truck 0.09, deer 0.06, bird 0.05, 35.4ms\n",
            "image 210/586 /content/datasets/cifar10_bo-2/test/automobile/compact_car_s_002242_png.rf.fd3bc540eb7eb8cc367ef24cc2962a0b.jpg: 224x224 automobile 0.65, cat 0.06, bird 0.05, truck 0.05, deer 0.04, 38.8ms\n",
            "image 211/586 /content/datasets/cifar10_bo-2/test/automobile/compact_car_s_002312_png.rf.71044416dcd323eaf9172b47a9ba9fe6.jpg: 224x224 automobile 0.38, truck 0.27, ship 0.06, airplane 0.06, cat 0.05, 35.0ms\n",
            "image 212/586 /content/datasets/cifar10_bo-2/test/automobile/compact_car_s_002319_png.rf.36362899577d01efa12ea6d663571821.jpg: 224x224 automobile 0.57, truck 0.10, airplane 0.07, ship 0.06, cat 0.05, 38.3ms\n",
            "image 213/586 /content/datasets/cifar10_bo-2/test/automobile/compact_s_000261_png.rf.c730d1113e34bc3d4489ecf320e7cf8d.jpg: 224x224 automobile 0.76, truck 0.05, bird 0.03, horse 0.03, airplane 0.03, 35.6ms\n",
            "image 214/586 /content/datasets/cifar10_bo-2/test/automobile/compact_s_000959_png.rf.a89e50b978bfa9fb0e045f94b0fcbec1.jpg: 224x224 automobile 0.57, bird 0.09, cat 0.07, horse 0.05, airplane 0.05, 35.9ms\n",
            "image 215/586 /content/datasets/cifar10_bo-2/test/automobile/compact_s_001262_png.rf.b6f8cc2814263ba2bad8b4b37f00d5c4.jpg: 224x224 automobile 0.39, deer 0.15, frog 0.13, bird 0.07, horse 0.06, 35.8ms\n",
            "image 216/586 /content/datasets/cifar10_bo-2/test/automobile/compact_s_001733_png.rf.c2978fa31c02a6bbdfa9eb4064745023.jpg: 224x224 automobile 0.69, truck 0.06, bird 0.05, frog 0.04, deer 0.03, 36.3ms\n",
            "image 217/586 /content/datasets/cifar10_bo-2/test/automobile/compact_s_001978_png.rf.97a5e143daa1e97242e18117f6bb2c26.jpg: 224x224 automobile 0.82, truck 0.04, bird 0.02, horse 0.02, cat 0.02, 38.6ms\n",
            "image 218/586 /content/datasets/cifar10_bo-2/test/automobile/compact_s_002219_png.rf.e1233518847e327dcd59822bca7c669e.jpg: 224x224 automobile 0.79, ship 0.03, airplane 0.03, bird 0.03, cat 0.03, 34.8ms\n",
            "image 219/586 /content/datasets/cifar10_bo-2/test/automobile/convertible_s_000002_png.rf.bc722343a19f31eda73df40dcc460da6.jpg: 224x224 automobile 0.58, ship 0.05, airplane 0.05, cat 0.05, bird 0.05, 39.7ms\n",
            "image 220/586 /content/datasets/cifar10_bo-2/test/automobile/convertible_s_000007_png.rf.81b2ea5c4f0614dbf26261e13346473b.jpg: 224x224 automobile 0.46, bird 0.19, cat 0.08, frog 0.08, deer 0.04, 35.7ms\n",
            "image 221/586 /content/datasets/cifar10_bo-2/test/automobile/convertible_s_000051_png.rf.fb929400b1650046326fcdc3e20aa2ac.jpg: 224x224 automobile 0.30, truck 0.20, ship 0.16, bird 0.08, cat 0.06, 36.5ms\n",
            "image 222/586 /content/datasets/cifar10_bo-2/test/automobile/convertible_s_000103_png.rf.aa05e2399b76238987582bbbe4113d7a.jpg: 224x224 automobile 0.45, cat 0.12, frog 0.08, horse 0.08, airplane 0.06, 46.6ms\n",
            "image 223/586 /content/datasets/cifar10_bo-2/test/automobile/convertible_s_000295_png.rf.f947a8d93f3f0efa84222bcec44846e5.jpg: 224x224 automobile 0.27, deer 0.15, ship 0.13, bird 0.08, frog 0.07, 60.4ms\n",
            "image 224/586 /content/datasets/cifar10_bo-2/test/automobile/convertible_s_000320_png.rf.c25520e5def124140feedda019774a3c.jpg: 224x224 automobile 0.50, ship 0.10, truck 0.09, airplane 0.08, deer 0.05, 56.6ms\n",
            "image 225/586 /content/datasets/cifar10_bo-2/test/automobile/convertible_s_000330_png.rf.2904942bee3dd21d778ec92d7a4d75cd.jpg: 224x224 automobile 0.37, truck 0.26, ship 0.11, airplane 0.10, deer 0.03, 53.9ms\n",
            "image 226/586 /content/datasets/cifar10_bo-2/test/automobile/convertible_s_000350_png.rf.0c1962202c1800a1907d38d580d99605.jpg: 224x224 ship 0.23, automobile 0.19, truck 0.18, bird 0.10, airplane 0.08, 59.1ms\n",
            "image 227/586 /content/datasets/cifar10_bo-2/test/automobile/convertible_s_000355_png.rf.c13de80815bfef8dd2bb12c4f357c2e1.jpg: 224x224 automobile 0.38, airplane 0.15, ship 0.14, truck 0.06, deer 0.06, 57.7ms\n",
            "image 228/586 /content/datasets/cifar10_bo-2/test/automobile/convertible_s_000437_png.rf.08a205acb59e981837b9372603ecb990.jpg: 224x224 automobile 0.48, ship 0.14, truck 0.12, airplane 0.05, deer 0.05, 56.1ms\n",
            "image 229/586 /content/datasets/cifar10_bo-2/test/automobile/convertible_s_000447_png.rf.29a09a1386ee5903f22a49d82661f7c4.jpg: 224x224 automobile 0.53, truck 0.09, airplane 0.08, ship 0.06, cat 0.05, 56.6ms\n",
            "image 230/586 /content/datasets/cifar10_bo-2/test/automobile/convertible_s_000462_png.rf.bf96bc746d7b2c416808667b8cacc2aa.jpg: 224x224 automobile 0.43, ship 0.11, frog 0.09, airplane 0.07, bird 0.07, 58.4ms\n",
            "image 231/586 /content/datasets/cifar10_bo-2/test/automobile/convertible_s_000492_png.rf.de396c028a0445797fdcba189be617eb.jpg: 224x224 ship 0.29, automobile 0.23, airplane 0.11, truck 0.08, bird 0.07, 54.4ms\n",
            "image 232/586 /content/datasets/cifar10_bo-2/test/automobile/convertible_s_000500_png.rf.8fa480b4ee8896afcde92dcad52cc98f.jpg: 224x224 ship 0.27, airplane 0.21, automobile 0.20, bird 0.09, deer 0.05, 54.9ms\n",
            "image 233/586 /content/datasets/cifar10_bo-2/test/automobile/convertible_s_000548_png.rf.7660dd3995ab9d18ac95b7e8d5396377.jpg: 224x224 automobile 0.35, airplane 0.18, ship 0.17, truck 0.05, horse 0.05, 61.8ms\n",
            "image 234/586 /content/datasets/cifar10_bo-2/test/automobile/convertible_s_000649_png.rf.bc8db06ce2b554ddb9f2a98417cd52ba.jpg: 224x224 automobile 0.61, truck 0.08, deer 0.06, bird 0.05, horse 0.04, 57.6ms\n",
            "image 235/586 /content/datasets/cifar10_bo-2/test/automobile/convertible_s_000689_png.rf.bf2df958b8d6b0239a13ae41258a71f1.jpg: 224x224 automobile 0.68, ship 0.07, truck 0.04, cat 0.04, dog 0.04, 60.3ms\n",
            "image 236/586 /content/datasets/cifar10_bo-2/test/automobile/convertible_s_000691_png.rf.6f34bfd2449e53a48bd7436c4cf07a6b.jpg: 224x224 automobile 0.72, cat 0.08, ship 0.04, dog 0.03, truck 0.03, 56.0ms\n",
            "image 237/586 /content/datasets/cifar10_bo-2/test/automobile/convertible_s_000706_png.rf.ac68e08182b608fe6f86f1ed24b7ca67.jpg: 224x224 automobile 0.60, ship 0.10, deer 0.05, cat 0.04, truck 0.04, 67.8ms\n",
            "image 238/586 /content/datasets/cifar10_bo-2/test/automobile/convertible_s_000770_png.rf.6fb2a01bc3b1cd7b07fd1b0cc48faa15.jpg: 224x224 automobile 0.57, airplane 0.06, horse 0.06, ship 0.05, deer 0.05, 56.3ms\n",
            "image 239/586 /content/datasets/cifar10_bo-2/test/automobile/convertible_s_000837_png.rf.94d1e8a348b70ef21275da1d141a55bb.jpg: 224x224 automobile 0.47, frog 0.11, bird 0.07, cat 0.06, ship 0.06, 55.7ms\n",
            "image 240/586 /content/datasets/cifar10_bo-2/test/automobile/convertible_s_000871_png.rf.8f1ced94f50c7d1d88eada5bb8113634.jpg: 224x224 automobile 0.44, airplane 0.19, ship 0.08, bird 0.07, truck 0.06, 67.4ms\n",
            "image 241/586 /content/datasets/cifar10_bo-2/test/automobile/convertible_s_000887_png.rf.0c7733f1e010281c186b6b13fa1fa15b.jpg: 224x224 automobile 0.28, ship 0.27, horse 0.11, airplane 0.07, cat 0.07, 56.6ms\n",
            "image 242/586 /content/datasets/cifar10_bo-2/test/automobile/convertible_s_001032_png.rf.addbb253a9474db851cb5c0b8e5609db.jpg: 224x224 automobile 0.36, deer 0.10, horse 0.10, truck 0.08, bird 0.08, 59.9ms\n",
            "image 243/586 /content/datasets/cifar10_bo-2/test/automobile/convertible_s_001073_png.rf.687317428670a85df89c2a7fccedf175.jpg: 224x224 automobile 0.51, airplane 0.11, bird 0.07, ship 0.06, frog 0.05, 57.0ms\n",
            "image 244/586 /content/datasets/cifar10_bo-2/test/automobile/convertible_s_001107_png.rf.80a48a36680d319bfd8fa53cc280dd55.jpg: 224x224 automobile 0.56, cat 0.09, deer 0.07, horse 0.06, truck 0.05, 54.8ms\n",
            "image 245/586 /content/datasets/cifar10_bo-2/test/automobile/convertible_s_001149_png.rf.883bf188fd9459f89fef53cd7ea98b9e.jpg: 224x224 automobile 0.51, horse 0.11, deer 0.07, ship 0.06, airplane 0.05, 55.0ms\n",
            "image 246/586 /content/datasets/cifar10_bo-2/test/automobile/convertible_s_001151_png.rf.479a6914c4c70a6c4c82ed39f02b6586.jpg: 224x224 automobile 0.30, cat 0.15, dog 0.13, deer 0.11, bird 0.08, 61.6ms\n",
            "image 247/586 /content/datasets/cifar10_bo-2/test/automobile/convertible_s_001152_png.rf.af6ba3385d6bcc927b4b1bf7b598806f.jpg: 224x224 automobile 0.38, deer 0.10, bird 0.09, ship 0.09, cat 0.08, 54.2ms\n",
            "image 248/586 /content/datasets/cifar10_bo-2/test/automobile/convertible_s_001175_png.rf.29c93f56aedb29164e6e2e086db2a7c2.jpg: 224x224 automobile 0.79, ship 0.04, bird 0.03, cat 0.03, horse 0.02, 53.6ms\n",
            "image 249/586 /content/datasets/cifar10_bo-2/test/automobile/convertible_s_001307_png.rf.e9168029230e7b5f3f4a62c7706ea9b1.jpg: 224x224 ship 0.40, automobile 0.21, truck 0.08, cat 0.08, horse 0.06, 57.6ms\n",
            "image 250/586 /content/datasets/cifar10_bo-2/test/automobile/convertible_s_001418_png.rf.75caf671f1c3f7e38c6014642010086b.jpg: 224x224 automobile 0.58, ship 0.08, dog 0.06, bird 0.05, deer 0.05, 59.6ms\n",
            "image 251/586 /content/datasets/cifar10_bo-2/test/automobile/convertible_s_001496_png.rf.2099d8c9af451340507f3d384429a7bd.jpg: 224x224 automobile 0.53, airplane 0.08, truck 0.07, ship 0.06, deer 0.06, 59.4ms\n",
            "image 252/586 /content/datasets/cifar10_bo-2/test/automobile/convertible_s_001502_png.rf.5138dc11d3cfa83bb55318acf4348845.jpg: 224x224 automobile 0.24, airplane 0.18, ship 0.16, truck 0.13, horse 0.06, 66.4ms\n",
            "image 253/586 /content/datasets/cifar10_bo-2/test/automobile/convertible_s_001530_png.rf.40c4a65b4786f1d9aa8de5d108b83f05.jpg: 224x224 automobile 0.53, truck 0.07, airplane 0.06, cat 0.06, horse 0.06, 58.1ms\n",
            "image 254/586 /content/datasets/cifar10_bo-2/test/automobile/convertible_s_001543_png.rf.0dd03d1167be2c9886915fa5fb89b711.jpg: 224x224 automobile 0.42, dog 0.11, ship 0.11, cat 0.11, truck 0.10, 59.3ms\n",
            "image 255/586 /content/datasets/cifar10_bo-2/test/automobile/convertible_s_001553_png.rf.5cf78c7c954d6a01b993d9c143f8c948.jpg: 224x224 automobile 0.47, horse 0.09, bird 0.07, cat 0.07, dog 0.06, 57.6ms\n",
            "image 256/586 /content/datasets/cifar10_bo-2/test/automobile/convertible_s_001586_png.rf.f475bde1c00f3369d11e3f1cda4aa7e2.jpg: 224x224 automobile 0.55, bird 0.08, horse 0.07, deer 0.05, truck 0.05, 64.5ms\n",
            "image 257/586 /content/datasets/cifar10_bo-2/test/automobile/convertible_s_001645_png.rf.4cb46e2ac7a4db0434e85b7111e45318.jpg: 224x224 automobile 0.68, deer 0.05, truck 0.05, bird 0.04, frog 0.04, 55.0ms\n",
            "image 258/586 /content/datasets/cifar10_bo-2/test/automobile/convertible_s_001686_png.rf.459a484d18e8b0ef9407c724977753f3.jpg: 224x224 automobile 0.60, horse 0.06, airplane 0.06, cat 0.05, ship 0.05, 56.3ms\n",
            "image 259/586 /content/datasets/cifar10_bo-2/test/automobile/convertible_s_001747_png.rf.cd9bc112ea4dbf45ab8ef10d3a703070.jpg: 224x224 automobile 0.83, airplane 0.02, deer 0.02, cat 0.02, ship 0.02, 56.7ms\n",
            "image 260/586 /content/datasets/cifar10_bo-2/test/automobile/convertible_s_001833_png.rf.9a0dd15cc5673e2ab555a361ab8b46d8.jpg: 224x224 automobile 0.43, ship 0.15, airplane 0.11, truck 0.11, cat 0.05, 63.9ms\n",
            "image 261/586 /content/datasets/cifar10_bo-2/test/automobile/convertible_s_001861_png.rf.5359c03e517a91144f6d05740eb525a7.jpg: 224x224 automobile 0.60, cat 0.09, truck 0.06, frog 0.06, bird 0.05, 57.8ms\n",
            "image 262/586 /content/datasets/cifar10_bo-2/test/automobile/convertible_s_001953_png.rf.f35ee014b7d5a27b51a421f987f04d99.jpg: 224x224 automobile 0.27, truck 0.15, ship 0.14, horse 0.14, bird 0.07, 61.5ms\n",
            "image 263/586 /content/datasets/cifar10_bo-2/test/automobile/convertible_s_001999_png.rf.11e2803fc3bccc6171b7764f547c792d.jpg: 224x224 automobile 0.41, ship 0.13, cat 0.08, horse 0.07, frog 0.07, 55.9ms\n",
            "image 264/586 /content/datasets/cifar10_bo-2/test/automobile/convertible_s_002000_png.rf.0e2044754c555bf6e0fae1bdb4e7341a.jpg: 224x224 automobile 0.40, airplane 0.11, horse 0.09, deer 0.08, truck 0.07, 56.5ms\n",
            "image 265/586 /content/datasets/cifar10_bo-2/test/automobile/convertible_s_002033_png.rf.d7bc35e6262eb34cde0d3693ac233038.jpg: 224x224 automobile 0.44, ship 0.11, airplane 0.10, truck 0.08, bird 0.07, 55.9ms\n",
            "image 266/586 /content/datasets/cifar10_bo-2/test/automobile/convertible_s_002141_png.rf.19877fc93de3354a394e075b8895f220.jpg: 224x224 automobile 0.48, truck 0.17, cat 0.08, dog 0.06, bird 0.05, 61.4ms\n",
            "image 267/586 /content/datasets/cifar10_bo-2/test/automobile/convertible_s_002167_png.rf.4e94b7ccd75e959fdeb99ea109699e0e.jpg: 224x224 automobile 0.47, ship 0.20, truck 0.06, airplane 0.06, deer 0.04, 59.8ms\n",
            "image 268/586 /content/datasets/cifar10_bo-2/test/automobile/convertible_s_002178_png.rf.b3fc287f0c48c1a9b1826d26be6cb969.jpg: 224x224 cat 0.20, horse 0.18, automobile 0.16, frog 0.11, dog 0.10, 58.6ms\n",
            "image 269/586 /content/datasets/cifar10_bo-2/test/automobile/convertible_s_002202_png.rf.d5f6f1e72a13e021a6d7bef445f8cd5c.jpg: 224x224 automobile 0.59, cat 0.09, truck 0.06, horse 0.05, airplane 0.04, 70.8ms\n",
            "image 270/586 /content/datasets/cifar10_bo-2/test/automobile/convertible_s_002203_png.rf.3267f2cb37468c39c8824742ff442680.jpg: 224x224 automobile 0.77, truck 0.06, cat 0.04, ship 0.04, deer 0.02, 58.9ms\n",
            "image 271/586 /content/datasets/cifar10_bo-2/test/automobile/convertible_s_002207_png.rf.9c791bfc3fbe7031061a0bf937166ff0.jpg: 224x224 automobile 0.60, cat 0.07, truck 0.06, frog 0.06, ship 0.04, 59.1ms\n",
            "image 272/586 /content/datasets/cifar10_bo-2/test/automobile/convertible_s_002233_png.rf.1b71d1096460b26cb9af8350574ba891.jpg: 224x224 automobile 0.57, truck 0.14, deer 0.05, ship 0.05, frog 0.04, 63.0ms\n",
            "image 273/586 /content/datasets/cifar10_bo-2/test/automobile/convertible_s_002234_png.rf.e6a1b3e23ebabd86368fb80c59ca890b.jpg: 224x224 automobile 0.39, ship 0.15, truck 0.12, cat 0.06, deer 0.06, 61.3ms\n",
            "image 274/586 /content/datasets/cifar10_bo-2/test/automobile/convertible_s_002266_png.rf.43e5c25f8fa42c576e72f44fccbd12fe.jpg: 224x224 automobile 0.64, frog 0.06, deer 0.06, truck 0.05, bird 0.05, 57.9ms\n",
            "image 275/586 /content/datasets/cifar10_bo-2/test/automobile/convertible_s_002274_png.rf.c944c031f84daa572dffe7f8c574708d.jpg: 224x224 automobile 0.64, truck 0.08, ship 0.06, bird 0.04, airplane 0.04, 58.8ms\n",
            "image 276/586 /content/datasets/cifar10_bo-2/test/automobile/convertible_s_002294_png.rf.3345e235f56c6e05d7843050382ac9c9.jpg: 224x224 automobile 0.23, truck 0.20, airplane 0.14, ship 0.13, deer 0.06, 64.9ms\n",
            "image 277/586 /content/datasets/cifar10_bo-2/test/automobile/convertible_s_002346_png.rf.5e95f45aad99d10bd6a73c1538aefde1.jpg: 224x224 automobile 0.32, ship 0.22, airplane 0.09, truck 0.09, horse 0.05, 57.7ms\n",
            "image 278/586 /content/datasets/cifar10_bo-2/test/automobile/convertible_s_002369_png.rf.48c1475e0d6ddaf98e19f99bc7b446a5.jpg: 224x224 automobile 0.55, ship 0.11, airplane 0.07, truck 0.06, horse 0.05, 60.8ms\n",
            "image 279/586 /content/datasets/cifar10_bo-2/test/automobile/convertible_s_002579_png.rf.97cc29262e53e4baf7368838bc9f4f46.jpg: 224x224 automobile 0.57, airplane 0.09, ship 0.07, deer 0.05, bird 0.05, 64.1ms\n",
            "image 280/586 /content/datasets/cifar10_bo-2/test/automobile/convertible_s_002702_png.rf.4742187ef4135754b5a2c5dd7cb6daa4.jpg: 224x224 automobile 0.49, deer 0.09, bird 0.08, ship 0.07, airplane 0.06, 59.0ms\n",
            "image 281/586 /content/datasets/cifar10_bo-2/test/automobile/convertible_s_002734_png.rf.b5e1edffac99a3d7e793a41675b54ecf.jpg: 224x224 automobile 0.62, horse 0.05, ship 0.05, truck 0.05, bird 0.05, 57.8ms\n",
            "image 282/586 /content/datasets/cifar10_bo-2/test/automobile/convertible_s_002774_png.rf.a3cc95a3f4eabd242275785ca0131241.jpg: 224x224 automobile 0.54, cat 0.08, airplane 0.07, dog 0.05, ship 0.05, 59.9ms\n",
            "image 283/586 /content/datasets/cifar10_bo-2/test/automobile/convertible_s_002792_png.rf.fee758eaa2906720d0af9bc35f01f5ef.jpg: 224x224 automobile 0.65, ship 0.07, airplane 0.05, truck 0.05, horse 0.04, 67.7ms\n",
            "image 284/586 /content/datasets/cifar10_bo-2/test/automobile/convertible_s_002813_png.rf.09ba059061a07054795be0e9bffbd783.jpg: 224x224 automobile 0.30, ship 0.18, cat 0.11, deer 0.08, airplane 0.08, 60.1ms\n",
            "image 285/586 /content/datasets/cifar10_bo-2/test/automobile/convertible_s_002821_png.rf.8ca1ef94f1746e41e99062577177ad7c.jpg: 224x224 automobile 0.45, ship 0.17, truck 0.12, cat 0.05, airplane 0.04, 58.7ms\n",
            "image 286/586 /content/datasets/cifar10_bo-2/test/automobile/convertible_s_002822_png.rf.d1259cb7681274eeb904f6c4575118f4.jpg: 224x224 automobile 0.72, ship 0.05, truck 0.05, cat 0.04, horse 0.03, 62.3ms\n",
            "image 287/586 /content/datasets/cifar10_bo-2/test/automobile/convertible_s_002834_png.rf.6b4789e9d1162dc352ed960ea3d1797d.jpg: 224x224 automobile 0.37, truck 0.13, cat 0.09, horse 0.08, bird 0.07, 62.5ms\n",
            "image 288/586 /content/datasets/cifar10_bo-2/test/automobile/convertible_s_002846_png.rf.db85367644606e0cf23939b8cfa105c1.jpg: 224x224 automobile 0.58, deer 0.07, frog 0.07, truck 0.06, bird 0.05, 55.5ms\n",
            "image 289/586 /content/datasets/cifar10_bo-2/test/automobile/convertible_s_002850_png.rf.ed9585bf14515a0614e8d2bb4dac1d28.jpg: 224x224 automobile 0.48, ship 0.27, airplane 0.08, cat 0.03, bird 0.03, 57.3ms\n",
            "image 290/586 /content/datasets/cifar10_bo-2/test/automobile/convertible_s_002869_png.rf.81fad4d7510557d44f123188cecbbf54.jpg: 224x224 automobile 0.69, truck 0.05, airplane 0.04, cat 0.04, bird 0.04, 57.5ms\n",
            "image 291/586 /content/datasets/cifar10_bo-2/test/automobile/convertible_s_002875_png.rf.d7f21f668e30547062226e95bf952343.jpg: 224x224 automobile 0.63, ship 0.07, airplane 0.06, bird 0.06, cat 0.05, 56.7ms\n",
            "image 292/586 /content/datasets/cifar10_bo-2/test/automobile/convertible_s_002879_png.rf.e4ff1158e416a9d80ba9344f572ba707.jpg: 224x224 automobile 0.76, truck 0.05, ship 0.04, deer 0.03, bird 0.03, 64.7ms\n",
            "image 293/586 /content/datasets/cifar10_bo-2/test/automobile/convertible_s_002915_png.rf.19a043112aae7d2179af1458566a0720.jpg: 224x224 automobile 0.31, truck 0.14, horse 0.13, bird 0.10, cat 0.07, 37.2ms\n",
            "image 294/586 /content/datasets/cifar10_bo-2/test/automobile/convertible_s_002950_png.rf.534bc4fc067374f5e9296a7e13ee4061.jpg: 224x224 truck 0.34, automobile 0.30, deer 0.06, bird 0.06, cat 0.05, 35.3ms\n",
            "image 295/586 /content/datasets/cifar10_bo-2/test/automobile/convertible_s_002953_png.rf.769e0e2b329c79dd38a1772fe4b3fbff.jpg: 224x224 automobile 0.58, bird 0.08, ship 0.07, deer 0.06, horse 0.05, 36.6ms\n",
            "image 296/586 /content/datasets/cifar10_bo-2/test/automobile/convertible_s_002994_png.rf.0db219a0a2f120d1ea174e51e47603f7.jpg: 224x224 automobile 0.58, deer 0.08, frog 0.08, truck 0.06, cat 0.06, 37.3ms\n",
            "image 297/586 /content/datasets/cifar10_bo-2/test/automobile/coupe_s_000006_png.rf.807099fcba1b8e96b4ba5c041ee8d1c2.jpg: 224x224 automobile 0.75, ship 0.06, cat 0.03, dog 0.03, truck 0.03, 37.3ms\n",
            "image 298/586 /content/datasets/cifar10_bo-2/test/automobile/coupe_s_000015_png.rf.867297e8e35bd29f7bbfa7c95e5a7d13.jpg: 224x224 automobile 0.44, cat 0.13, frog 0.08, bird 0.07, dog 0.07, 38.8ms\n",
            "image 299/586 /content/datasets/cifar10_bo-2/test/automobile/coupe_s_000025_png.rf.350b12c808d626e9e4d391950465cd4f.jpg: 224x224 automobile 0.55, cat 0.09, ship 0.08, frog 0.05, bird 0.05, 35.8ms\n",
            "image 300/586 /content/datasets/cifar10_bo-2/test/automobile/coupe_s_000027_png.rf.eaac24c4ed330ecba4be398611e4e35e.jpg: 224x224 automobile 0.52, truck 0.13, deer 0.07, bird 0.06, horse 0.06, 41.2ms\n",
            "image 301/586 /content/datasets/cifar10_bo-2/test/automobile/coupe_s_000068_png.rf.330abb8b32c26bbf6365416aeec4db0d.jpg: 224x224 automobile 0.59, airplane 0.06, ship 0.06, cat 0.05, bird 0.04, 41.3ms\n",
            "image 302/586 /content/datasets/cifar10_bo-2/test/automobile/coupe_s_000073_png.rf.ec9d7ad1b3c131a967d3cc2987dc17d9.jpg: 224x224 automobile 0.69, airplane 0.05, cat 0.04, bird 0.04, frog 0.03, 35.4ms\n",
            "image 303/586 /content/datasets/cifar10_bo-2/test/automobile/coupe_s_000170_png.rf.0bc5f22d963a92387e82d2b99f78475a.jpg: 224x224 automobile 0.40, truck 0.17, ship 0.12, airplane 0.05, horse 0.05, 37.7ms\n",
            "image 304/586 /content/datasets/cifar10_bo-2/test/automobile/coupe_s_000227_png.rf.9d67b585cdbf1338a69ceea4a9efd7c2.jpg: 224x224 bird 0.21, truck 0.20, automobile 0.12, horse 0.12, airplane 0.08, 35.6ms\n",
            "image 305/586 /content/datasets/cifar10_bo-2/test/automobile/coupe_s_000246_png.rf.43aafae5a0c4ec997005e174c14cd5f1.jpg: 224x224 automobile 0.56, bird 0.07, frog 0.06, cat 0.06, horse 0.05, 42.0ms\n",
            "image 306/586 /content/datasets/cifar10_bo-2/test/automobile/coupe_s_000257_png.rf.b198da240818d2d004efc770c3182087.jpg: 224x224 automobile 0.59, ship 0.08, truck 0.07, airplane 0.06, horse 0.04, 35.8ms\n",
            "image 307/586 /content/datasets/cifar10_bo-2/test/automobile/coupe_s_000306_png.rf.be166cd32fe349aee688002c0cf62c43.jpg: 224x224 truck 0.30, ship 0.18, automobile 0.14, airplane 0.10, horse 0.07, 35.7ms\n",
            "image 308/586 /content/datasets/cifar10_bo-2/test/automobile/coupe_s_000336_png.rf.a9156c250ca1a063fc7a2041d3489c20.jpg: 224x224 automobile 0.79, deer 0.03, bird 0.03, ship 0.03, frog 0.03, 35.1ms\n",
            "image 309/586 /content/datasets/cifar10_bo-2/test/automobile/coupe_s_000338_png.rf.35809d3a1d03a6af4fabf347df24cc70.jpg: 224x224 automobile 0.35, horse 0.19, truck 0.09, airplane 0.09, frog 0.06, 36.4ms\n",
            "image 310/586 /content/datasets/cifar10_bo-2/test/automobile/coupe_s_000459_png.rf.86e68f3c2ae00f42ccd64f6668bd357f.jpg: 224x224 automobile 0.65, bird 0.06, airplane 0.05, frog 0.05, ship 0.04, 41.4ms\n",
            "image 311/586 /content/datasets/cifar10_bo-2/test/automobile/coupe_s_000526_png.rf.d0acbc89265e836bd4a826b03d51f280.jpg: 224x224 automobile 0.58, cat 0.09, dog 0.08, bird 0.06, truck 0.05, 38.5ms\n",
            "image 312/586 /content/datasets/cifar10_bo-2/test/automobile/coupe_s_000532_png.rf.76fdaebe6d9f8d0f1dfa79a0f8c19b49.jpg: 224x224 automobile 0.21, deer 0.20, frog 0.17, cat 0.10, bird 0.08, 37.5ms\n",
            "image 313/586 /content/datasets/cifar10_bo-2/test/automobile/coupe_s_000535_png.rf.9b72479e7cab004cfea08549e897672a.jpg: 224x224 automobile 0.32, truck 0.14, airplane 0.10, ship 0.10, cat 0.07, 35.7ms\n",
            "image 314/586 /content/datasets/cifar10_bo-2/test/automobile/coupe_s_000554_png.rf.46b546463e78fd58aa1892e30d4678dc.jpg: 224x224 automobile 0.66, ship 0.07, bird 0.06, airplane 0.05, horse 0.04, 37.8ms\n",
            "image 315/586 /content/datasets/cifar10_bo-2/test/automobile/coupe_s_000599_png.rf.56587eb9c1ae55fc82ab036e981f747e.jpg: 224x224 automobile 0.44, airplane 0.11, ship 0.09, deer 0.09, truck 0.07, 35.5ms\n",
            "image 316/586 /content/datasets/cifar10_bo-2/test/automobile/coupe_s_000638_png.rf.7db4692e308e770dc06c950cd1f50e76.jpg: 224x224 automobile 0.52, truck 0.17, bird 0.06, airplane 0.05, horse 0.04, 37.4ms\n",
            "image 317/586 /content/datasets/cifar10_bo-2/test/automobile/coupe_s_000667_png.rf.56ad22f57218e70ba6561c1a5946151e.jpg: 224x224 automobile 0.45, truck 0.20, airplane 0.08, ship 0.08, bird 0.06, 35.6ms\n",
            "image 318/586 /content/datasets/cifar10_bo-2/test/automobile/coupe_s_000815_png.rf.27cba95397c683dd3384a94dd9a8ca21.jpg: 224x224 automobile 0.70, ship 0.05, cat 0.04, bird 0.04, airplane 0.04, 41.5ms\n",
            "image 319/586 /content/datasets/cifar10_bo-2/test/automobile/coupe_s_000898_png.rf.e768488d4aeb816a1a3ed3282a4e8707.jpg: 224x224 automobile 0.37, truck 0.15, ship 0.13, bird 0.08, airplane 0.06, 36.6ms\n",
            "image 320/586 /content/datasets/cifar10_bo-2/test/automobile/coupe_s_000904_png.rf.ae5f4b60e79bb5fdfa664ecd0fe6b0ce.jpg: 224x224 automobile 0.65, truck 0.11, ship 0.07, cat 0.04, airplane 0.03, 35.4ms\n",
            "image 321/586 /content/datasets/cifar10_bo-2/test/automobile/coupe_s_000918_png.rf.b3882c316dbda3997552231ff5eac18c.jpg: 224x224 automobile 0.40, bird 0.11, dog 0.11, truck 0.09, cat 0.09, 34.8ms\n",
            "image 322/586 /content/datasets/cifar10_bo-2/test/automobile/coupe_s_000944_png.rf.c78c51bd21456901fb0a85dc7dbf8a1b.jpg: 224x224 automobile 0.30, airplane 0.14, frog 0.11, ship 0.09, cat 0.08, 40.6ms\n",
            "image 323/586 /content/datasets/cifar10_bo-2/test/automobile/coupe_s_000945_png.rf.f4563ec86efb3d005976ef2289fdca55.jpg: 224x224 automobile 0.26, truck 0.15, ship 0.14, cat 0.11, horse 0.09, 39.1ms\n",
            "image 324/586 /content/datasets/cifar10_bo-2/test/automobile/coupe_s_000957_png.rf.87915778959fa812400b595f4b254474.jpg: 224x224 automobile 0.44, truck 0.16, ship 0.12, airplane 0.06, cat 0.04, 40.5ms\n",
            "image 325/586 /content/datasets/cifar10_bo-2/test/automobile/coupe_s_000992_png.rf.be0b1001c325df3d88aca719e96bc0bd.jpg: 224x224 automobile 0.48, ship 0.11, airplane 0.09, horse 0.06, deer 0.05, 37.1ms\n",
            "image 326/586 /content/datasets/cifar10_bo-2/test/automobile/coupe_s_000997_png.rf.eb3cc715a9a2519e3b30eb13bba32365.jpg: 224x224 automobile 0.46, bird 0.12, ship 0.08, frog 0.07, cat 0.07, 36.3ms\n",
            "image 327/586 /content/datasets/cifar10_bo-2/test/automobile/coupe_s_001032_png.rf.51261a5a354ea3a8b92fadbb1a0283eb.jpg: 224x224 automobile 0.28, frog 0.24, bird 0.10, cat 0.08, ship 0.06, 37.3ms\n",
            "image 328/586 /content/datasets/cifar10_bo-2/test/automobile/coupe_s_001038_png.rf.96a4aa9e3ef89e406716dbaf4ffc5a4f.jpg: 224x224 automobile 0.47, truck 0.27, ship 0.08, airplane 0.05, cat 0.02, 35.5ms\n",
            "image 329/586 /content/datasets/cifar10_bo-2/test/automobile/coupe_s_001047_png.rf.2e9559b3be84fea21af9b5203f9932a4.jpg: 224x224 automobile 0.60, bird 0.07, frog 0.06, deer 0.06, cat 0.05, 35.1ms\n",
            "image 330/586 /content/datasets/cifar10_bo-2/test/automobile/coupe_s_001088_png.rf.50302017ee980ba04b6994e157cef630.jpg: 224x224 automobile 0.59, bird 0.09, deer 0.06, frog 0.05, horse 0.04, 43.7ms\n",
            "image 331/586 /content/datasets/cifar10_bo-2/test/automobile/coupe_s_001111_png.rf.0508b749604ebed00623455c653693d6.jpg: 224x224 automobile 0.49, ship 0.10, cat 0.07, frog 0.06, deer 0.05, 38.4ms\n",
            "image 332/586 /content/datasets/cifar10_bo-2/test/automobile/coupe_s_001133_png.rf.ca820f3f60722322d38d064f38253c15.jpg: 224x224 automobile 0.52, frog 0.11, cat 0.07, airplane 0.07, bird 0.06, 35.4ms\n",
            "image 333/586 /content/datasets/cifar10_bo-2/test/automobile/coupe_s_001175_png.rf.57357fc2dcdbce7ce96925d671e31052.jpg: 224x224 automobile 0.81, truck 0.04, ship 0.03, deer 0.02, bird 0.02, 35.5ms\n",
            "image 334/586 /content/datasets/cifar10_bo-2/test/automobile/coupe_s_001376_png.rf.e2b5468e04c5f0ee6ded614de3136482.jpg: 224x224 truck 0.31, automobile 0.23, ship 0.11, airplane 0.08, cat 0.06, 34.9ms\n",
            "image 335/586 /content/datasets/cifar10_bo-2/test/automobile/coupe_s_001384_png.rf.bd9730ae493d7803fd6effdd95e26df1.jpg: 224x224 automobile 0.53, truck 0.16, ship 0.05, airplane 0.05, bird 0.05, 36.4ms\n",
            "image 336/586 /content/datasets/cifar10_bo-2/test/automobile/coupe_s_001389_png.rf.112aae207bb0269fa24e7ef5bbcc5db0.jpg: 224x224 automobile 0.65, truck 0.14, frog 0.05, bird 0.03, airplane 0.03, 36.5ms\n",
            "image 337/586 /content/datasets/cifar10_bo-2/test/automobile/coupe_s_001395_png.rf.6044745d0638d49e99215fc775a77b40.jpg: 224x224 automobile 0.38, cat 0.20, bird 0.09, deer 0.08, truck 0.07, 38.2ms\n",
            "image 338/586 /content/datasets/cifar10_bo-2/test/automobile/coupe_s_001419_png.rf.b5b3746b2fbbf7cae95610f25e9ffc46.jpg: 224x224 automobile 0.27, truck 0.18, ship 0.14, deer 0.11, horse 0.08, 39.1ms\n",
            "image 339/586 /content/datasets/cifar10_bo-2/test/automobile/coupe_s_001463_png.rf.42cb2b3780dcdfd1ac325ae0e9ab3870.jpg: 224x224 automobile 0.50, ship 0.13, airplane 0.09, cat 0.05, deer 0.04, 35.1ms\n",
            "image 340/586 /content/datasets/cifar10_bo-2/test/automobile/coupe_s_001512_png.rf.caed5c2dd17f4746d026f18a6485127a.jpg: 224x224 automobile 0.34, ship 0.22, airplane 0.07, cat 0.06, bird 0.06, 35.0ms\n",
            "image 341/586 /content/datasets/cifar10_bo-2/test/automobile/coupe_s_001568_png.rf.25ac03fb5c304f49568b46c10bf6ef82.jpg: 224x224 automobile 0.57, ship 0.09, airplane 0.06, truck 0.05, cat 0.04, 35.8ms\n",
            "image 342/586 /content/datasets/cifar10_bo-2/test/automobile/coupe_s_001571_png.rf.53683eeb4fa7c397d021827e48330e36.jpg: 224x224 automobile 0.53, truck 0.16, ship 0.08, horse 0.05, cat 0.04, 37.2ms\n",
            "image 343/586 /content/datasets/cifar10_bo-2/test/automobile/coupe_s_001581_png.rf.ca7bdf0d09db7e6afbcbd4b00273a87b.jpg: 224x224 ship 0.41, automobile 0.21, truck 0.09, bird 0.06, deer 0.04, 36.1ms\n",
            "image 344/586 /content/datasets/cifar10_bo-2/test/automobile/coupe_s_001594_png.rf.f102f9fb66e240c778d3a2d2bab06148.jpg: 224x224 automobile 0.46, ship 0.15, truck 0.14, bird 0.06, airplane 0.05, 40.5ms\n",
            "image 345/586 /content/datasets/cifar10_bo-2/test/automobile/coupe_s_001628_png.rf.bd64568da5e30cc9ed3de0887488dc66.jpg: 224x224 automobile 0.38, ship 0.12, airplane 0.11, truck 0.08, bird 0.06, 41.3ms\n",
            "image 346/586 /content/datasets/cifar10_bo-2/test/automobile/coupe_s_001777_png.rf.94a9b58401712e2154572d944314d464.jpg: 224x224 automobile 0.80, cat 0.03, truck 0.03, bird 0.03, deer 0.02, 42.8ms\n",
            "image 347/586 /content/datasets/cifar10_bo-2/test/automobile/coupe_s_001781_png.rf.08ecafd08891c84159f579d8d7bef9cb.jpg: 224x224 automobile 0.37, truck 0.26, airplane 0.14, ship 0.05, bird 0.04, 37.1ms\n",
            "image 348/586 /content/datasets/cifar10_bo-2/test/automobile/coupe_s_001803_png.rf.f769df60248eb54e723e0f3d8eef2b53.jpg: 224x224 automobile 0.53, ship 0.14, airplane 0.09, bird 0.05, deer 0.04, 36.1ms\n",
            "image 349/586 /content/datasets/cifar10_bo-2/test/automobile/coupe_s_001837_png.rf.551f3e27945a551eed0d5a955c911713.jpg: 224x224 automobile 0.52, ship 0.12, truck 0.11, airplane 0.07, horse 0.04, 37.5ms\n",
            "image 350/586 /content/datasets/cifar10_bo-2/test/automobile/coupe_s_001863_png.rf.3d6c4337e92c5cad58f2ea5e1d26a509.jpg: 224x224 automobile 0.48, truck 0.16, cat 0.07, deer 0.06, bird 0.05, 37.9ms\n",
            "image 351/586 /content/datasets/cifar10_bo-2/test/automobile/coupe_s_001939_png.rf.30ebb1ac067fff684e21e81d12b4e3fe.jpg: 224x224 automobile 0.65, cat 0.05, horse 0.05, ship 0.05, truck 0.04, 34.6ms\n",
            "image 352/586 /content/datasets/cifar10_bo-2/test/automobile/coupe_s_001941_png.rf.23434b602cb87d23b223b82432137a7b.jpg: 224x224 automobile 0.42, truck 0.23, cat 0.06, ship 0.06, deer 0.05, 35.5ms\n",
            "image 353/586 /content/datasets/cifar10_bo-2/test/automobile/coupe_s_001956_png.rf.d079bac9a830564af8b6ae993af9a6b1.jpg: 224x224 automobile 0.37, truck 0.24, cat 0.08, deer 0.06, bird 0.05, 40.5ms\n",
            "image 354/586 /content/datasets/cifar10_bo-2/test/automobile/coupe_s_002037_png.rf.0a2f288783734ed2b57ac397bc69423e.jpg: 224x224 automobile 0.47, ship 0.15, airplane 0.08, horse 0.06, bird 0.05, 35.9ms\n",
            "image 355/586 /content/datasets/cifar10_bo-2/test/automobile/coupe_s_002047_png.rf.327b3705d2e61160b967d24bd4c39a23.jpg: 224x224 automobile 0.52, truck 0.08, ship 0.08, airplane 0.07, cat 0.05, 35.7ms\n",
            "image 356/586 /content/datasets/cifar10_bo-2/test/automobile/coupe_s_002087_png.rf.8baf095eaa1a379fd56c8bfcfd9aeca6.jpg: 224x224 automobile 0.55, frog 0.07, horse 0.06, cat 0.06, bird 0.06, 35.6ms\n",
            "image 357/586 /content/datasets/cifar10_bo-2/test/automobile/coupe_s_002137_png.rf.cb132a9cc87c54fb207d98c8d03e1203.jpg: 224x224 automobile 0.39, truck 0.13, cat 0.10, ship 0.08, deer 0.08, 34.5ms\n",
            "image 358/586 /content/datasets/cifar10_bo-2/test/automobile/coupe_s_002140_png.rf.b6b7d5f0c0b3fb04359fc25fc55c263b.jpg: 224x224 automobile 0.37, ship 0.14, truck 0.11, cat 0.10, airplane 0.08, 38.5ms\n",
            "image 359/586 /content/datasets/cifar10_bo-2/test/automobile/coupe_s_002229_png.rf.f25bb3d52f2cfc14adfa18fe55d17e00.jpg: 224x224 automobile 0.38, ship 0.13, truck 0.11, airplane 0.11, cat 0.05, 37.6ms\n",
            "image 360/586 /content/datasets/cifar10_bo-2/test/automobile/coupe_s_002275_png.rf.73e9ed917d66c84215071d7e63a37e48.jpg: 224x224 automobile 0.52, truck 0.17, horse 0.07, deer 0.05, cat 0.04, 35.0ms\n",
            "image 361/586 /content/datasets/cifar10_bo-2/test/automobile/coupe_s_002287_png.rf.0e2cbd32dac85599b61067a773ff3aa9.jpg: 224x224 automobile 0.62, truck 0.07, deer 0.05, ship 0.05, bird 0.04, 34.9ms\n",
            "image 362/586 /content/datasets/cifar10_bo-2/test/automobile/cruiser_s_000151_png.rf.d1e346aea0325bdf6cf65e11e29ff6b8.jpg: 224x224 automobile 0.39, ship 0.11, airplane 0.09, horse 0.08, truck 0.08, 35.3ms\n",
            "image 363/586 /content/datasets/cifar10_bo-2/test/automobile/cruiser_s_000515_png.rf.42fc6f926f577fa5edbfa2a4a8c73908.jpg: 224x224 automobile 0.68, ship 0.09, bird 0.04, cat 0.04, truck 0.04, 40.4ms\n",
            "image 364/586 /content/datasets/cifar10_bo-2/test/automobile/cruiser_s_000743_png.rf.af52ec1ad867d20f06d124a9257458fb.jpg: 224x224 automobile 0.44, airplane 0.12, truck 0.10, ship 0.09, horse 0.07, 35.7ms\n",
            "image 365/586 /content/datasets/cifar10_bo-2/test/automobile/cruiser_s_000773_png.rf.0ba8caa2ff355eafc920559187bc95eb.jpg: 224x224 automobile 0.43, truck 0.31, ship 0.07, airplane 0.04, deer 0.03, 37.9ms\n",
            "image 366/586 /content/datasets/cifar10_bo-2/test/automobile/cruiser_s_000776_png.rf.caeb3dd1edc7cbd82edeff4d7a2a6212.jpg: 224x224 automobile 0.63, truck 0.07, horse 0.05, airplane 0.05, deer 0.04, 43.5ms\n",
            "image 367/586 /content/datasets/cifar10_bo-2/test/automobile/cruiser_s_000853_png.rf.8feb46d39da2ae8bea18bf887cd8bdb4.jpg: 224x224 automobile 0.77, deer 0.03, dog 0.03, bird 0.03, truck 0.03, 37.3ms\n",
            "image 368/586 /content/datasets/cifar10_bo-2/test/automobile/estate_car_s_000001_png.rf.3182cf8f1bfe7a1ca9b3192adec36130.jpg: 224x224 automobile 0.44, ship 0.11, truck 0.08, airplane 0.08, bird 0.05, 36.5ms\n",
            "image 369/586 /content/datasets/cifar10_bo-2/test/automobile/estate_car_s_000002_png.rf.b10994a5b4520b74cf650aa55a542717.jpg: 224x224 automobile 0.61, airplane 0.06, ship 0.05, horse 0.04, truck 0.04, 53.3ms\n",
            "image 370/586 /content/datasets/cifar10_bo-2/test/automobile/estate_car_s_000018_png.rf.9a1bd3400cc206f7a9d15abb2a9fb56d.jpg: 224x224 automobile 0.72, bird 0.05, ship 0.04, cat 0.04, truck 0.04, 35.3ms\n",
            "image 371/586 /content/datasets/cifar10_bo-2/test/automobile/estate_car_s_000028_png.rf.b5b256e61bda7d004e1b29252423671b.jpg: 224x224 automobile 0.81, airplane 0.03, cat 0.03, horse 0.02, ship 0.02, 37.5ms\n",
            "image 372/586 /content/datasets/cifar10_bo-2/test/automobile/estate_car_s_000057_png.rf.ddcbf83ca818cb63b583adda74574c7a.jpg: 224x224 automobile 0.75, bird 0.04, cat 0.04, frog 0.03, ship 0.03, 35.4ms\n",
            "image 373/586 /content/datasets/cifar10_bo-2/test/automobile/estate_car_s_000075_png.rf.51a9fc0c0ce65d9eb784705673d6b105.jpg: 224x224 automobile 0.75, truck 0.05, bird 0.04, airplane 0.04, cat 0.03, 36.0ms\n",
            "image 374/586 /content/datasets/cifar10_bo-2/test/automobile/estate_car_s_000178_png.rf.794c76e37da855c2175298f095fcba34.jpg: 224x224 automobile 0.80, ship 0.04, truck 0.03, airplane 0.03, deer 0.02, 44.8ms\n",
            "image 375/586 /content/datasets/cifar10_bo-2/test/automobile/estate_car_s_000187_png.rf.718b02119a076560d9ded604c4948935.jpg: 224x224 automobile 0.69, ship 0.09, airplane 0.05, cat 0.03, truck 0.03, 35.9ms\n",
            "image 376/586 /content/datasets/cifar10_bo-2/test/automobile/estate_car_s_000198_png.rf.532a7ec4690acf8974762c06afa03c1b.jpg: 224x224 automobile 0.59, bird 0.06, cat 0.05, deer 0.05, horse 0.05, 37.0ms\n",
            "image 377/586 /content/datasets/cifar10_bo-2/test/automobile/estate_car_s_000210_png.rf.fc9615b5fe6ac2715e710d4e13731046.jpg: 224x224 automobile 0.61, truck 0.07, ship 0.07, airplane 0.05, cat 0.04, 36.6ms\n",
            "image 378/586 /content/datasets/cifar10_bo-2/test/automobile/estate_car_s_000253_png.rf.01da0388f09b7e75a84c7c7ddad6516e.jpg: 224x224 automobile 0.49, truck 0.07, deer 0.07, bird 0.06, ship 0.06, 36.3ms\n",
            "image 379/586 /content/datasets/cifar10_bo-2/test/automobile/estate_car_s_000259_png.rf.5e82b3924bf76d988889cbfb21e9588f.jpg: 224x224 automobile 0.64, bird 0.12, dog 0.05, cat 0.04, horse 0.03, 35.9ms\n",
            "image 380/586 /content/datasets/cifar10_bo-2/test/automobile/estate_car_s_000278_png.rf.4b1ebcf28013d022f5c28828a44cdfa2.jpg: 224x224 automobile 0.49, truck 0.16, ship 0.06, airplane 0.06, cat 0.05, 42.4ms\n",
            "image 381/586 /content/datasets/cifar10_bo-2/test/automobile/estate_car_s_000293_png.rf.39e07e6c61acb96dec8570c2b55a5459.jpg: 224x224 automobile 0.57, ship 0.10, airplane 0.07, truck 0.06, cat 0.05, 38.8ms\n",
            "image 382/586 /content/datasets/cifar10_bo-2/test/automobile/estate_car_s_000353_png.rf.0640e1cb2ea70e50a630ca18a363f550.jpg: 224x224 automobile 0.87, cat 0.02, truck 0.02, ship 0.02, bird 0.01, 37.2ms\n",
            "image 383/586 /content/datasets/cifar10_bo-2/test/automobile/estate_car_s_000354_png.rf.d4ca240e728fdfc8c9eb68f7d2561cc3.jpg: 224x224 automobile 0.84, ship 0.03, airplane 0.02, bird 0.02, cat 0.02, 34.9ms\n",
            "image 384/586 /content/datasets/cifar10_bo-2/test/automobile/estate_car_s_000403_png.rf.e537af408564f33e70ce5dc0a9cca876.jpg: 224x224 automobile 0.60, truck 0.09, ship 0.07, cat 0.05, airplane 0.05, 36.1ms\n",
            "image 385/586 /content/datasets/cifar10_bo-2/test/automobile/estate_car_s_000410_png.rf.f224ff73278df207a932f581789406ca.jpg: 224x224 automobile 0.44, ship 0.14, airplane 0.09, truck 0.06, deer 0.06, 39.7ms\n",
            "image 386/586 /content/datasets/cifar10_bo-2/test/automobile/estate_car_s_000499_png.rf.1e9dabc274c6647ca56c812f027ceca7.jpg: 224x224 automobile 0.35, airplane 0.14, ship 0.11, bird 0.10, horse 0.07, 35.3ms\n",
            "image 387/586 /content/datasets/cifar10_bo-2/test/automobile/estate_car_s_000580_png.rf.a8024364bea76de1932b590469b3b7cc.jpg: 224x224 automobile 0.83, truck 0.03, bird 0.03, ship 0.02, frog 0.02, 39.4ms\n",
            "image 388/586 /content/datasets/cifar10_bo-2/test/automobile/estate_car_s_000592_png.rf.2aff550101597f51a8c77aca627b4a08.jpg: 224x224 automobile 0.63, ship 0.06, airplane 0.05, horse 0.05, truck 0.04, 42.8ms\n",
            "image 389/586 /content/datasets/cifar10_bo-2/test/automobile/estate_car_s_000738_png.rf.a5a4daff5f7862769618e15af6912a68.jpg: 224x224 automobile 0.58, truck 0.13, ship 0.08, airplane 0.04, cat 0.03, 36.7ms\n",
            "image 390/586 /content/datasets/cifar10_bo-2/test/automobile/estate_car_s_000811_png.rf.521201462ac41fe3ec9c7f49f120ed20.jpg: 224x224 automobile 0.54, truck 0.10, ship 0.08, bird 0.06, cat 0.05, 35.2ms\n",
            "image 391/586 /content/datasets/cifar10_bo-2/test/automobile/estate_car_s_001092_png.rf.f6fb54c2882c0ce94cdcae6765526af4.jpg: 224x224 automobile 0.58, truck 0.06, ship 0.06, airplane 0.06, deer 0.05, 36.1ms\n",
            "image 392/586 /content/datasets/cifar10_bo-2/test/automobile/estate_car_s_001126_png.rf.c1f80a7862fd95eba84ca92111dff3b8.jpg: 224x224 automobile 0.38, truck 0.14, airplane 0.09, bird 0.08, deer 0.08, 51.0ms\n",
            "image 393/586 /content/datasets/cifar10_bo-2/test/automobile/estate_car_s_001139_png.rf.08b2e94f745151cb1e06bbf004c5ad98.jpg: 224x224 automobile 0.43, bird 0.21, dog 0.10, cat 0.08, horse 0.04, 41.6ms\n",
            "image 394/586 /content/datasets/cifar10_bo-2/test/automobile/estate_car_s_001219_png.rf.9b4a79ca4c4af20ba29d77bed3fdef06.jpg: 224x224 automobile 0.60, truck 0.12, deer 0.06, ship 0.05, bird 0.04, 37.9ms\n",
            "image 395/586 /content/datasets/cifar10_bo-2/test/automobile/estate_car_s_001220_png.rf.d4dc181100eccedf5219c191feb19c45.jpg: 224x224 automobile 0.39, bird 0.15, airplane 0.12, truck 0.11, cat 0.06, 36.4ms\n",
            "image 396/586 /content/datasets/cifar10_bo-2/test/automobile/estate_car_s_001247_png.rf.6ecccd382eb6acd6c3846732a30b18d9.jpg: 224x224 automobile 0.63, ship 0.07, deer 0.06, truck 0.05, airplane 0.05, 36.0ms\n",
            "image 397/586 /content/datasets/cifar10_bo-2/test/automobile/estate_car_s_001255_png.rf.c7d79140241e3da0d4d655dfad0e0eb9.jpg: 224x224 automobile 0.45, truck 0.11, airplane 0.11, ship 0.08, cat 0.05, 35.2ms\n",
            "image 398/586 /content/datasets/cifar10_bo-2/test/automobile/estate_car_s_001298_png.rf.3f9b89180055e1c7115a81e5d5d135e3.jpg: 224x224 automobile 0.69, truck 0.08, ship 0.05, bird 0.04, cat 0.03, 35.9ms\n",
            "image 399/586 /content/datasets/cifar10_bo-2/test/automobile/estate_car_s_001347_png.rf.44356e6da75a054e736c236656435de3.jpg: 224x224 automobile 0.64, airplane 0.07, frog 0.05, ship 0.04, deer 0.04, 37.8ms\n",
            "image 400/586 /content/datasets/cifar10_bo-2/test/automobile/estate_car_s_001527_png.rf.3a8551bbbcea364c40aaa2549ee75737.jpg: 224x224 automobile 0.84, bird 0.04, truck 0.02, cat 0.02, ship 0.02, 40.5ms\n",
            "image 401/586 /content/datasets/cifar10_bo-2/test/automobile/estate_car_s_001607_png.rf.17312cfac8870fdbac2660dfb3f48adb.jpg: 224x224 automobile 0.56, truck 0.20, ship 0.07, cat 0.03, deer 0.03, 40.7ms\n",
            "image 402/586 /content/datasets/cifar10_bo-2/test/automobile/estate_car_s_001674_png.rf.99b113bf82a48890664474ee7cd229f0.jpg: 224x224 automobile 0.67, bird 0.06, truck 0.05, horse 0.04, deer 0.04, 37.0ms\n",
            "image 403/586 /content/datasets/cifar10_bo-2/test/automobile/estate_car_s_001743_png.rf.8063c046e754a774f4109030646f74a5.jpg: 224x224 automobile 0.64, truck 0.11, ship 0.04, cat 0.04, deer 0.04, 35.8ms\n",
            "image 404/586 /content/datasets/cifar10_bo-2/test/automobile/funny_wagon_s_000226_png.rf.7c7fde3d4a10376d9bc6606b8b77caf1.jpg: 224x224 automobile 0.61, bird 0.06, truck 0.06, deer 0.05, horse 0.05, 35.7ms\n",
            "image 405/586 /content/datasets/cifar10_bo-2/test/automobile/funny_wagon_s_000244_png.rf.aa588848292b18b769f6ecb7f4680665.jpg: 224x224 automobile 0.56, truck 0.09, deer 0.08, frog 0.06, cat 0.05, 37.6ms\n",
            "image 406/586 /content/datasets/cifar10_bo-2/test/automobile/funny_wagon_s_000510_png.rf.2ecf670df8cdbf64a70a0fe3b047cdaf.jpg: 224x224 automobile 0.42, truck 0.25, bird 0.08, deer 0.07, horse 0.04, 35.1ms\n",
            "image 407/586 /content/datasets/cifar10_bo-2/test/automobile/funny_wagon_s_000562_png.rf.62dfd70ffccf14d0efb5de236bcdd8cd.jpg: 224x224 automobile 0.49, ship 0.15, airplane 0.08, truck 0.07, deer 0.05, 43.1ms\n",
            "image 408/586 /content/datasets/cifar10_bo-2/test/automobile/minicab_s_000091_png.rf.9178969beb0f30b63502602e4b82fd78.jpg: 224x224 automobile 0.79, truck 0.05, deer 0.03, ship 0.03, cat 0.02, 37.7ms\n",
            "image 409/586 /content/datasets/cifar10_bo-2/test/automobile/minicab_s_000467_png.rf.410a9189660b5b47587663eba5e6c723.jpg: 224x224 automobile 0.63, bird 0.08, ship 0.06, airplane 0.04, frog 0.04, 38.4ms\n",
            "image 410/586 /content/datasets/cifar10_bo-2/test/automobile/motorcar_s_000117_png.rf.7bafea9d93594132676e27062fbec960.jpg: 224x224 automobile 0.69, cat 0.06, truck 0.05, airplane 0.05, bird 0.03, 37.1ms\n",
            "image 411/586 /content/datasets/cifar10_bo-2/test/automobile/motorcar_s_000370_png.rf.bdaa625989264ebcc0d12c8584e7ae24.jpg: 224x224 automobile 0.50, ship 0.13, airplane 0.12, truck 0.08, bird 0.04, 39.4ms\n",
            "image 412/586 /content/datasets/cifar10_bo-2/test/automobile/motorcar_s_000501_png.rf.4eb8a9af0ff0d7ae167b624ffe96f709.jpg: 224x224 automobile 0.65, ship 0.11, truck 0.05, airplane 0.04, cat 0.03, 41.9ms\n",
            "image 413/586 /content/datasets/cifar10_bo-2/test/automobile/motorcar_s_000575_png.rf.bf98b4b33fc3d016199be185b5ed9af5.jpg: 224x224 automobile 0.45, airplane 0.12, truck 0.11, ship 0.10, frog 0.06, 42.5ms\n",
            "image 414/586 /content/datasets/cifar10_bo-2/test/automobile/motorcar_s_001024_png.rf.0757ee5cd5c106a5fab9855fae043e25.jpg: 224x224 automobile 0.28, truck 0.25, cat 0.10, frog 0.07, bird 0.07, 47.3ms\n",
            "image 415/586 /content/datasets/cifar10_bo-2/test/automobile/motorcar_s_001035_png.rf.35e04c0065fce93da289d71b578f9c87.jpg: 224x224 automobile 0.52, deer 0.07, bird 0.07, ship 0.06, horse 0.06, 37.6ms\n",
            "image 416/586 /content/datasets/cifar10_bo-2/test/automobile/motorcar_s_001238_png.rf.c7271121838fc7195a590e578045db8c.jpg: 224x224 horse 0.23, automobile 0.19, truck 0.15, cat 0.11, dog 0.08, 34.7ms\n",
            "image 417/586 /content/datasets/cifar10_bo-2/test/automobile/motorcar_s_001301_png.rf.e4dc29172a88a4b3f55683ebd858c897.jpg: 224x224 automobile 0.28, bird 0.20, horse 0.12, airplane 0.08, deer 0.08, 35.2ms\n",
            "image 418/586 /content/datasets/cifar10_bo-2/test/automobile/motorcar_s_001305_png.rf.1ff0871842de2ee63d00a357243255a3.jpg: 224x224 automobile 0.34, airplane 0.12, truck 0.12, ship 0.10, horse 0.08, 38.0ms\n",
            "image 419/586 /content/datasets/cifar10_bo-2/test/automobile/motorcar_s_001390_png.rf.2641a9ad5cf0014f6d6f79da59c37d12.jpg: 224x224 truck 0.29, automobile 0.20, horse 0.11, airplane 0.09, bird 0.08, 37.0ms\n",
            "image 420/586 /content/datasets/cifar10_bo-2/test/automobile/motorcar_s_001410_png.rf.f1f8e3ec61d91cfc60c830ae24dc34dc.jpg: 224x224 automobile 0.36, truck 0.27, cat 0.06, horse 0.05, ship 0.05, 38.0ms\n",
            "image 421/586 /content/datasets/cifar10_bo-2/test/automobile/motorcar_s_001421_png.rf.053ad620633125bf062a55e963406671.jpg: 224x224 automobile 0.21, cat 0.17, horse 0.17, dog 0.12, deer 0.10, 35.9ms\n",
            "image 422/586 /content/datasets/cifar10_bo-2/test/automobile/motorcar_s_001451_png.rf.be66bcfce2b49720f5d7b4c02e1a7e63.jpg: 224x224 automobile 0.46, airplane 0.13, ship 0.12, truck 0.10, bird 0.04, 35.9ms\n",
            "image 423/586 /content/datasets/cifar10_bo-2/test/automobile/motorcar_s_001490_png.rf.576e16ea9ed635c1c6ccc509960db37a.jpg: 224x224 automobile 0.77, bird 0.05, deer 0.03, truck 0.03, frog 0.03, 36.6ms\n",
            "image 424/586 /content/datasets/cifar10_bo-2/test/automobile/motorcar_s_001585_png.rf.fef052a87bbbb8208905a0e88442ea60.jpg: 224x224 automobile 0.39, ship 0.11, bird 0.09, deer 0.08, airplane 0.08, 37.3ms\n",
            "image 425/586 /content/datasets/cifar10_bo-2/test/automobile/motorcar_s_001748_png.rf.cb1bf11e463dbf3261cc8d4e4979c4bc.jpg: 224x224 automobile 0.47, truck 0.24, cat 0.06, deer 0.05, ship 0.04, 35.3ms\n",
            "image 426/586 /content/datasets/cifar10_bo-2/test/automobile/motorcar_s_001861_png.rf.87014271450f402d42dc6dead07ad9b3.jpg: 224x224 automobile 0.50, truck 0.10, airplane 0.07, horse 0.07, bird 0.06, 37.5ms\n",
            "image 427/586 /content/datasets/cifar10_bo-2/test/automobile/motorcar_s_002110_png.rf.eea8682522161530e16743d13f6e435e.jpg: 224x224 automobile 0.54, cat 0.12, bird 0.09, frog 0.05, dog 0.05, 35.3ms\n",
            "image 428/586 /content/datasets/cifar10_bo-2/test/automobile/motorcar_s_002111_png.rf.cadf48a14d4a0d2fc132feb52ccbfe15.jpg: 224x224 automobile 0.43, cat 0.15, truck 0.09, bird 0.08, horse 0.07, 34.9ms\n",
            "image 429/586 /content/datasets/cifar10_bo-2/test/automobile/motorcar_s_002156_png.rf.da72198cc7b20839647fc4d88dd1d67e.jpg: 224x224 automobile 0.55, ship 0.09, cat 0.06, airplane 0.06, deer 0.05, 36.0ms\n",
            "image 430/586 /content/datasets/cifar10_bo-2/test/automobile/motorcar_s_002166_png.rf.5441c585412041454f73696825b9fb2a.jpg: 224x224 automobile 0.39, truck 0.39, cat 0.04, ship 0.04, horse 0.03, 35.8ms\n",
            "image 431/586 /content/datasets/cifar10_bo-2/test/automobile/motorcar_s_002366_png.rf.79909050a0f8b848708b93fed4a71c0e.jpg: 224x224 automobile 0.70, ship 0.05, truck 0.04, bird 0.04, deer 0.04, 38.6ms\n",
            "image 432/586 /content/datasets/cifar10_bo-2/test/automobile/motorcar_s_002471_png.rf.45fd0bd6f361159730090cb4680eb356.jpg: 224x224 automobile 0.62, ship 0.11, bird 0.06, truck 0.04, cat 0.04, 37.1ms\n",
            "image 433/586 /content/datasets/cifar10_bo-2/test/automobile/police_cruiser_s_000091_png.rf.06980ae8dba6e9f1eb413b324e04e5ee.jpg: 224x224 automobile 0.53, deer 0.09, ship 0.07, truck 0.06, bird 0.06, 42.6ms\n",
            "image 434/586 /content/datasets/cifar10_bo-2/test/automobile/police_cruiser_s_000147_png.rf.09190a56ed1a60181d9a52b5fecb3618.jpg: 224x224 automobile 0.65, ship 0.10, cat 0.05, bird 0.04, deer 0.04, 38.3ms\n",
            "image 435/586 /content/datasets/cifar10_bo-2/test/automobile/police_cruiser_s_000148_png.rf.de109d6711ffbfedcbde7e3045ed81ee.jpg: 224x224 automobile 0.66, cat 0.07, truck 0.05, ship 0.05, airplane 0.04, 37.4ms\n",
            "image 436/586 /content/datasets/cifar10_bo-2/test/automobile/police_cruiser_s_000181_png.rf.872c028f84f7df3992b7dd2e8ee90884.jpg: 224x224 automobile 0.42, ship 0.21, airplane 0.08, cat 0.06, bird 0.05, 35.6ms\n",
            "image 437/586 /content/datasets/cifar10_bo-2/test/automobile/police_cruiser_s_000197_png.rf.8b9ca77ea4cd9c91deeca82e3c6d710d.jpg: 224x224 automobile 0.51, truck 0.19, ship 0.06, deer 0.05, cat 0.05, 51.5ms\n",
            "image 438/586 /content/datasets/cifar10_bo-2/test/automobile/police_cruiser_s_000200_png.rf.7524077e3006f07f4bd4201c9451d361.jpg: 224x224 automobile 0.57, bird 0.08, truck 0.07, ship 0.07, deer 0.05, 36.0ms\n",
            "image 439/586 /content/datasets/cifar10_bo-2/test/automobile/police_cruiser_s_000281_png.rf.d86cf8f8eaa65b6b2b2b80df7681a510.jpg: 224x224 automobile 0.62, deer 0.06, ship 0.06, truck 0.05, frog 0.04, 37.5ms\n",
            "image 440/586 /content/datasets/cifar10_bo-2/test/automobile/police_cruiser_s_000359_png.rf.aba15f2bb5a41c3731752bf99ef60697.jpg: 224x224 automobile 0.48, ship 0.21, bird 0.11, airplane 0.06, dog 0.03, 35.4ms\n",
            "image 441/586 /content/datasets/cifar10_bo-2/test/automobile/police_cruiser_s_000542_png.rf.cf60ea50ba954a677490963005c5e02d.jpg: 224x224 automobile 0.60, truck 0.07, airplane 0.06, frog 0.05, bird 0.05, 36.0ms\n",
            "image 442/586 /content/datasets/cifar10_bo-2/test/automobile/police_cruiser_s_000616_png.rf.742bb542ffb65b9821535611c20a9162.jpg: 224x224 automobile 0.54, cat 0.07, deer 0.07, bird 0.06, truck 0.05, 35.6ms\n",
            "image 443/586 /content/datasets/cifar10_bo-2/test/automobile/police_cruiser_s_000784_png.rf.b26a222d3465ee34f7a7e5c6bb8c2325.jpg: 224x224 automobile 0.73, cat 0.05, ship 0.03, truck 0.03, dog 0.03, 34.5ms\n",
            "image 444/586 /content/datasets/cifar10_bo-2/test/automobile/police_cruiser_s_000802_png.rf.35c5c812405cd0378b809633f858be48.jpg: 224x224 automobile 0.51, truck 0.12, ship 0.09, deer 0.06, horse 0.04, 35.3ms\n",
            "image 445/586 /content/datasets/cifar10_bo-2/test/automobile/police_cruiser_s_000828_png.rf.46f44b23620505165f42e557e9e13dad.jpg: 224x224 automobile 0.52, truck 0.17, ship 0.06, cat 0.05, dog 0.05, 38.8ms\n",
            "image 446/586 /content/datasets/cifar10_bo-2/test/automobile/police_cruiser_s_000848_png.rf.00f6727253cb1240b283fb371194199c.jpg: 224x224 automobile 0.46, ship 0.11, truck 0.10, deer 0.07, cat 0.06, 38.6ms\n",
            "image 447/586 /content/datasets/cifar10_bo-2/test/automobile/police_cruiser_s_000851_png.rf.cfb8d2d6b4499a19fa9936a7998fab7a.jpg: 224x224 automobile 0.55, truck 0.14, ship 0.07, airplane 0.06, deer 0.04, 38.7ms\n",
            "image 448/586 /content/datasets/cifar10_bo-2/test/automobile/police_cruiser_s_000853_png.rf.d494c450aeed531e3fdf97523fd6e8bc.jpg: 224x224 automobile 0.56, truck 0.11, cat 0.07, deer 0.05, horse 0.05, 35.9ms\n",
            "image 449/586 /content/datasets/cifar10_bo-2/test/automobile/police_cruiser_s_000875_png.rf.3057d2f7cd8a62aa11fd23fb3e22f8af.jpg: 224x224 automobile 0.38, truck 0.11, cat 0.10, bird 0.10, dog 0.08, 35.2ms\n",
            "image 450/586 /content/datasets/cifar10_bo-2/test/automobile/police_cruiser_s_000916_png.rf.12d4b7130563398f780bedf7f896343f.jpg: 224x224 automobile 0.59, truck 0.12, deer 0.05, cat 0.04, ship 0.04, 35.3ms\n",
            "image 451/586 /content/datasets/cifar10_bo-2/test/automobile/police_cruiser_s_000966_png.rf.58b906d5fee83cad35aee294ef6fde06.jpg: 224x224 automobile 0.57, truck 0.14, ship 0.12, airplane 0.07, deer 0.02, 36.0ms\n",
            "image 452/586 /content/datasets/cifar10_bo-2/test/automobile/police_cruiser_s_001047_png.rf.bd922643ab4ff6ecdbec8c19cb71233e.jpg: 224x224 automobile 0.48, truck 0.13, airplane 0.13, ship 0.09, horse 0.04, 36.4ms\n",
            "image 453/586 /content/datasets/cifar10_bo-2/test/automobile/police_cruiser_s_001073_png.rf.bafc794627b798ba46a153aa7533ec23.jpg: 224x224 automobile 0.43, truck 0.10, ship 0.09, airplane 0.09, horse 0.06, 42.3ms\n",
            "image 454/586 /content/datasets/cifar10_bo-2/test/automobile/police_cruiser_s_001074_png.rf.bd3efac5d725dcd94063c1ffcafd0e40.jpg: 224x224 automobile 0.37, airplane 0.11, truck 0.11, horse 0.10, ship 0.08, 36.0ms\n",
            "image 455/586 /content/datasets/cifar10_bo-2/test/automobile/police_cruiser_s_001312_png.rf.7f93a2bfc9162ff51fd9c1f4f025d02e.jpg: 224x224 truck 0.32, automobile 0.22, cat 0.10, airplane 0.07, bird 0.07, 36.0ms\n",
            "image 456/586 /content/datasets/cifar10_bo-2/test/automobile/police_cruiser_s_001401_png.rf.c3a91cb289c5042698862c7bad71b074.jpg: 224x224 automobile 0.46, ship 0.11, deer 0.07, truck 0.06, bird 0.06, 35.3ms\n",
            "image 457/586 /content/datasets/cifar10_bo-2/test/automobile/police_cruiser_s_001424_png.rf.dd3069e3a39650119a3f4129d081c0f2.jpg: 224x224 automobile 0.54, truck 0.18, deer 0.06, ship 0.05, cat 0.04, 36.0ms\n",
            "image 458/586 /content/datasets/cifar10_bo-2/test/automobile/shooting_brake_s_000016_png.rf.5e6da33f6bce1774b21b6a9699f116b1.jpg: 224x224 automobile 0.48, ship 0.18, airplane 0.07, truck 0.05, frog 0.04, 38.5ms\n",
            "image 459/586 /content/datasets/cifar10_bo-2/test/automobile/shooting_brake_s_000049_png.rf.588384b0734d1b18373acaafc7fc1ba0.jpg: 224x224 automobile 0.73, deer 0.05, bird 0.04, frog 0.03, truck 0.03, 34.3ms\n",
            "image 460/586 /content/datasets/cifar10_bo-2/test/automobile/shooting_brake_s_000215_png.rf.c334ae750e9a0f8ed5ad24db7a70f4d6.jpg: 224x224 automobile 0.47, cat 0.09, ship 0.08, horse 0.06, airplane 0.06, 52.6ms\n",
            "image 461/586 /content/datasets/cifar10_bo-2/test/automobile/shooting_brake_s_000224_png.rf.fa80a2b963ef3f84ffa05fc56e92c0c3.jpg: 224x224 automobile 0.32, ship 0.14, airplane 0.13, cat 0.09, horse 0.06, 35.0ms\n",
            "image 462/586 /content/datasets/cifar10_bo-2/test/automobile/shooting_brake_s_000225_png.rf.3bc6c62e2939a2d2beb55e73adb2b59c.jpg: 224x224 automobile 0.64, horse 0.06, deer 0.05, bird 0.05, cat 0.04, 35.8ms\n",
            "image 463/586 /content/datasets/cifar10_bo-2/test/automobile/shooting_brake_s_000265_png.rf.48566849af7cbab6cd75f85cdf5a6d42.jpg: 224x224 automobile 0.67, ship 0.07, airplane 0.05, truck 0.03, cat 0.03, 35.0ms\n",
            "image 464/586 /content/datasets/cifar10_bo-2/test/automobile/shooting_brake_s_000377_png.rf.83e8169b0bd043f47780ad6f6781763f.jpg: 224x224 automobile 0.67, cat 0.06, bird 0.05, ship 0.04, airplane 0.04, 35.5ms\n",
            "image 465/586 /content/datasets/cifar10_bo-2/test/automobile/shooting_brake_s_000410_png.rf.258556842acf4f3921fd97f695e5109e.jpg: 224x224 automobile 0.66, cat 0.05, ship 0.05, dog 0.04, bird 0.04, 38.2ms\n",
            "image 466/586 /content/datasets/cifar10_bo-2/test/automobile/shooting_brake_s_000426_png.rf.a3fefa364a4ff26f01f035c17980982c.jpg: 224x224 automobile 0.73, ship 0.05, truck 0.05, cat 0.03, airplane 0.03, 36.4ms\n",
            "image 467/586 /content/datasets/cifar10_bo-2/test/automobile/shooting_brake_s_000436_png.rf.60e6dab1c1ca1f294bc9ea5ec14999f2.jpg: 224x224 automobile 0.54, truck 0.08, cat 0.07, ship 0.06, airplane 0.05, 37.0ms\n",
            "image 468/586 /content/datasets/cifar10_bo-2/test/automobile/shooting_brake_s_000439_png.rf.41b7909a9ca3495639e5fc4022f9f11d.jpg: 224x224 automobile 0.64, cat 0.07, truck 0.05, dog 0.04, ship 0.04, 36.5ms\n",
            "image 469/586 /content/datasets/cifar10_bo-2/test/automobile/shooting_brake_s_000579_png.rf.7e18860d2676b9ecd92d920e26e224cd.jpg: 224x224 automobile 0.60, ship 0.07, truck 0.07, airplane 0.05, cat 0.05, 38.6ms\n",
            "image 470/586 /content/datasets/cifar10_bo-2/test/automobile/shooting_brake_s_000642_png.rf.707510dadf954d08dfb61435aec8b281.jpg: 224x224 automobile 0.64, truck 0.10, ship 0.05, airplane 0.04, cat 0.04, 36.4ms\n",
            "image 471/586 /content/datasets/cifar10_bo-2/test/automobile/shooting_brake_s_000680_png.rf.4f29934d96fe8384e503526df4e10b5b.jpg: 224x224 automobile 0.62, truck 0.05, dog 0.05, ship 0.05, cat 0.05, 41.3ms\n",
            "image 472/586 /content/datasets/cifar10_bo-2/test/automobile/shooting_brake_s_000740_png.rf.153bc7fb429b08a8fa51b1a1eb3bebb7.jpg: 224x224 automobile 0.49, cat 0.09, truck 0.09, ship 0.07, dog 0.06, 36.0ms\n",
            "image 473/586 /content/datasets/cifar10_bo-2/test/automobile/shooting_brake_s_000770_png.rf.e8e527f158b4efa9185112364b305365.jpg: 224x224 automobile 0.64, cat 0.08, frog 0.04, bird 0.04, ship 0.04, 41.3ms\n",
            "image 474/586 /content/datasets/cifar10_bo-2/test/automobile/shooting_brake_s_000847_png.rf.41cbb21fe2685f1fb8329f4990727643.jpg: 224x224 automobile 0.43, bird 0.08, horse 0.07, cat 0.07, deer 0.06, 35.4ms\n",
            "image 475/586 /content/datasets/cifar10_bo-2/test/automobile/shooting_brake_s_000875_png.rf.1f779bbcf019425bf5d21acdbf8664f3.jpg: 224x224 automobile 0.55, ship 0.12, airplane 0.06, cat 0.04, frog 0.04, 36.2ms\n",
            "image 476/586 /content/datasets/cifar10_bo-2/test/automobile/shooting_brake_s_000938_png.rf.435d4a578cefd45ebde8b44f79bad219.jpg: 224x224 automobile 0.53, ship 0.11, airplane 0.09, truck 0.08, cat 0.04, 38.0ms\n",
            "image 477/586 /content/datasets/cifar10_bo-2/test/automobile/shooting_brake_s_000942_png.rf.ff2ff0d27f57b2537ee33c9e9b25a936.jpg: 224x224 automobile 0.83, truck 0.07, cat 0.02, dog 0.01, airplane 0.01, 35.6ms\n",
            "image 478/586 /content/datasets/cifar10_bo-2/test/automobile/shooting_brake_s_000958_png.rf.3753bf09d14dbba6270de237193f6383.jpg: 224x224 automobile 0.55, ship 0.09, truck 0.08, cat 0.06, airplane 0.05, 38.3ms\n",
            "image 479/586 /content/datasets/cifar10_bo-2/test/automobile/shooting_brake_s_000967_png.rf.814ae325c96bcc9252b678df2eb075b0.jpg: 224x224 automobile 0.52, cat 0.08, dog 0.08, horse 0.08, truck 0.06, 36.0ms\n",
            "image 480/586 /content/datasets/cifar10_bo-2/test/automobile/shooting_brake_s_001045_png.rf.5b3dac704c3da4c89d34e407c5fb2450.jpg: 224x224 automobile 0.53, ship 0.10, airplane 0.06, truck 0.05, cat 0.05, 39.0ms\n",
            "image 481/586 /content/datasets/cifar10_bo-2/test/automobile/shooting_brake_s_001109_png.rf.c0d47a265d662a16fdca0549e08be7e4.jpg: 224x224 automobile 0.68, cat 0.05, airplane 0.04, truck 0.04, ship 0.04, 36.6ms\n",
            "image 482/586 /content/datasets/cifar10_bo-2/test/automobile/shooting_brake_s_001162_png.rf.33761c6a10195102e2666e0c34466870.jpg: 224x224 automobile 0.70, truck 0.15, airplane 0.02, bird 0.02, deer 0.02, 36.8ms\n",
            "image 483/586 /content/datasets/cifar10_bo-2/test/automobile/shooting_brake_s_001182_png.rf.8ba17d93b427b7c8265462bc13936771.jpg: 224x224 automobile 0.61, truck 0.08, ship 0.07, airplane 0.04, deer 0.04, 47.8ms\n",
            "image 484/586 /content/datasets/cifar10_bo-2/test/automobile/shooting_brake_s_001226_png.rf.1221a742c7861b0de8490be7e967d3ff.jpg: 224x224 automobile 0.58, deer 0.11, horse 0.06, bird 0.06, frog 0.05, 34.9ms\n",
            "image 485/586 /content/datasets/cifar10_bo-2/test/automobile/shooting_brake_s_001251_png.rf.63ec8e37270565e0e29daab640acd98c.jpg: 224x224 automobile 0.75, cat 0.07, ship 0.03, dog 0.03, truck 0.02, 38.1ms\n",
            "image 486/586 /content/datasets/cifar10_bo-2/test/automobile/shooting_brake_s_001254_png.rf.622591f5de9b68c2207cd6fb7d6f6335.jpg: 224x224 automobile 0.43, truck 0.26, cat 0.07, horse 0.05, dog 0.04, 39.3ms\n",
            "image 487/586 /content/datasets/cifar10_bo-2/test/automobile/shooting_brake_s_001454_png.rf.1497016309df7c75438bc940daded5de.jpg: 224x224 automobile 0.51, cat 0.09, ship 0.07, truck 0.07, dog 0.06, 36.1ms\n",
            "image 488/586 /content/datasets/cifar10_bo-2/test/automobile/shooting_brake_s_001477_png.rf.b929065fc462bce911bd664f9879a9a3.jpg: 224x224 automobile 0.52, ship 0.11, airplane 0.07, truck 0.05, cat 0.05, 36.4ms\n",
            "image 489/586 /content/datasets/cifar10_bo-2/test/automobile/shooting_brake_s_001497_png.rf.d6cee1e33d36af69b346cb45c13dee22.jpg: 224x224 automobile 0.52, ship 0.10, truck 0.07, airplane 0.06, horse 0.06, 35.8ms\n",
            "image 490/586 /content/datasets/cifar10_bo-2/test/automobile/shooting_brake_s_001555_png.rf.02a503623bbd5d980ef1c6e244adf4d1.jpg: 224x224 automobile 0.71, truck 0.04, cat 0.04, ship 0.04, horse 0.03, 35.2ms\n",
            "image 491/586 /content/datasets/cifar10_bo-2/test/automobile/shooting_brake_s_001640_png.rf.3bf9ca98557d2b485e57bacf59a9e585.jpg: 224x224 automobile 0.77, truck 0.10, cat 0.03, airplane 0.02, ship 0.02, 37.3ms\n",
            "image 492/586 /content/datasets/cifar10_bo-2/test/automobile/shooting_brake_s_001699_png.rf.252de6a07e1d2de39dc07793aaa0aaba.jpg: 224x224 automobile 0.77, truck 0.06, cat 0.05, dog 0.02, airplane 0.02, 37.7ms\n",
            "image 493/586 /content/datasets/cifar10_bo-2/test/automobile/station_wagon_s_000022_png.rf.e125024664a449efebb0a225704c03e4.jpg: 224x224 automobile 0.41, deer 0.12, ship 0.10, frog 0.07, bird 0.07, 41.6ms\n",
            "image 494/586 /content/datasets/cifar10_bo-2/test/automobile/station_wagon_s_000078_png.rf.67025e31f5a3aa19c862c4cd7938cb66.jpg: 224x224 truck 0.73, automobile 0.12, horse 0.04, cat 0.02, deer 0.02, 36.9ms\n",
            "image 495/586 /content/datasets/cifar10_bo-2/test/automobile/station_wagon_s_000085_png.rf.03f3308584fa30037d522847a9e2a6c0.jpg: 224x224 automobile 0.54, truck 0.22, deer 0.05, cat 0.03, horse 0.03, 37.1ms\n",
            "image 496/586 /content/datasets/cifar10_bo-2/test/automobile/station_wagon_s_000115_png.rf.6519fc8e358987a59a7e926cd7515faf.jpg: 224x224 automobile 0.31, truck 0.19, cat 0.18, deer 0.09, ship 0.05, 36.4ms\n",
            "image 497/586 /content/datasets/cifar10_bo-2/test/automobile/station_wagon_s_000134_png.rf.435d09666b87e56f6a6a6aacaa685e49.jpg: 224x224 truck 0.32, automobile 0.23, cat 0.07, horse 0.06, ship 0.06, 35.3ms\n",
            "image 498/586 /content/datasets/cifar10_bo-2/test/automobile/station_wagon_s_000168_png.rf.395cfa2770e2bd408ca83501b29de81f.jpg: 224x224 automobile 0.49, airplane 0.10, ship 0.09, truck 0.09, bird 0.05, 41.0ms\n",
            "image 499/586 /content/datasets/cifar10_bo-2/test/automobile/station_wagon_s_000176_png.rf.30fe7e1764ce8991fb2734919f4a4c41.jpg: 224x224 automobile 0.72, ship 0.05, cat 0.04, frog 0.04, deer 0.04, 34.6ms\n",
            "image 500/586 /content/datasets/cifar10_bo-2/test/automobile/station_wagon_s_000182_png.rf.3aa0419fc77a7a2735c98885abde9df7.jpg: 224x224 automobile 0.54, truck 0.09, ship 0.07, deer 0.06, airplane 0.05, 39.4ms\n",
            "image 501/586 /content/datasets/cifar10_bo-2/test/automobile/station_wagon_s_000259_png.rf.372c7aa68b319ea62cde45a57cbc42bf.jpg: 224x224 automobile 0.55, bird 0.10, truck 0.07, dog 0.06, cat 0.05, 35.6ms\n",
            "image 502/586 /content/datasets/cifar10_bo-2/test/automobile/station_wagon_s_000269_png.rf.f10a6836bba9bdd50b3367d991ca97fe.jpg: 224x224 automobile 0.53, truck 0.13, deer 0.06, horse 0.05, cat 0.04, 36.0ms\n",
            "image 503/586 /content/datasets/cifar10_bo-2/test/automobile/station_wagon_s_000294_png.rf.323fc5cf61ed5ed1b7e6e0d2314e13b2.jpg: 224x224 automobile 0.60, truck 0.14, deer 0.04, airplane 0.03, ship 0.03, 34.8ms\n",
            "image 504/586 /content/datasets/cifar10_bo-2/test/automobile/station_wagon_s_000315_png.rf.f73a6af35f5776ef630332b0c48387b4.jpg: 224x224 automobile 0.43, ship 0.21, airplane 0.07, truck 0.07, horse 0.06, 36.8ms\n",
            "image 505/586 /content/datasets/cifar10_bo-2/test/automobile/station_wagon_s_000335_png.rf.f8c8980ec398ba8c142803cde4eea9c8.jpg: 224x224 automobile 0.52, ship 0.14, bird 0.06, airplane 0.05, frog 0.05, 38.3ms\n",
            "image 506/586 /content/datasets/cifar10_bo-2/test/automobile/station_wagon_s_000347_png.rf.c8c3158d4b706c85d7ce5cc4cc7692ad.jpg: 224x224 automobile 0.40, ship 0.11, deer 0.09, bird 0.08, cat 0.07, 52.3ms\n",
            "image 507/586 /content/datasets/cifar10_bo-2/test/automobile/station_wagon_s_000351_png.rf.1d759e29305d45bd6aaf400e27a8e6de.jpg: 224x224 automobile 0.42, airplane 0.16, ship 0.11, truck 0.07, bird 0.06, 36.9ms\n",
            "image 508/586 /content/datasets/cifar10_bo-2/test/automobile/station_wagon_s_000400_png.rf.99f64610f212f1b5f3ec6ff25238b5ac.jpg: 224x224 automobile 0.55, truck 0.12, ship 0.07, cat 0.05, horse 0.04, 35.7ms\n",
            "image 509/586 /content/datasets/cifar10_bo-2/test/automobile/station_wagon_s_000494_png.rf.59b60994eebf97f7884a309f54db8935.jpg: 224x224 automobile 0.56, truck 0.07, airplane 0.07, bird 0.06, ship 0.05, 35.3ms\n",
            "image 510/586 /content/datasets/cifar10_bo-2/test/automobile/station_wagon_s_000563_png.rf.8575f4adfd4c553f4550c775d5a5e155.jpg: 224x224 automobile 0.51, truck 0.31, ship 0.03, bird 0.03, frog 0.02, 35.2ms\n",
            "image 511/586 /content/datasets/cifar10_bo-2/test/automobile/station_wagon_s_000678_png.rf.b3b1424f2bdabd4e73d3db24171148bb.jpg: 224x224 automobile 0.41, truck 0.27, cat 0.06, deer 0.04, horse 0.04, 35.7ms\n",
            "image 512/586 /content/datasets/cifar10_bo-2/test/automobile/station_wagon_s_000685_png.rf.4b12d60561161b5f59a3b089f9a19992.jpg: 224x224 automobile 0.55, ship 0.23, truck 0.04, cat 0.04, bird 0.03, 44.1ms\n",
            "image 513/586 /content/datasets/cifar10_bo-2/test/automobile/station_wagon_s_000689_png.rf.2d82903df6c3aebc376cc1f899760576.jpg: 224x224 ship 0.32, automobile 0.19, truck 0.18, airplane 0.12, cat 0.05, 50.8ms\n",
            "image 514/586 /content/datasets/cifar10_bo-2/test/automobile/station_wagon_s_000750_png.rf.f277bb216b4771c3e6cc63436d72b359.jpg: 224x224 automobile 0.53, truck 0.09, cat 0.07, deer 0.07, bird 0.06, 57.4ms\n",
            "image 515/586 /content/datasets/cifar10_bo-2/test/automobile/station_wagon_s_000768_png.rf.67639dcda3834ee88552365e566ff591.jpg: 224x224 ship 0.39, automobile 0.21, truck 0.16, airplane 0.06, cat 0.04, 54.4ms\n",
            "image 516/586 /content/datasets/cifar10_bo-2/test/automobile/station_wagon_s_000832_png.rf.e323a16ca71abe0613e0e9b942441542.jpg: 224x224 automobile 0.70, bird 0.06, airplane 0.05, cat 0.04, ship 0.04, 55.9ms\n",
            "image 517/586 /content/datasets/cifar10_bo-2/test/automobile/station_wagon_s_000918_png.rf.71202c3909ae0f4368662aa2fae587e0.jpg: 224x224 automobile 0.66, truck 0.06, ship 0.05, deer 0.05, airplane 0.04, 55.5ms\n",
            "image 518/586 /content/datasets/cifar10_bo-2/test/automobile/station_wagon_s_000946_png.rf.4f3d5f0e4303119d8662225c8ce46006.jpg: 224x224 automobile 0.56, cat 0.05, deer 0.05, truck 0.05, bird 0.05, 53.9ms\n",
            "image 519/586 /content/datasets/cifar10_bo-2/test/automobile/station_wagon_s_000948_png.rf.6c43facf4aa374ab2ab51f110c0d798c.jpg: 224x224 automobile 0.44, truck 0.18, ship 0.07, airplane 0.06, cat 0.05, 58.3ms\n",
            "image 520/586 /content/datasets/cifar10_bo-2/test/automobile/station_wagon_s_000950_png.rf.fba73573d858bfac83780ffc59ba5a11.jpg: 224x224 ship 0.27, automobile 0.25, truck 0.19, airplane 0.11, horse 0.04, 57.8ms\n",
            "image 521/586 /content/datasets/cifar10_bo-2/test/automobile/station_wagon_s_000959_png.rf.9c43179a07701597626876575bd0c04c.jpg: 224x224 automobile 0.54, cat 0.08, airplane 0.06, truck 0.06, ship 0.05, 54.0ms\n",
            "image 522/586 /content/datasets/cifar10_bo-2/test/automobile/station_wagon_s_001039_png.rf.2b4e52940add7be9174576a254bea620.jpg: 224x224 automobile 0.63, truck 0.10, deer 0.05, ship 0.05, bird 0.03, 56.7ms\n",
            "image 523/586 /content/datasets/cifar10_bo-2/test/automobile/station_wagon_s_001076_png.rf.176ac9e9c10bb33b1ec57cc68c25c12f.jpg: 224x224 automobile 0.64, ship 0.07, truck 0.07, airplane 0.06, cat 0.03, 63.7ms\n",
            "image 524/586 /content/datasets/cifar10_bo-2/test/automobile/station_wagon_s_001114_png.rf.899a7f5389998ea7cd5d48a1796a84eb.jpg: 224x224 automobile 0.39, truck 0.24, cat 0.08, airplane 0.05, ship 0.05, 57.9ms\n",
            "image 525/586 /content/datasets/cifar10_bo-2/test/automobile/station_wagon_s_001163_png.rf.abf27bdbd25cebfd67d0698d209b6052.jpg: 224x224 automobile 0.71, truck 0.07, deer 0.04, cat 0.04, bird 0.03, 57.4ms\n",
            "image 526/586 /content/datasets/cifar10_bo-2/test/automobile/station_wagon_s_001283_png.rf.ef21bf224d0e04575a23108f181bc08e.jpg: 224x224 automobile 0.72, truck 0.05, ship 0.05, airplane 0.04, deer 0.04, 64.1ms\n",
            "image 527/586 /content/datasets/cifar10_bo-2/test/automobile/station_wagon_s_001342_png.rf.ee1407ca0e291a291588b6ae4fb00603.jpg: 224x224 automobile 0.66, truck 0.07, frog 0.05, deer 0.04, bird 0.04, 56.6ms\n",
            "image 528/586 /content/datasets/cifar10_bo-2/test/automobile/station_wagon_s_001387_png.rf.94e5ad71440bb4b4b048fec0a31ca52d.jpg: 224x224 automobile 0.49, ship 0.20, airplane 0.07, truck 0.06, bird 0.04, 60.0ms\n",
            "image 529/586 /content/datasets/cifar10_bo-2/test/automobile/station_wagon_s_001654_png.rf.985779064a2af5f3be5935c79d9f5f54.jpg: 224x224 automobile 0.53, truck 0.15, ship 0.13, cat 0.04, airplane 0.04, 57.2ms\n",
            "image 530/586 /content/datasets/cifar10_bo-2/test/automobile/station_wagon_s_001836_png.rf.49f3f573899ed47408e82ed79c45ddbd.jpg: 224x224 automobile 0.61, ship 0.06, cat 0.06, bird 0.05, deer 0.04, 56.9ms\n",
            "image 531/586 /content/datasets/cifar10_bo-2/test/automobile/station_wagon_s_001877_png.rf.cf19f0274958dddefe18c2a32b465c74.jpg: 224x224 automobile 0.51, truck 0.14, ship 0.06, airplane 0.06, cat 0.05, 58.6ms\n",
            "image 532/586 /content/datasets/cifar10_bo-2/test/automobile/station_wagon_s_001943_png.rf.36536ac20f27401b92db1b37d4765d3e.jpg: 224x224 automobile 0.60, ship 0.07, airplane 0.06, cat 0.05, truck 0.05, 70.3ms\n",
            "image 533/586 /content/datasets/cifar10_bo-2/test/automobile/station_wagon_s_001994_png.rf.aea67386aa6056688e2878c3a3514412.jpg: 224x224 automobile 0.53, ship 0.14, frog 0.06, bird 0.05, truck 0.05, 57.2ms\n",
            "image 534/586 /content/datasets/cifar10_bo-2/test/automobile/station_wagon_s_002052_png.rf.1d68ad1f95ca461f936d20c3cecb189a.jpg: 224x224 automobile 0.54, truck 0.14, ship 0.08, bird 0.04, airplane 0.04, 54.0ms\n",
            "image 535/586 /content/datasets/cifar10_bo-2/test/automobile/station_wagon_s_002067_png.rf.559cf32be10e29b88a8d68611061ae9d.jpg: 224x224 truck 0.29, automobile 0.28, ship 0.10, deer 0.07, bird 0.06, 59.8ms\n",
            "image 536/586 /content/datasets/cifar10_bo-2/test/automobile/station_wagon_s_002096_png.rf.caf29eb3185fe42e6bdcc7494ccd7912.jpg: 224x224 automobile 0.48, airplane 0.09, truck 0.08, ship 0.07, deer 0.07, 57.0ms\n",
            "image 537/586 /content/datasets/cifar10_bo-2/test/automobile/station_wagon_s_002114_png.rf.34dbec1f2372f2f82ae1cbd4388f0e77.jpg: 224x224 automobile 0.61, ship 0.10, truck 0.05, airplane 0.04, cat 0.04, 53.1ms\n",
            "image 538/586 /content/datasets/cifar10_bo-2/test/automobile/station_wagon_s_002324_png.rf.d50cffcfc89f4b0866305960580c81ad.jpg: 224x224 automobile 0.52, truck 0.14, bird 0.05, deer 0.05, airplane 0.05, 53.3ms\n",
            "image 539/586 /content/datasets/cifar10_bo-2/test/automobile/station_wagon_s_002435_png.rf.007b490fbc92162e3e5a2f780ab5031f.jpg: 224x224 automobile 0.57, cat 0.09, frog 0.06, ship 0.05, bird 0.05, 60.2ms\n",
            "image 540/586 /content/datasets/cifar10_bo-2/test/automobile/station_wagon_s_002466_png.rf.a1804d41b060aee87cbdcc39da693539.jpg: 224x224 automobile 0.74, truck 0.06, deer 0.04, ship 0.03, bird 0.03, 56.2ms\n",
            "image 541/586 /content/datasets/cifar10_bo-2/test/automobile/station_wagon_s_002640_png.rf.096030413b079aae075b370a7911ce27.jpg: 224x224 automobile 0.47, truck 0.13, deer 0.06, bird 0.06, ship 0.06, 58.8ms\n",
            "image 542/586 /content/datasets/cifar10_bo-2/test/automobile/station_wagon_s_002648_png.rf.332219fa9165357d91255917de0277d4.jpg: 224x224 ship 0.30, automobile 0.26, airplane 0.12, truck 0.07, cat 0.05, 57.9ms\n",
            "image 543/586 /content/datasets/cifar10_bo-2/test/automobile/station_wagon_s_002686_png.rf.8d87fb4494f51b1e25c45150e68f3522.jpg: 224x224 automobile 0.63, ship 0.13, truck 0.05, airplane 0.05, cat 0.03, 63.2ms\n",
            "image 544/586 /content/datasets/cifar10_bo-2/test/automobile/station_wagon_s_002689_png.rf.c31b90346a667cab4a32a1d2dbcf33a1.jpg: 224x224 automobile 0.39, truck 0.36, ship 0.07, cat 0.04, deer 0.04, 55.3ms\n",
            "image 545/586 /content/datasets/cifar10_bo-2/test/automobile/station_wagon_s_002724_png.rf.6c28b82317df580c9c2d7478bd3e286a.jpg: 224x224 automobile 0.50, truck 0.12, ship 0.10, airplane 0.10, cat 0.04, 58.5ms\n",
            "image 546/586 /content/datasets/cifar10_bo-2/test/automobile/station_wagon_s_002809_png.rf.263a5a6b37409bdd438011d3c72e74f8.jpg: 224x224 truck 0.54, automobile 0.11, ship 0.10, airplane 0.08, cat 0.04, 55.7ms\n",
            "image 547/586 /content/datasets/cifar10_bo-2/test/automobile/taxi_s_000022_png.rf.99c54b2b584e7fd7f6b35ab245072f13.jpg: 224x224 automobile 0.65, truck 0.07, ship 0.06, deer 0.04, airplane 0.04, 54.5ms\n",
            "image 548/586 /content/datasets/cifar10_bo-2/test/automobile/taxi_s_000758_png.rf.f2c61d92154c5156ac51238992c97247.jpg: 224x224 automobile 0.28, truck 0.20, cat 0.13, frog 0.09, ship 0.08, 58.0ms\n",
            "image 549/586 /content/datasets/cifar10_bo-2/test/automobile/taxi_s_000850_png.rf.883b5b73020014931f1d9aa2d9bd1008.jpg: 224x224 automobile 0.45, cat 0.16, ship 0.08, bird 0.07, dog 0.06, 58.0ms\n",
            "image 550/586 /content/datasets/cifar10_bo-2/test/automobile/taxi_s_000903_png.rf.17b25d9422e68d4a8aff84d3255427e4.jpg: 224x224 automobile 0.54, truck 0.18, ship 0.09, deer 0.04, airplane 0.03, 60.2ms\n",
            "image 551/586 /content/datasets/cifar10_bo-2/test/automobile/taxi_s_001075_png.rf.e99c314d3a194d2edd0777ec10d59f2d.jpg: 224x224 automobile 0.46, truck 0.22, ship 0.07, airplane 0.05, horse 0.05, 56.2ms\n",
            "image 552/586 /content/datasets/cifar10_bo-2/test/automobile/taxi_s_001283_png.rf.f7ad20b4df667c48612a6d5b43c6a444.jpg: 224x224 automobile 0.66, truck 0.06, deer 0.06, horse 0.04, bird 0.04, 56.5ms\n",
            "image 553/586 /content/datasets/cifar10_bo-2/test/automobile/taxi_s_001659_png.rf.d04ae5094844e31e14eb0062996a1075.jpg: 224x224 automobile 0.53, cat 0.09, truck 0.07, dog 0.06, horse 0.06, 54.3ms\n",
            "image 554/586 /content/datasets/cifar10_bo-2/test/automobile/taxi_s_001714_png.rf.36fb4cad6a4667fc07c4127f2e8b487b.jpg: 224x224 truck 0.43, automobile 0.23, ship 0.06, deer 0.06, cat 0.05, 59.9ms\n",
            "image 555/586 /content/datasets/cifar10_bo-2/test/automobile/taxi_s_002149_png.rf.de57fd45a6a0a5dc948753cac9cbb889.jpg: 224x224 automobile 0.59, deer 0.07, truck 0.06, ship 0.06, cat 0.05, 60.7ms\n",
            "image 556/586 /content/datasets/cifar10_bo-2/test/automobile/taxicab_s_000306_png.rf.02eba26852377cfa39a99eff48086cbe.jpg: 224x224 automobile 0.41, bird 0.12, ship 0.11, truck 0.07, frog 0.06, 57.4ms\n",
            "image 557/586 /content/datasets/cifar10_bo-2/test/automobile/taxicab_s_000486_png.rf.796c77aba387de62e42d6f5944665612.jpg: 224x224 automobile 0.59, truck 0.12, ship 0.11, airplane 0.04, cat 0.03, 56.1ms\n",
            "image 558/586 /content/datasets/cifar10_bo-2/test/automobile/taxicab_s_000987_png.rf.e7524a6b708630bb07d46719d5f41d9f.jpg: 224x224 automobile 0.66, truck 0.08, ship 0.06, deer 0.04, horse 0.03, 61.6ms\n",
            "image 559/586 /content/datasets/cifar10_bo-2/test/automobile/wagon_s_000192_png.rf.3e2a8da63482f501856440f416bb9047.jpg: 224x224 automobile 0.72, ship 0.05, cat 0.04, bird 0.04, airplane 0.03, 62.8ms\n",
            "image 560/586 /content/datasets/cifar10_bo-2/test/automobile/wagon_s_000221_png.rf.6abe34b1f89d85ca97b6ea63ec778162.jpg: 224x224 automobile 0.69, ship 0.06, frog 0.04, deer 0.04, bird 0.03, 59.7ms\n",
            "image 561/586 /content/datasets/cifar10_bo-2/test/automobile/wagon_s_000355_png.rf.aa2697df1a9d753d001b80ded8ad89c4.jpg: 224x224 automobile 0.76, truck 0.07, airplane 0.03, ship 0.03, cat 0.02, 78.0ms\n",
            "image 562/586 /content/datasets/cifar10_bo-2/test/automobile/wagon_s_000358_png.rf.b6d9af56c6630b2684b1b8e1bd133ed3.jpg: 224x224 automobile 0.60, truck 0.12, ship 0.06, cat 0.05, frog 0.04, 60.7ms\n",
            "image 563/586 /content/datasets/cifar10_bo-2/test/automobile/wagon_s_000501_png.rf.4b417bc46506192fa5dc1fd56f92da7f.jpg: 224x224 automobile 0.57, truck 0.16, ship 0.07, frog 0.06, airplane 0.03, 58.5ms\n",
            "image 564/586 /content/datasets/cifar10_bo-2/test/automobile/wagon_s_000679_png.rf.86149bcbae5e2043aa7eeb7268e8cd00.jpg: 224x224 automobile 0.52, truck 0.09, bird 0.07, cat 0.07, ship 0.06, 57.6ms\n",
            "image 565/586 /content/datasets/cifar10_bo-2/test/automobile/wagon_s_000719_png.rf.4a43e1292c27ab4481507257e82b4528.jpg: 224x224 automobile 0.38, truck 0.23, cat 0.10, airplane 0.07, frog 0.05, 57.8ms\n",
            "image 566/586 /content/datasets/cifar10_bo-2/test/automobile/wagon_s_000783_png.rf.784eae66b272b600d723d494a946bcc8.jpg: 224x224 automobile 0.52, cat 0.08, deer 0.07, bird 0.06, horse 0.06, 65.6ms\n",
            "image 567/586 /content/datasets/cifar10_bo-2/test/automobile/wagon_s_001031_png.rf.339251d706a77c2a088dae85bafd3e0f.jpg: 224x224 automobile 0.29, truck 0.25, airplane 0.15, cat 0.07, horse 0.06, 61.0ms\n",
            "image 568/586 /content/datasets/cifar10_bo-2/test/automobile/wagon_s_001083_png.rf.f0949a850ae492306c37b574828b4bb9.jpg: 224x224 automobile 0.53, bird 0.09, deer 0.06, ship 0.06, horse 0.06, 60.6ms\n",
            "image 569/586 /content/datasets/cifar10_bo-2/test/automobile/wagon_s_001290_png.rf.57f21b68dcd625f78ea1fd155cad877f.jpg: 224x224 automobile 0.34, truck 0.20, ship 0.13, airplane 0.11, deer 0.06, 60.1ms\n",
            "image 570/586 /content/datasets/cifar10_bo-2/test/automobile/wagon_s_001415_png.rf.46d45082d2d6b2d8dd11ed13f2998493.jpg: 224x224 automobile 0.43, truck 0.15, airplane 0.11, ship 0.09, bird 0.05, 65.7ms\n",
            "image 571/586 /content/datasets/cifar10_bo-2/test/automobile/wagon_s_001422_png.rf.3d66299e49f2529815162e176e53f863.jpg: 224x224 automobile 0.52, truck 0.13, ship 0.11, airplane 0.06, horse 0.04, 61.6ms\n",
            "image 572/586 /content/datasets/cifar10_bo-2/test/automobile/wagon_s_001463_png.rf.eda8c71b2e7b3dad6d0c1f8d1f05b2e3.jpg: 224x224 automobile 0.49, ship 0.11, airplane 0.07, bird 0.06, cat 0.05, 60.6ms\n",
            "image 573/586 /content/datasets/cifar10_bo-2/test/automobile/wagon_s_001543_png.rf.04a932f733d7dbb81ee652908153901d.jpg: 224x224 automobile 0.49, deer 0.10, frog 0.07, cat 0.07, truck 0.06, 59.4ms\n",
            "image 574/586 /content/datasets/cifar10_bo-2/test/automobile/wagon_s_001546_png.rf.b0d72481b09cd6398468ef20bb75cc98.jpg: 224x224 automobile 0.57, horse 0.07, cat 0.06, deer 0.05, bird 0.05, 60.0ms\n",
            "image 575/586 /content/datasets/cifar10_bo-2/test/automobile/wagon_s_001634_png.rf.2d77f7b05cc4df8b5d1986de6e865ec4.jpg: 224x224 automobile 0.38, truck 0.22, airplane 0.07, bird 0.07, ship 0.06, 68.4ms\n",
            "image 576/586 /content/datasets/cifar10_bo-2/test/automobile/wagon_s_001742_png.rf.0561595aef2515da1b5b003cdd0aecf5.jpg: 224x224 automobile 0.29, cat 0.16, truck 0.12, dog 0.09, frog 0.08, 57.8ms\n",
            "image 577/586 /content/datasets/cifar10_bo-2/test/automobile/wagon_s_001833_png.rf.964122e47c56e53bd5e7f2033cdc926b.jpg: 224x224 automobile 0.51, bird 0.09, ship 0.09, airplane 0.07, cat 0.06, 55.8ms\n",
            "image 578/586 /content/datasets/cifar10_bo-2/test/automobile/wagon_s_001836_png.rf.0d17a2109e684630eb5d0c1ff9276b49.jpg: 224x224 truck 0.36, automobile 0.23, bird 0.09, deer 0.06, ship 0.06, 62.2ms\n",
            "image 579/586 /content/datasets/cifar10_bo-2/test/automobile/wagon_s_002008_png.rf.c2db2a0075730376ede347b79994b1fc.jpg: 224x224 automobile 0.55, truck 0.21, dog 0.04, cat 0.03, airplane 0.03, 56.9ms\n",
            "image 580/586 /content/datasets/cifar10_bo-2/test/automobile/wagon_s_002049_png.rf.f6bef7a81dca3f8bd4e70210e8694945.jpg: 224x224 automobile 0.60, cat 0.07, truck 0.06, airplane 0.05, ship 0.04, 55.9ms\n",
            "image 581/586 /content/datasets/cifar10_bo-2/test/automobile/wagon_s_002140_png.rf.59fff7c673380d7acf814f936e7f122a.jpg: 224x224 automobile 0.45, cat 0.11, deer 0.10, ship 0.07, frog 0.07, 47.2ms\n",
            "image 582/586 /content/datasets/cifar10_bo-2/test/automobile/wagon_s_002306_png.rf.4501085c394cf910e030d62fee1111e3.jpg: 224x224 automobile 0.58, truck 0.14, airplane 0.05, ship 0.04, horse 0.04, 34.2ms\n",
            "image 583/586 /content/datasets/cifar10_bo-2/test/automobile/wagon_s_002542_png.rf.7831aff02048078f9775ef571bfc2e4e.jpg: 224x224 automobile 0.55, truck 0.12, deer 0.07, frog 0.06, bird 0.05, 40.5ms\n",
            "image 584/586 /content/datasets/cifar10_bo-2/test/automobile/wagon_s_002607_png.rf.62ae82bcd6454e4a79533da6fe7bcb66.jpg: 224x224 truck 0.47, airplane 0.16, automobile 0.08, ship 0.07, bird 0.05, 37.2ms\n",
            "image 585/586 /content/datasets/cifar10_bo-2/test/automobile/wagon_s_002638_png.rf.3225f22f1c56eabe2b6e116300648158.jpg: 224x224 truck 0.29, automobile 0.26, horse 0.13, cat 0.08, dog 0.05, 37.7ms\n",
            "image 586/586 /content/datasets/cifar10_bo-2/test/automobile/wagon_s_002706_png.rf.2cc4b0f4142dd667e5112bf037fad1e4.jpg: 224x224 automobile 0.67, cat 0.06, truck 0.06, bird 0.04, ship 0.04, 47.1ms\n",
            "Speed: 0.0ms pre-process, 42.7ms inference, 0.0ms NMS per image at shape (1, 3, 224, 224)\n",
            "Results saved to \u001b[1m../yolov5/runs/predict-cls/exp4\u001b[0m\n"
          ]
        }
      ]
    },
    {
      "cell_type": "markdown",
      "source": [
        "###YouTube Example"
      ],
      "metadata": {
        "id": "kCCao9t8se8i"
      }
    },
    {
      "cell_type": "code",
      "source": [
        "#YouTube infer\n",
        "!python classify/predict.py --weights runs/train-cls/exp/weights/best.pt --source 'https://www.youtube.com/watch?v=7AlYA4ItA74'"
      ],
      "metadata": {
        "id": "heebjpJBsakV"
      },
      "execution_count": null,
      "outputs": []
    },
    {
      "cell_type": "markdown",
      "source": [
        "EXTRA: Descargar la carpeta content"
      ],
      "metadata": {
        "id": "Rv5V8AP1xpGU"
      }
    },
    {
      "cell_type": "code",
      "source": [
        "import shutil\n",
        "from google.colab import files\n",
        "\n",
        "# Ruta de la carpeta que deseas comprimir\n",
        "source_folder = '/content'\n",
        "\n",
        "# Nombre del archivo ZIP que se generará\n",
        "output_zip = '/content/content.zip'\n",
        "\n",
        "# Comprimir la carpeta en un archivo ZIP\n",
        "shutil.make_archive(output_zip.replace('.zip', ''), 'zip', source_folder)"
      ],
      "metadata": {
        "id": "6d4_I0xaxsF9"
      },
      "execution_count": null,
      "outputs": []
    }
  ]
}